{
 "cells": [
  {
   "cell_type": "markdown",
   "metadata": {
    "deletable": false,
    "editable": false,
    "nbgrader": {
     "cell_type": "markdown",
     "checksum": "e1219b4f78c155605f762d99604b3f84",
     "grade": false,
     "grade_id": "cell-cce1441e92a92e59",
     "locked": true,
     "schema_version": 3,
     "solution": false,
     "task": false
    }
   },
   "source": [
    "University of Michigan - ROB 101 Computational Linear Algebra"
   ]
  },
  {
   "cell_type": "markdown",
   "metadata": {
    "deletable": false,
    "editable": false,
    "nbgrader": {
     "cell_type": "markdown",
     "checksum": "7aae1c640c508c1e900fc8476e28323c",
     "grade": false,
     "grade_id": "cell-42df9f51415be180",
     "locked": true,
     "schema_version": 3,
     "solution": false,
     "task": false
    }
   },
   "source": [
    "# Homework 1: How to use Julia as a Calculator\n",
    "### Due: 9/10 at 9 pm Eastern Time\n",
    "\n",
    "#### Pupose:  Use Julia Programming to solve mathematical problems\n",
    "- Skills:\n",
    "    - Writing and reading code\n",
    "    - Simplifying tasks with computer programs\n",
    "- Knowledge to be gained:\n",
    "    - Basic math commands\n",
    "    - Types of variables in Julia\n",
    "    - Declaring and plotting functions\n",
    "    \n",
    "#### Task:\n",
    "Welcome to your first jupyter notebook assignment!  To complete this assignment, fill in your code as instructed.  \n",
    "\n",
    "Anywhere you see a \"throw(ErrorException())\", delete that line, and replace it with your own code.  Once you submit your assignment, it will be auto-graded using the the code you added.  These auto-grader cells will sometimes be visible to you, as a way for you to check your code before submitting the assignment.  \n",
    "\n",
    "Sometimes, you will have to complete tasks which don't have the \"throw(ErrorException())\".  In that case, follow the instructions in the cell, and email your teachers if you have questions.  Some cells do not have any tasks for you, but are either there for you to play with, or necessary structures for some of the programming.  \n",
    "\n",
    "\n",
    "## Julia can be even more powerful than a graphing calculator if you know how to use it!\n",
    "\n",
    "\n",
    "The Basics:\n",
    "Arithmetic Operations!"
   ]
  },
  {
   "cell_type": "code",
   "execution_count": 3,
   "metadata": {},
   "outputs": [
    {
     "data": {
      "text/plain": [
       "11.620000000000001"
      ]
     },
     "execution_count": 3,
     "metadata": {},
     "output_type": "execute_result"
    }
   ],
   "source": [
    "#in a code cell, julia will compute and return operations you do inside it\n",
    "4+7.62\n",
    "#here is some basic addition"
   ]
  },
  {
   "cell_type": "code",
   "execution_count": 4,
   "metadata": {},
   "outputs": [
    {
     "data": {
      "text/plain": [
       "0.666666666666667"
      ]
     },
     "execution_count": 4,
     "metadata": {},
     "output_type": "execute_result"
    }
   ],
   "source": [
    "#this works the same way for addition(+), subtraction(-), multiplication(*), division(/) and exponentials(^)\n",
    "\n",
    "4+2/3-1*4\n",
    "\n",
    "#Julia also has a backwards division operator (\\) to divide the left by the right\n",
    "#and a (%) modulo operator, which returns the remainder from a division operation"
   ]
  },
  {
   "cell_type": "markdown",
   "metadata": {
    "deletable": false,
    "editable": false,
    "nbgrader": {
     "cell_type": "markdown",
     "checksum": "faa88db86b64e1b2492ea51ee756ad49",
     "grade": false,
     "grade_id": "cell-47de29a639e5f315",
     "locked": true,
     "schema_version": 3,
     "solution": false,
     "task": false
    }
   },
   "source": [
    "**Notice: Julia will do arithmetic operations in an order that follows PEMDAS**\n",
    "1. Parenthesis\n",
    "2. Exponentials (right to left)\n",
    "3. Multiplication and Division (left to right)\n",
    "4. Addition and Subrtraction(left to right)\n",
    "\n",
    "Order of operations is extremely important, and can cause errors in your code so PAY ATTENTION!\n",
    "\n",
    "### Problem 1.  Place two sets of parentheses in the below expression to make x equal to 50"
   ]
  },
  {
   "cell_type": "code",
   "execution_count": 5,
   "metadata": {},
   "outputs": [
    {
     "data": {
      "text/plain": [
       "50.0"
      ]
     },
     "execution_count": 5,
     "metadata": {},
     "output_type": "execute_result"
    }
   ],
   "source": [
    "#place your parenthesis here\n",
    "x = (4+ 5/(2+3) + 2)^2 +1\n"
   ]
  },
  {
   "cell_type": "code",
   "execution_count": 6,
   "metadata": {
    "deletable": false,
    "editable": false,
    "nbgrader": {
     "cell_type": "code",
     "checksum": "70747466541e980a4559c4f4abb4925d",
     "grade": true,
     "grade_id": "problem1test",
     "locked": true,
     "points": 5,
     "schema_version": 3,
     "solution": false,
     "task": false
    }
   },
   "outputs": [],
   "source": [
    "#This is an autograder cell\n",
    "@assert x == 50"
   ]
  },
  {
   "cell_type": "markdown",
   "metadata": {
    "deletable": false,
    "editable": false,
    "nbgrader": {
     "cell_type": "markdown",
     "checksum": "848876c67a4fa7b26eb5617b67dd0a44",
     "grade": false,
     "grade_id": "cell-e700f01bf29416a2",
     "locked": true,
     "schema_version": 3,
     "solution": false,
     "task": false
    }
   },
   "source": [
    "**Julia also has many built in functions:**\n",
    "\n",
    "- round() #rounds to nearest integer\n",
    "- ceil() #rounds up\n",
    "- floor() #rounds down\n",
    "- trunc() #chops off anything beyond decimal point\n",
    "- abs() #absolute value\n",
    "- sin(), cos(), tan()  and asin(), acos(), atan()  #many more trigonometric functions\n",
    "- sqrt() #square root\n",
    "- exp()  #natural exponential e^x\n",
    "- log() #natural logarithm\n",
    "\n",
    "and so many more: https://docs.julialang.org/en/v1/manual/mathematical-operations/\n",
    "\n",
    "Note: These operations will only work on numbers! In each cell, hit shift return"
   ]
  },
  {
   "cell_type": "code",
   "execution_count": 7,
   "metadata": {
    "deletable": false,
    "editable": false,
    "nbgrader": {
     "cell_type": "code",
     "checksum": "7b92ebf94659f47d1fed4b767662badd",
     "grade": false,
     "grade_id": "cell-c956c50b93815794",
     "locked": true,
     "schema_version": 3,
     "solution": false,
     "task": false
    }
   },
   "outputs": [
    {
     "data": {
      "text/plain": [
       "1.2246467991473532e-16"
      ]
     },
     "execution_count": 7,
     "metadata": {},
     "output_type": "execute_result"
    }
   ],
   "source": [
    "sin(pi)  #It assumes radians and not degrees"
   ]
  },
  {
   "cell_type": "code",
   "execution_count": 8,
   "metadata": {
    "deletable": false,
    "editable": false,
    "nbgrader": {
     "cell_type": "code",
     "checksum": "2c41ded914a9b5baa8601c9e784441b9",
     "grade": false,
     "grade_id": "cell-202ddea9fa3b84e7",
     "locked": true,
     "schema_version": 3,
     "solution": false,
     "task": false
    }
   },
   "outputs": [
    {
     "data": {
      "text/plain": [
       "12.0"
      ]
     },
     "execution_count": 8,
     "metadata": {},
     "output_type": "execute_result"
    }
   ],
   "source": [
    "sqrt(144)  #yep, the usual square root of a number"
   ]
  },
  {
   "cell_type": "code",
   "execution_count": 9,
   "metadata": {
    "deletable": false,
    "editable": false,
    "nbgrader": {
     "cell_type": "code",
     "checksum": "fc0e6aef485da6318b27167cc054929d",
     "grade": false,
     "grade_id": "cell-fe6b0151ea814f70",
     "locked": true,
     "schema_version": 3,
     "solution": false,
     "task": false
    }
   },
   "outputs": [
    {
     "ename": "LoadError",
     "evalue": "MethodError: no method matching abs(::String)\n\u001b[0mClosest candidates are:\n\u001b[0m  abs(\u001b[91m::X\u001b[39m) where X<:FixedPointNumbers.FixedPoint at C:\\Users\\mujta\\.julia\\packages\\FixedPointNumbers\\HAGk2\\src\\FixedPointNumbers.jl:232\n\u001b[0m  abs(\u001b[91m::T\u001b[39m) where T<:GeometryBasics.OffsetInteger at C:\\Users\\mujta\\.julia\\packages\\GeometryBasics\\qasyR\\src\\offsetintegers.jl:58\n\u001b[0m  abs(\u001b[91m::Signed\u001b[39m) at int.jl:170\n\u001b[0m  ...",
     "output_type": "error",
     "traceback": [
      "MethodError: no method matching abs(::String)\n\u001b[0mClosest candidates are:\n\u001b[0m  abs(\u001b[91m::X\u001b[39m) where X<:FixedPointNumbers.FixedPoint at C:\\Users\\mujta\\.julia\\packages\\FixedPointNumbers\\HAGk2\\src\\FixedPointNumbers.jl:232\n\u001b[0m  abs(\u001b[91m::T\u001b[39m) where T<:GeometryBasics.OffsetInteger at C:\\Users\\mujta\\.julia\\packages\\GeometryBasics\\qasyR\\src\\offsetintegers.jl:58\n\u001b[0m  abs(\u001b[91m::Signed\u001b[39m) at int.jl:170\n\u001b[0m  ...",
      "",
      "Stacktrace:",
      " [1] top-level scope",
      "   @ In[9]:1",
      " [2] eval",
      "   @ .\\boot.jl:360 [inlined]",
      " [3] include_string(mapexpr::typeof(REPL.softscope), mod::Module, code::String, filename::String)",
      "   @ Base .\\loading.jl:1094"
     ]
    }
   ],
   "source": [
    "abs(\"hello\")  #be prepared for an error!"
   ]
  },
  {
   "cell_type": "markdown",
   "metadata": {
    "deletable": false,
    "editable": false,
    "nbgrader": {
     "cell_type": "markdown",
     "checksum": "99a5699ac0c47b54498a981c534d3b35",
     "grade": false,
     "grade_id": "cell-339b058b2acfbcad",
     "locked": true,
     "schema_version": 3,
     "solution": false,
     "task": false
    }
   },
   "source": [
    "Note: This doesn't work because \"hello\" is the wrong type of data.\n",
    "\n",
    "**Every piece of data in Julia has a \"Type\"**\n",
    "\n",
    "What is a data type? I think you would be comfortable saying that numbers are different from letters. So, they should be treated differently when you work with them. Similary, a single letter is different than a sentence. \n",
    "\n",
    "So far, so good? \n",
    "\n",
    "Here is where programming languages are different than calculators: you may not have to think about numbers such as 1, 2, 3, 4, .... differently than 0.7, sqrt(2), pi, but Julia does have to handle them differently. \n",
    "\n",
    "Why? Just to make your life miserable? Not really. \n",
    "\n",
    "Computers have a limited amount of memory (zeros and ones) available to represent a number. If the computer knows that the number does not require a decimal point (as in -7, 0, 1, 45, etc,) then it can store it very compactly and hence store enormously large numbers of the non-decimal TYPE. If the number requires a decimal to express it properly (such as pi, sqrt(2), 0.6) then Julia will store it in a different format. In Julia, formats are determined by TYPES.\n",
    "\n",
    "We will mostly use 4 of these TYPES:\n",
    "- Int64:  Integers (numbers without decimal points in them)\n",
    "- Float64: Floating point numbers (numbers that require decimal points)\n",
    "- Char:  Any character you can type on a keyboard, or fancy characters like 复, 制, ¤, Ð, or ϐ (declared inside ' ')\n",
    "- String: A bunch of characters in a line.  (This could be a word, or a sentence, or even a number that is in \" \")\n",
    "\n",
    "You don't usually have to worry about types because Julia will automatically choose a type that works best.  But, should you get a MethodError like the one above, check which type you are using.\n",
    "\n",
    "If you want to know more about types in Julia: https://docs.julialang.org/en/v1/manual/types/"
   ]
  },
  {
   "cell_type": "markdown",
   "metadata": {
    "deletable": false,
    "editable": false,
    "nbgrader": {
     "cell_type": "markdown",
     "checksum": "fcc7852cf0889b68894276add6776a52",
     "grade": false,
     "grade_id": "cell-84ec179c1fa584c3",
     "locked": true,
     "schema_version": 3,
     "solution": false,
     "task": false
    }
   },
   "source": [
    "**Solving and graphing your own functions**\n",
    "\n",
    "Julia can also help solve any equation that you input.  There are two main ways to declare a function in Julia.\n",
    "\n",
    "Let's practice with the basic linear function:  \n",
    "                                                y = 2x \n",
    "\n",
    "The first one is the most simple:"
   ]
  },
  {
   "cell_type": "code",
   "execution_count": 10,
   "metadata": {},
   "outputs": [
    {
     "data": {
      "text/plain": [
       "6"
      ]
     },
     "execution_count": 10,
     "metadata": {},
     "output_type": "execute_result"
    }
   ],
   "source": [
    "f(x) = 2x\n",
    "\n",
    "#now that we have it declared, we can plug in values of x\n",
    "f(3)"
   ]
  },
  {
   "cell_type": "markdown",
   "metadata": {
    "deletable": false,
    "editable": false,
    "nbgrader": {
     "cell_type": "markdown",
     "checksum": "522b33b103c8a60c9f0464e68f6161ea",
     "grade": false,
     "grade_id": "cell-554847fe6f346f7d",
     "locked": true,
     "schema_version": 3,
     "solution": false,
     "task": false
    }
   },
   "source": [
    "Now, we want to plot this function, to see where it's solutions are."
   ]
  },
  {
   "cell_type": "code",
   "execution_count": 11,
   "metadata": {
    "deletable": false,
    "editable": false,
    "nbgrader": {
     "cell_type": "code",
     "checksum": "7cc9b2edf24e24fbe16c03d30498c3ca",
     "grade": false,
     "grade_id": "cell-dd48daa9716b336c",
     "locked": true,
     "schema_version": 3,
     "solution": false,
     "task": false
    }
   },
   "outputs": [
    {
     "data": {
      "text/plain": [
       "Plots.GRBackend()"
      ]
     },
     "execution_count": 11,
     "metadata": {},
     "output_type": "execute_result"
    }
   ],
   "source": [
    "#These lines give Julia the ability to plot functions.  This may take a while, but it is necessary.\n",
    "# When you see [*], that means Julia is working hard to do what you told it. Your commands may take just a few \n",
    "# lines, but Julia is probably dealing with multiple megabytes of files and code, all of which is hidden from us. \n",
    "using Plots\n",
    "gr()"
   ]
  },
  {
   "cell_type": "code",
   "execution_count": 12,
   "metadata": {},
   "outputs": [
    {
     "data": {
      "image/svg+xml": [
       "<?xml version=\"1.0\" encoding=\"utf-8\"?>\n",
       "<svg xmlns=\"http://www.w3.org/2000/svg\" xmlns:xlink=\"http://www.w3.org/1999/xlink\" width=\"600\" height=\"400\" viewBox=\"0 0 2400 1600\">\n",
       "<defs>\n",
       "  <clipPath id=\"clip340\">\n",
       "    <rect x=\"0\" y=\"0\" width=\"2400\" height=\"1600\"/>\n",
       "  </clipPath>\n",
       "</defs>\n",
       "<path clip-path=\"url(#clip340)\" d=\"\n",
       "M0 1600 L2400 1600 L2400 0 L0 0  Z\n",
       "  \" fill=\"#ffffff\" fill-rule=\"evenodd\" fill-opacity=\"1\"/>\n",
       "<defs>\n",
       "  <clipPath id=\"clip341\">\n",
       "    <rect x=\"480\" y=\"0\" width=\"1681\" height=\"1600\"/>\n",
       "  </clipPath>\n",
       "</defs>\n",
       "<path clip-path=\"url(#clip340)\" d=\"\n",
       "M178.867 1486.45 L2352.76 1486.45 L2352.76 47.2441 L178.867 47.2441  Z\n",
       "  \" fill=\"#ffffff\" fill-rule=\"evenodd\" fill-opacity=\"1\"/>\n",
       "<defs>\n",
       "  <clipPath id=\"clip342\">\n",
       "    <rect x=\"178\" y=\"47\" width=\"2175\" height=\"1440\"/>\n",
       "  </clipPath>\n",
       "</defs>\n",
       "<polyline clip-path=\"url(#clip342)\" style=\"stroke:#000000; stroke-width:2; stroke-opacity:0.1; fill:none\" points=\"\n",
       "  445.476,1486.45 445.476,47.2441 \n",
       "  \"/>\n",
       "<polyline clip-path=\"url(#clip342)\" style=\"stroke:#000000; stroke-width:2; stroke-opacity:0.1; fill:none\" points=\"\n",
       "  855.643,1486.45 855.643,47.2441 \n",
       "  \"/>\n",
       "<polyline clip-path=\"url(#clip342)\" style=\"stroke:#000000; stroke-width:2; stroke-opacity:0.1; fill:none\" points=\"\n",
       "  1265.81,1486.45 1265.81,47.2441 \n",
       "  \"/>\n",
       "<polyline clip-path=\"url(#clip342)\" style=\"stroke:#000000; stroke-width:2; stroke-opacity:0.1; fill:none\" points=\"\n",
       "  1675.98,1486.45 1675.98,47.2441 \n",
       "  \"/>\n",
       "<polyline clip-path=\"url(#clip342)\" style=\"stroke:#000000; stroke-width:2; stroke-opacity:0.1; fill:none\" points=\"\n",
       "  2086.15,1486.45 2086.15,47.2441 \n",
       "  \"/>\n",
       "<polyline clip-path=\"url(#clip340)\" style=\"stroke:#000000; stroke-width:4; stroke-opacity:1; fill:none\" points=\"\n",
       "  178.867,1486.45 2352.76,1486.45 \n",
       "  \"/>\n",
       "<polyline clip-path=\"url(#clip340)\" style=\"stroke:#000000; stroke-width:4; stroke-opacity:1; fill:none\" points=\"\n",
       "  445.476,1486.45 445.476,1469.18 \n",
       "  \"/>\n",
       "<polyline clip-path=\"url(#clip340)\" style=\"stroke:#000000; stroke-width:4; stroke-opacity:1; fill:none\" points=\"\n",
       "  855.643,1486.45 855.643,1469.18 \n",
       "  \"/>\n",
       "<polyline clip-path=\"url(#clip340)\" style=\"stroke:#000000; stroke-width:4; stroke-opacity:1; fill:none\" points=\"\n",
       "  1265.81,1486.45 1265.81,1469.18 \n",
       "  \"/>\n",
       "<polyline clip-path=\"url(#clip340)\" style=\"stroke:#000000; stroke-width:4; stroke-opacity:1; fill:none\" points=\"\n",
       "  1675.98,1486.45 1675.98,1469.18 \n",
       "  \"/>\n",
       "<polyline clip-path=\"url(#clip340)\" style=\"stroke:#000000; stroke-width:4; stroke-opacity:1; fill:none\" points=\"\n",
       "  2086.15,1486.45 2086.15,1469.18 \n",
       "  \"/>\n",
       "<path clip-path=\"url(#clip340)\" d=\"M 0 0 M414.376 1530.29 L444.052 1530.29 L444.052 1534.23 L414.376 1534.23 L414.376 1530.29 Z\" fill=\"#000000\" fill-rule=\"evenodd\" fill-opacity=\"1\" /><path clip-path=\"url(#clip340)\" d=\"M 0 0 M466.992 1516.63 L455.186 1535.08 L466.992 1535.08 L466.992 1516.63 M465.765 1512.56 L471.645 1512.56 L471.645 1535.08 L476.575 1535.08 L476.575 1538.97 L471.645 1538.97 L471.645 1547.12 L466.992 1547.12 L466.992 1538.97 L451.39 1538.97 L451.39 1534.46 L465.765 1512.56 Z\" fill=\"#000000\" fill-rule=\"evenodd\" fill-opacity=\"1\" /><path clip-path=\"url(#clip340)\" d=\"M 0 0 M825.586 1530.29 L855.262 1530.29 L855.262 1534.23 L825.586 1534.23 L825.586 1530.29 Z\" fill=\"#000000\" fill-rule=\"evenodd\" fill-opacity=\"1\" /><path clip-path=\"url(#clip340)\" d=\"M 0 0 M869.382 1543.18 L885.701 1543.18 L885.701 1547.12 L863.757 1547.12 L863.757 1543.18 Q866.419 1540.43 871.002 1535.8 Q875.609 1531.15 876.789 1529.81 Q879.035 1527.28 879.914 1525.55 Q880.817 1523.79 880.817 1522.1 Q880.817 1519.34 878.873 1517.61 Q876.951 1515.87 873.849 1515.87 Q871.65 1515.87 869.197 1516.63 Q866.766 1517.4 863.988 1518.95 L863.988 1514.23 Q866.812 1513.09 869.266 1512.51 Q871.72 1511.93 873.757 1511.93 Q879.127 1511.93 882.322 1514.62 Q885.516 1517.31 885.516 1521.8 Q885.516 1523.93 884.706 1525.85 Q883.919 1527.74 881.812 1530.34 Q881.234 1531.01 878.132 1534.23 Q875.03 1537.42 869.382 1543.18 Z\" fill=\"#000000\" fill-rule=\"evenodd\" fill-opacity=\"1\" /><path clip-path=\"url(#clip340)\" d=\"M 0 0 M1265.81 1515.64 Q1262.2 1515.64 1260.37 1519.2 Q1258.57 1522.75 1258.57 1529.87 Q1258.57 1536.98 1260.37 1540.55 Q1262.2 1544.09 1265.81 1544.09 Q1269.45 1544.09 1271.25 1540.55 Q1273.08 1536.98 1273.08 1529.87 Q1273.08 1522.75 1271.25 1519.2 Q1269.45 1515.64 1265.81 1515.64 M1265.81 1511.93 Q1271.62 1511.93 1274.68 1516.54 Q1277.76 1521.12 1277.76 1529.87 Q1277.76 1538.6 1274.68 1543.21 Q1271.62 1547.79 1265.81 1547.79 Q1260 1547.79 1256.92 1543.21 Q1253.87 1538.6 1253.87 1529.87 Q1253.87 1521.12 1256.92 1516.54 Q1260 1511.93 1265.81 1511.93 Z\" fill=\"#000000\" fill-rule=\"evenodd\" fill-opacity=\"1\" /><path clip-path=\"url(#clip340)\" d=\"M 0 0 M1670.63 1543.18 L1686.95 1543.18 L1686.95 1547.12 L1665.01 1547.12 L1665.01 1543.18 Q1667.67 1540.43 1672.25 1535.8 Q1676.86 1531.15 1678.04 1529.81 Q1680.28 1527.28 1681.16 1525.55 Q1682.07 1523.79 1682.07 1522.1 Q1682.07 1519.34 1680.12 1517.61 Q1678.2 1515.87 1675.1 1515.87 Q1672.9 1515.87 1670.45 1516.63 Q1668.02 1517.4 1665.24 1518.95 L1665.24 1514.23 Q1668.06 1513.09 1670.52 1512.51 Q1672.97 1511.93 1675.01 1511.93 Q1680.38 1511.93 1683.57 1514.62 Q1686.77 1517.31 1686.77 1521.8 Q1686.77 1523.93 1685.96 1525.85 Q1685.17 1527.74 1683.06 1530.34 Q1682.48 1531.01 1679.38 1534.23 Q1676.28 1537.42 1670.63 1543.18 Z\" fill=\"#000000\" fill-rule=\"evenodd\" fill-opacity=\"1\" /><path clip-path=\"url(#clip340)\" d=\"M 0 0 M2089.16 1516.63 L2077.35 1535.08 L2089.16 1535.08 L2089.16 1516.63 M2087.93 1512.56 L2093.81 1512.56 L2093.81 1535.08 L2098.74 1535.08 L2098.74 1538.97 L2093.81 1538.97 L2093.81 1547.12 L2089.16 1547.12 L2089.16 1538.97 L2073.55 1538.97 L2073.55 1534.46 L2087.93 1512.56 Z\" fill=\"#000000\" fill-rule=\"evenodd\" fill-opacity=\"1\" /><polyline clip-path=\"url(#clip342)\" style=\"stroke:#000000; stroke-width:2; stroke-opacity:0.1; fill:none\" points=\"\n",
       "  178.867,1445.72 2352.76,1445.72 \n",
       "  \"/>\n",
       "<polyline clip-path=\"url(#clip342)\" style=\"stroke:#000000; stroke-width:2; stroke-opacity:0.1; fill:none\" points=\"\n",
       "  178.867,1106.28 2352.76,1106.28 \n",
       "  \"/>\n",
       "<polyline clip-path=\"url(#clip342)\" style=\"stroke:#000000; stroke-width:2; stroke-opacity:0.1; fill:none\" points=\"\n",
       "  178.867,766.846 2352.76,766.846 \n",
       "  \"/>\n",
       "<polyline clip-path=\"url(#clip342)\" style=\"stroke:#000000; stroke-width:2; stroke-opacity:0.1; fill:none\" points=\"\n",
       "  178.867,427.411 2352.76,427.411 \n",
       "  \"/>\n",
       "<polyline clip-path=\"url(#clip342)\" style=\"stroke:#000000; stroke-width:2; stroke-opacity:0.1; fill:none\" points=\"\n",
       "  178.867,87.9763 2352.76,87.9763 \n",
       "  \"/>\n",
       "<polyline clip-path=\"url(#clip340)\" style=\"stroke:#000000; stroke-width:4; stroke-opacity:1; fill:none\" points=\"\n",
       "  178.867,1486.45 178.867,47.2441 \n",
       "  \"/>\n",
       "<polyline clip-path=\"url(#clip340)\" style=\"stroke:#000000; stroke-width:4; stroke-opacity:1; fill:none\" points=\"\n",
       "  178.867,1445.72 204.953,1445.72 \n",
       "  \"/>\n",
       "<polyline clip-path=\"url(#clip340)\" style=\"stroke:#000000; stroke-width:4; stroke-opacity:1; fill:none\" points=\"\n",
       "  178.867,1106.28 204.953,1106.28 \n",
       "  \"/>\n",
       "<polyline clip-path=\"url(#clip340)\" style=\"stroke:#000000; stroke-width:4; stroke-opacity:1; fill:none\" points=\"\n",
       "  178.867,766.846 204.953,766.846 \n",
       "  \"/>\n",
       "<polyline clip-path=\"url(#clip340)\" style=\"stroke:#000000; stroke-width:4; stroke-opacity:1; fill:none\" points=\"\n",
       "  178.867,427.411 204.953,427.411 \n",
       "  \"/>\n",
       "<polyline clip-path=\"url(#clip340)\" style=\"stroke:#000000; stroke-width:4; stroke-opacity:1; fill:none\" points=\"\n",
       "  178.867,87.9763 204.953,87.9763 \n",
       "  \"/>\n",
       "<path clip-path=\"url(#clip340)\" d=\"M 0 0 M50.9921 1446.17 L80.6679 1446.17 L80.6679 1450.1 L50.9921 1450.1 L50.9921 1446.17 Z\" fill=\"#000000\" fill-rule=\"evenodd\" fill-opacity=\"1\" /><path clip-path=\"url(#clip340)\" d=\"M 0 0 M91.5706 1459.06 L99.2095 1459.06 L99.2095 1432.69 L90.8993 1434.36 L90.8993 1430.1 L99.1632 1428.44 L103.839 1428.44 L103.839 1459.06 L111.478 1459.06 L111.478 1463 L91.5706 1463 L91.5706 1459.06 Z\" fill=\"#000000\" fill-rule=\"evenodd\" fill-opacity=\"1\" /><path clip-path=\"url(#clip340)\" d=\"M 0 0 M130.922 1431.51 Q127.311 1431.51 125.482 1435.08 Q123.677 1438.62 123.677 1445.75 Q123.677 1452.86 125.482 1456.42 Q127.311 1459.96 130.922 1459.96 Q134.556 1459.96 136.362 1456.42 Q138.191 1452.86 138.191 1445.75 Q138.191 1438.62 136.362 1435.08 Q134.556 1431.51 130.922 1431.51 M130.922 1427.81 Q136.732 1427.81 139.788 1432.42 Q142.867 1437 142.867 1445.75 Q142.867 1454.48 139.788 1459.08 Q136.732 1463.67 130.922 1463.67 Q125.112 1463.67 122.033 1459.08 Q118.978 1454.48 118.978 1445.75 Q118.978 1437 122.033 1432.42 Q125.112 1427.81 130.922 1427.81 Z\" fill=\"#000000\" fill-rule=\"evenodd\" fill-opacity=\"1\" /><path clip-path=\"url(#clip340)\" d=\"M 0 0 M82.1494 1106.73 L111.825 1106.73 L111.825 1110.67 L82.1494 1110.67 L82.1494 1106.73 Z\" fill=\"#000000\" fill-rule=\"evenodd\" fill-opacity=\"1\" /><path clip-path=\"url(#clip340)\" d=\"M 0 0 M121.964 1089 L140.32 1089 L140.32 1092.94 L126.246 1092.94 L126.246 1101.41 Q127.265 1101.06 128.283 1100.9 Q129.302 1100.71 130.32 1100.71 Q136.107 1100.71 139.487 1103.89 Q142.867 1107.06 142.867 1112.47 Q142.867 1118.05 139.394 1121.15 Q135.922 1124.23 129.603 1124.23 Q127.427 1124.23 125.158 1123.86 Q122.913 1123.49 120.506 1122.75 L120.506 1118.05 Q122.589 1119.19 124.811 1119.74 Q127.033 1120.3 129.51 1120.3 Q133.515 1120.3 135.853 1118.19 Q138.191 1116.08 138.191 1112.47 Q138.191 1108.86 135.853 1106.76 Q133.515 1104.65 129.51 1104.65 Q127.635 1104.65 125.76 1105.07 Q123.908 1105.48 121.964 1106.36 L121.964 1089 Z\" fill=\"#000000\" fill-rule=\"evenodd\" fill-opacity=\"1\" /><path clip-path=\"url(#clip340)\" d=\"M 0 0 M130.922 752.645 Q127.311 752.645 125.482 756.209 Q123.677 759.751 123.677 766.881 Q123.677 773.987 125.482 777.552 Q127.311 781.094 130.922 781.094 Q134.556 781.094 136.362 777.552 Q138.191 773.987 138.191 766.881 Q138.191 759.751 136.362 756.209 Q134.556 752.645 130.922 752.645 M130.922 748.941 Q136.732 748.941 139.788 753.547 Q142.867 758.131 142.867 766.881 Q142.867 775.608 139.788 780.214 Q136.732 784.797 130.922 784.797 Q125.112 784.797 122.033 780.214 Q118.978 775.608 118.978 766.881 Q118.978 758.131 122.033 753.547 Q125.112 748.941 130.922 748.941 Z\" fill=\"#000000\" fill-rule=\"evenodd\" fill-opacity=\"1\" /><path clip-path=\"url(#clip340)\" d=\"M 0 0 M121.964 410.131 L140.32 410.131 L140.32 414.066 L126.246 414.066 L126.246 422.538 Q127.265 422.191 128.283 422.029 Q129.302 421.844 130.32 421.844 Q136.107 421.844 139.487 425.015 Q142.867 428.187 142.867 433.603 Q142.867 439.182 139.394 442.284 Q135.922 445.362 129.603 445.362 Q127.427 445.362 125.158 444.992 Q122.913 444.622 120.506 443.881 L120.506 439.182 Q122.589 440.316 124.811 440.872 Q127.033 441.427 129.51 441.427 Q133.515 441.427 135.853 439.321 Q138.191 437.214 138.191 433.603 Q138.191 429.992 135.853 427.886 Q133.515 425.779 129.51 425.779 Q127.635 425.779 125.76 426.196 Q123.908 426.613 121.964 427.492 L121.964 410.131 Z\" fill=\"#000000\" fill-rule=\"evenodd\" fill-opacity=\"1\" /><path clip-path=\"url(#clip340)\" d=\"M 0 0 M91.5706 101.321 L99.2095 101.321 L99.2095 74.9555 L90.8993 76.6222 L90.8993 72.3629 L99.1632 70.6963 L103.839 70.6963 L103.839 101.321 L111.478 101.321 L111.478 105.256 L91.5706 105.256 L91.5706 101.321 Z\" fill=\"#000000\" fill-rule=\"evenodd\" fill-opacity=\"1\" /><path clip-path=\"url(#clip340)\" d=\"M 0 0 M130.922 73.775 Q127.311 73.775 125.482 77.3398 Q123.677 80.8814 123.677 88.011 Q123.677 95.1174 125.482 98.6822 Q127.311 102.224 130.922 102.224 Q134.556 102.224 136.362 98.6822 Q138.191 95.1174 138.191 88.011 Q138.191 80.8814 136.362 77.3398 Q134.556 73.775 130.922 73.775 M130.922 70.0713 Q136.732 70.0713 139.788 74.6777 Q142.867 79.261 142.867 88.011 Q142.867 96.7378 139.788 101.344 Q136.732 105.928 130.922 105.928 Q125.112 105.928 122.033 101.344 Q118.978 96.7378 118.978 88.011 Q118.978 79.261 122.033 74.6777 Q125.112 70.0713 130.922 70.0713 Z\" fill=\"#000000\" fill-rule=\"evenodd\" fill-opacity=\"1\" /><polyline clip-path=\"url(#clip342)\" style=\"stroke:#009af9; stroke-width:4; stroke-opacity:1; fill:none\" points=\"\n",
       "  240.392,1445.72 260.42,1432.46 445.609,1309.85 556.9,1236.17 650.995,1173.88 753.208,1106.21 847.44,1043.82 948.466,976.941 1065.52,899.45 1169.53,830.585 \n",
       "  1260.75,770.196 1360.2,704.357 1460.24,638.126 1570.85,564.899 1676.09,495.226 1785.51,422.781 1877.63,361.799 1990.09,287.346 2095.8,217.358 2265.17,105.232 \n",
       "  2291.23,87.9763 \n",
       "  \"/>\n",
       "<path clip-path=\"url(#clip340)\" d=\"\n",
       "M1986.32 216.178 L2280.29 216.178 L2280.29 95.2176 L1986.32 95.2176  Z\n",
       "  \" fill=\"#ffffff\" fill-rule=\"evenodd\" fill-opacity=\"1\"/>\n",
       "<polyline clip-path=\"url(#clip340)\" style=\"stroke:#000000; stroke-width:4; stroke-opacity:1; fill:none\" points=\"\n",
       "  1986.32,216.178 2280.29,216.178 2280.29,95.2176 1986.32,95.2176 1986.32,216.178 \n",
       "  \"/>\n",
       "<polyline clip-path=\"url(#clip340)\" style=\"stroke:#009af9; stroke-width:4; stroke-opacity:1; fill:none\" points=\"\n",
       "  2010.47,155.698 2155.4,155.698 \n",
       "  \"/>\n",
       "<path clip-path=\"url(#clip340)\" d=\"M 0 0 M2193.4 175.385 Q2191.59 180.015 2189.88 181.427 Q2188.17 182.839 2185.29 182.839 L2181.89 182.839 L2181.89 179.274 L2184.39 179.274 Q2186.15 179.274 2187.12 178.44 Q2188.1 177.607 2189.28 174.505 L2190.04 172.561 L2179.55 147.052 L2184.07 147.052 L2192.17 167.329 L2200.27 147.052 L2204.79 147.052 L2193.4 175.385 Z\" fill=\"#000000\" fill-rule=\"evenodd\" fill-opacity=\"1\" /><path clip-path=\"url(#clip340)\" d=\"M 0 0 M2212.08 169.042 L2219.72 169.042 L2219.72 142.677 L2211.41 144.343 L2211.41 140.084 L2219.67 138.418 L2224.35 138.418 L2224.35 169.042 L2231.98 169.042 L2231.98 172.978 L2212.08 172.978 L2212.08 169.042 Z\" fill=\"#000000\" fill-rule=\"evenodd\" fill-opacity=\"1\" /></svg>\n"
      ]
     },
     "execution_count": 12,
     "metadata": {},
     "output_type": "execute_result"
    }
   ],
   "source": [
    "#now, we can use the plot() function\n",
    "plot(f, -5, 5)  #f will be plotted over an x range of -5 to 5"
   ]
  },
  {
   "cell_type": "markdown",
   "metadata": {
    "deletable": false,
    "editable": false,
    "nbgrader": {
     "cell_type": "markdown",
     "checksum": "eddc9ac9f258b9ca32a824076139cbce",
     "grade": false,
     "grade_id": "cell-e5f55ebcb0af4820",
     "locked": true,
     "schema_version": 3,
     "solution": false,
     "task": false
    }
   },
   "source": [
    "If we wanted to change an element of the graph, we need to use the function **plot!()**\n",
    "\n",
    "The exclamation point indicates that the function will modify the existing plot, instead of replacing it.  Let's make the graph to scale with an aspect_ratio command, and label the axes.  You can also add an additional line to the plot.  Let's include the x-axis."
   ]
  },
  {
   "cell_type": "code",
   "execution_count": 13,
   "metadata": {},
   "outputs": [
    {
     "data": {
      "image/svg+xml": [
       "<?xml version=\"1.0\" encoding=\"utf-8\"?>\n",
       "<svg xmlns=\"http://www.w3.org/2000/svg\" xmlns:xlink=\"http://www.w3.org/1999/xlink\" width=\"600\" height=\"400\" viewBox=\"0 0 2400 1600\">\n",
       "<defs>\n",
       "  <clipPath id=\"clip380\">\n",
       "    <rect x=\"0\" y=\"0\" width=\"2400\" height=\"1600\"/>\n",
       "  </clipPath>\n",
       "</defs>\n",
       "<path clip-path=\"url(#clip380)\" d=\"\n",
       "M0 1600 L2400 1600 L2400 0 L0 0  Z\n",
       "  \" fill=\"#ffffff\" fill-rule=\"evenodd\" fill-opacity=\"1\"/>\n",
       "<defs>\n",
       "  <clipPath id=\"clip381\">\n",
       "    <rect x=\"480\" y=\"0\" width=\"1681\" height=\"1600\"/>\n",
       "  </clipPath>\n",
       "</defs>\n",
       "<path clip-path=\"url(#clip380)\" d=\"\n",
       "M242.135 1423.18 L2352.76 1423.18 L2352.76 47.2441 L242.135 47.2441  Z\n",
       "  \" fill=\"#ffffff\" fill-rule=\"evenodd\" fill-opacity=\"1\"/>\n",
       "<defs>\n",
       "  <clipPath id=\"clip382\">\n",
       "    <rect x=\"242\" y=\"47\" width=\"2112\" height=\"1377\"/>\n",
       "  </clipPath>\n",
       "</defs>\n",
       "<polyline clip-path=\"url(#clip382)\" style=\"stroke:#000000; stroke-width:2; stroke-opacity:0.1; fill:none\" points=\"\n",
       "  323.906,1423.18 323.906,47.2441 \n",
       "  \"/>\n",
       "<polyline clip-path=\"url(#clip382)\" style=\"stroke:#000000; stroke-width:2; stroke-opacity:0.1; fill:none\" points=\"\n",
       "  648.419,1423.18 648.419,47.2441 \n",
       "  \"/>\n",
       "<polyline clip-path=\"url(#clip382)\" style=\"stroke:#000000; stroke-width:2; stroke-opacity:0.1; fill:none\" points=\"\n",
       "  972.932,1423.18 972.932,47.2441 \n",
       "  \"/>\n",
       "<polyline clip-path=\"url(#clip382)\" style=\"stroke:#000000; stroke-width:2; stroke-opacity:0.1; fill:none\" points=\"\n",
       "  1297.45,1423.18 1297.45,47.2441 \n",
       "  \"/>\n",
       "<polyline clip-path=\"url(#clip382)\" style=\"stroke:#000000; stroke-width:2; stroke-opacity:0.1; fill:none\" points=\"\n",
       "  1621.96,1423.18 1621.96,47.2441 \n",
       "  \"/>\n",
       "<polyline clip-path=\"url(#clip382)\" style=\"stroke:#000000; stroke-width:2; stroke-opacity:0.1; fill:none\" points=\"\n",
       "  1946.47,1423.18 1946.47,47.2441 \n",
       "  \"/>\n",
       "<polyline clip-path=\"url(#clip382)\" style=\"stroke:#000000; stroke-width:2; stroke-opacity:0.1; fill:none\" points=\"\n",
       "  2270.98,1423.18 2270.98,47.2441 \n",
       "  \"/>\n",
       "<polyline clip-path=\"url(#clip380)\" style=\"stroke:#000000; stroke-width:4; stroke-opacity:1; fill:none\" points=\"\n",
       "  242.135,1423.18 2352.76,1423.18 \n",
       "  \"/>\n",
       "<polyline clip-path=\"url(#clip380)\" style=\"stroke:#000000; stroke-width:4; stroke-opacity:1; fill:none\" points=\"\n",
       "  323.906,1423.18 323.906,1406.67 \n",
       "  \"/>\n",
       "<polyline clip-path=\"url(#clip380)\" style=\"stroke:#000000; stroke-width:4; stroke-opacity:1; fill:none\" points=\"\n",
       "  648.419,1423.18 648.419,1406.67 \n",
       "  \"/>\n",
       "<polyline clip-path=\"url(#clip380)\" style=\"stroke:#000000; stroke-width:4; stroke-opacity:1; fill:none\" points=\"\n",
       "  972.932,1423.18 972.932,1406.67 \n",
       "  \"/>\n",
       "<polyline clip-path=\"url(#clip380)\" style=\"stroke:#000000; stroke-width:4; stroke-opacity:1; fill:none\" points=\"\n",
       "  1297.45,1423.18 1297.45,1406.67 \n",
       "  \"/>\n",
       "<polyline clip-path=\"url(#clip380)\" style=\"stroke:#000000; stroke-width:4; stroke-opacity:1; fill:none\" points=\"\n",
       "  1621.96,1423.18 1621.96,1406.67 \n",
       "  \"/>\n",
       "<polyline clip-path=\"url(#clip380)\" style=\"stroke:#000000; stroke-width:4; stroke-opacity:1; fill:none\" points=\"\n",
       "  1946.47,1423.18 1946.47,1406.67 \n",
       "  \"/>\n",
       "<polyline clip-path=\"url(#clip380)\" style=\"stroke:#000000; stroke-width:4; stroke-opacity:1; fill:none\" points=\"\n",
       "  2270.98,1423.18 2270.98,1406.67 \n",
       "  \"/>\n",
       "<path clip-path=\"url(#clip380)\" d=\"M 0 0 M278.466 1467.02 L308.142 1467.02 L308.142 1470.96 L278.466 1470.96 L278.466 1467.02 Z\" fill=\"#000000\" fill-rule=\"evenodd\" fill-opacity=\"1\" /><path clip-path=\"url(#clip380)\" d=\"M 0 0 M319.045 1479.92 L326.684 1479.92 L326.684 1453.55 L318.373 1455.22 L318.373 1450.96 L326.637 1449.29 L331.313 1449.29 L331.313 1479.92 L338.952 1479.92 L338.952 1483.85 L319.045 1483.85 L319.045 1479.92 Z\" fill=\"#000000\" fill-rule=\"evenodd\" fill-opacity=\"1\" /><path clip-path=\"url(#clip380)\" d=\"M 0 0 M348.443 1449.29 L366.799 1449.29 L366.799 1453.23 L352.725 1453.23 L352.725 1461.7 Q353.744 1461.35 354.762 1461.19 Q355.781 1461 356.799 1461 Q362.586 1461 365.966 1464.18 Q369.345 1467.35 369.345 1472.76 Q369.345 1478.34 365.873 1481.44 Q362.401 1484.52 356.082 1484.52 Q353.906 1484.52 351.637 1484.15 Q349.392 1483.78 346.984 1483.04 L346.984 1478.34 Q349.068 1479.48 351.29 1480.03 Q353.512 1480.59 355.989 1480.59 Q359.994 1480.59 362.332 1478.48 Q364.67 1476.38 364.67 1472.76 Q364.67 1469.15 362.332 1467.05 Q359.994 1464.94 355.989 1464.94 Q354.114 1464.94 352.239 1465.36 Q350.387 1465.77 348.443 1466.65 L348.443 1449.29 Z\" fill=\"#000000\" fill-rule=\"evenodd\" fill-opacity=\"1\" /><path clip-path=\"url(#clip380)\" d=\"M 0 0 M602.482 1467.02 L632.158 1467.02 L632.158 1470.96 L602.482 1470.96 L602.482 1467.02 Z\" fill=\"#000000\" fill-rule=\"evenodd\" fill-opacity=\"1\" /><path clip-path=\"url(#clip380)\" d=\"M 0 0 M643.06 1479.92 L650.699 1479.92 L650.699 1453.55 L642.389 1455.22 L642.389 1450.96 L650.653 1449.29 L655.329 1449.29 L655.329 1479.92 L662.968 1479.92 L662.968 1483.85 L643.06 1483.85 L643.06 1479.92 Z\" fill=\"#000000\" fill-rule=\"evenodd\" fill-opacity=\"1\" /><path clip-path=\"url(#clip380)\" d=\"M 0 0 M682.412 1452.37 Q678.801 1452.37 676.972 1455.94 Q675.167 1459.48 675.167 1466.61 Q675.167 1473.71 676.972 1477.28 Q678.801 1480.82 682.412 1480.82 Q686.046 1480.82 687.852 1477.28 Q689.68 1473.71 689.68 1466.61 Q689.68 1459.48 687.852 1455.94 Q686.046 1452.37 682.412 1452.37 M682.412 1448.67 Q688.222 1448.67 691.278 1453.27 Q694.356 1457.86 694.356 1466.61 Q694.356 1475.33 691.278 1479.94 Q688.222 1484.52 682.412 1484.52 Q676.602 1484.52 673.523 1479.94 Q670.467 1475.33 670.467 1466.61 Q670.467 1457.86 673.523 1453.27 Q676.602 1448.67 682.412 1448.67 Z\" fill=\"#000000\" fill-rule=\"evenodd\" fill-opacity=\"1\" /><path clip-path=\"url(#clip380)\" d=\"M 0 0 M942.574 1467.02 L972.249 1467.02 L972.249 1470.96 L942.574 1470.96 L942.574 1467.02 Z\" fill=\"#000000\" fill-rule=\"evenodd\" fill-opacity=\"1\" /><path clip-path=\"url(#clip380)\" d=\"M 0 0 M982.388 1449.29 L1000.74 1449.29 L1000.74 1453.23 L986.67 1453.23 L986.67 1461.7 Q987.689 1461.35 988.708 1461.19 Q989.726 1461 990.745 1461 Q996.532 1461 999.911 1464.18 Q1003.29 1467.35 1003.29 1472.76 Q1003.29 1478.34 999.819 1481.44 Q996.346 1484.52 990.027 1484.52 Q987.851 1484.52 985.583 1484.15 Q983.337 1483.78 980.93 1483.04 L980.93 1478.34 Q983.013 1479.48 985.235 1480.03 Q987.458 1480.59 989.934 1480.59 Q993.939 1480.59 996.277 1478.48 Q998.615 1476.38 998.615 1472.76 Q998.615 1469.15 996.277 1467.05 Q993.939 1464.94 989.934 1464.94 Q988.059 1464.94 986.184 1465.36 Q984.333 1465.77 982.388 1466.65 L982.388 1449.29 Z\" fill=\"#000000\" fill-rule=\"evenodd\" fill-opacity=\"1\" /><path clip-path=\"url(#clip380)\" d=\"M 0 0 M1297.45 1452.37 Q1293.83 1452.37 1292.01 1455.94 Q1290.2 1459.48 1290.2 1466.61 Q1290.2 1473.71 1292.01 1477.28 Q1293.83 1480.82 1297.45 1480.82 Q1301.08 1480.82 1302.89 1477.28 Q1304.71 1473.71 1304.71 1466.61 Q1304.71 1459.48 1302.89 1455.94 Q1301.08 1452.37 1297.45 1452.37 M1297.45 1448.67 Q1303.26 1448.67 1306.31 1453.27 Q1309.39 1457.86 1309.39 1466.61 Q1309.39 1475.33 1306.31 1479.94 Q1303.26 1484.52 1297.45 1484.52 Q1291.64 1484.52 1288.56 1479.94 Q1285.5 1475.33 1285.5 1466.61 Q1285.5 1457.86 1288.56 1453.27 Q1291.64 1448.67 1297.45 1448.67 Z\" fill=\"#000000\" fill-rule=\"evenodd\" fill-opacity=\"1\" /><path clip-path=\"url(#clip380)\" d=\"M 0 0 M1612.24 1449.29 L1630.59 1449.29 L1630.59 1453.23 L1616.52 1453.23 L1616.52 1461.7 Q1617.54 1461.35 1618.56 1461.19 Q1619.57 1461 1620.59 1461 Q1626.38 1461 1629.76 1464.18 Q1633.14 1467.35 1633.14 1472.76 Q1633.14 1478.34 1629.67 1481.44 Q1626.19 1484.52 1619.88 1484.52 Q1617.7 1484.52 1615.43 1484.15 Q1613.19 1483.78 1610.78 1483.04 L1610.78 1478.34 Q1612.86 1479.48 1615.08 1480.03 Q1617.31 1480.59 1619.78 1480.59 Q1623.79 1480.59 1626.13 1478.48 Q1628.46 1476.38 1628.46 1472.76 Q1628.46 1469.15 1626.13 1467.05 Q1623.79 1464.94 1619.78 1464.94 Q1617.91 1464.94 1616.03 1465.36 Q1614.18 1465.77 1612.24 1466.65 L1612.24 1449.29 Z\" fill=\"#000000\" fill-rule=\"evenodd\" fill-opacity=\"1\" /><path clip-path=\"url(#clip380)\" d=\"M 0 0 M1921.16 1479.92 L1928.8 1479.92 L1928.8 1453.55 L1920.49 1455.22 L1920.49 1450.96 L1928.75 1449.29 L1933.43 1449.29 L1933.43 1479.92 L1941.07 1479.92 L1941.07 1483.85 L1921.16 1483.85 L1921.16 1479.92 Z\" fill=\"#000000\" fill-rule=\"evenodd\" fill-opacity=\"1\" /><path clip-path=\"url(#clip380)\" d=\"M 0 0 M1960.51 1452.37 Q1956.9 1452.37 1955.07 1455.94 Q1953.27 1459.48 1953.27 1466.61 Q1953.27 1473.71 1955.07 1477.28 Q1956.9 1480.82 1960.51 1480.82 Q1964.15 1480.82 1965.95 1477.28 Q1967.78 1473.71 1967.78 1466.61 Q1967.78 1459.48 1965.95 1455.94 Q1964.15 1452.37 1960.51 1452.37 M1960.51 1448.67 Q1966.32 1448.67 1969.38 1453.27 Q1972.46 1457.86 1972.46 1466.61 Q1972.46 1475.33 1969.38 1479.94 Q1966.32 1484.52 1960.51 1484.52 Q1954.7 1484.52 1951.62 1479.94 Q1948.57 1475.33 1948.57 1466.61 Q1948.57 1457.86 1951.62 1453.27 Q1954.7 1448.67 1960.51 1448.67 Z\" fill=\"#000000\" fill-rule=\"evenodd\" fill-opacity=\"1\" /><path clip-path=\"url(#clip380)\" d=\"M 0 0 M2246.17 1479.92 L2253.81 1479.92 L2253.81 1453.55 L2245.5 1455.22 L2245.5 1450.96 L2253.76 1449.29 L2258.44 1449.29 L2258.44 1479.92 L2266.08 1479.92 L2266.08 1483.85 L2246.17 1483.85 L2246.17 1479.92 Z\" fill=\"#000000\" fill-rule=\"evenodd\" fill-opacity=\"1\" /><path clip-path=\"url(#clip380)\" d=\"M 0 0 M2275.57 1449.29 L2293.92 1449.29 L2293.92 1453.23 L2279.85 1453.23 L2279.85 1461.7 Q2280.87 1461.35 2281.89 1461.19 Q2282.91 1461 2283.92 1461 Q2289.71 1461 2293.09 1464.18 Q2296.47 1467.35 2296.47 1472.76 Q2296.47 1478.34 2293 1481.44 Q2289.53 1484.52 2283.21 1484.52 Q2281.03 1484.52 2278.76 1484.15 Q2276.52 1483.78 2274.11 1483.04 L2274.11 1478.34 Q2276.19 1479.48 2278.42 1480.03 Q2280.64 1480.59 2283.11 1480.59 Q2287.12 1480.59 2289.46 1478.48 Q2291.79 1476.38 2291.79 1472.76 Q2291.79 1469.15 2289.46 1467.05 Q2287.12 1464.94 2283.11 1464.94 Q2281.24 1464.94 2279.36 1465.36 Q2277.51 1465.77 2275.57 1466.65 L2275.57 1449.29 Z\" fill=\"#000000\" fill-rule=\"evenodd\" fill-opacity=\"1\" /><path clip-path=\"url(#clip380)\" d=\"M 0 0 M1314.06 1532.4 L1301.17 1549.74 L1314.73 1568.04 L1307.82 1568.04 L1297.45 1554.04 L1287.07 1568.04 L1280.16 1568.04 L1294.01 1549.39 L1281.34 1532.4 L1288.25 1532.4 L1297.7 1545.1 L1307.15 1532.4 L1314.06 1532.4 Z\" fill=\"#000000\" fill-rule=\"evenodd\" fill-opacity=\"1\" /><polyline clip-path=\"url(#clip382)\" style=\"stroke:#000000; stroke-width:2; stroke-opacity:0.1; fill:none\" points=\"\n",
       "  242.135,1384.24 2352.76,1384.24 \n",
       "  \"/>\n",
       "<polyline clip-path=\"url(#clip382)\" style=\"stroke:#000000; stroke-width:2; stroke-opacity:0.1; fill:none\" points=\"\n",
       "  242.135,1059.73 2352.76,1059.73 \n",
       "  \"/>\n",
       "<polyline clip-path=\"url(#clip382)\" style=\"stroke:#000000; stroke-width:2; stroke-opacity:0.1; fill:none\" points=\"\n",
       "  242.135,735.212 2352.76,735.212 \n",
       "  \"/>\n",
       "<polyline clip-path=\"url(#clip382)\" style=\"stroke:#000000; stroke-width:2; stroke-opacity:0.1; fill:none\" points=\"\n",
       "  242.135,410.699 2352.76,410.699 \n",
       "  \"/>\n",
       "<polyline clip-path=\"url(#clip382)\" style=\"stroke:#000000; stroke-width:2; stroke-opacity:0.1; fill:none\" points=\"\n",
       "  242.135,86.1857 2352.76,86.1857 \n",
       "  \"/>\n",
       "<polyline clip-path=\"url(#clip380)\" style=\"stroke:#000000; stroke-width:4; stroke-opacity:1; fill:none\" points=\"\n",
       "  242.135,1423.18 242.135,47.2441 \n",
       "  \"/>\n",
       "<polyline clip-path=\"url(#clip380)\" style=\"stroke:#000000; stroke-width:4; stroke-opacity:1; fill:none\" points=\"\n",
       "  242.135,1384.24 267.462,1384.24 \n",
       "  \"/>\n",
       "<polyline clip-path=\"url(#clip380)\" style=\"stroke:#000000; stroke-width:4; stroke-opacity:1; fill:none\" points=\"\n",
       "  242.135,1059.73 267.462,1059.73 \n",
       "  \"/>\n",
       "<polyline clip-path=\"url(#clip380)\" style=\"stroke:#000000; stroke-width:4; stroke-opacity:1; fill:none\" points=\"\n",
       "  242.135,735.212 267.462,735.212 \n",
       "  \"/>\n",
       "<polyline clip-path=\"url(#clip380)\" style=\"stroke:#000000; stroke-width:4; stroke-opacity:1; fill:none\" points=\"\n",
       "  242.135,410.699 267.462,410.699 \n",
       "  \"/>\n",
       "<polyline clip-path=\"url(#clip380)\" style=\"stroke:#000000; stroke-width:4; stroke-opacity:1; fill:none\" points=\"\n",
       "  242.135,86.1857 267.462,86.1857 \n",
       "  \"/>\n",
       "<path clip-path=\"url(#clip380)\" d=\"M 0 0 M114.26 1384.69 L143.936 1384.69 L143.936 1388.62 L114.26 1388.62 L114.26 1384.69 Z\" fill=\"#000000\" fill-rule=\"evenodd\" fill-opacity=\"1\" /><path clip-path=\"url(#clip380)\" d=\"M 0 0 M154.839 1397.58 L162.477 1397.58 L162.477 1371.22 L154.167 1372.88 L154.167 1368.62 L162.431 1366.96 L167.107 1366.96 L167.107 1397.58 L174.746 1397.58 L174.746 1401.52 L154.839 1401.52 L154.839 1397.58 Z\" fill=\"#000000\" fill-rule=\"evenodd\" fill-opacity=\"1\" /><path clip-path=\"url(#clip380)\" d=\"M 0 0 M194.19 1370.04 Q190.579 1370.04 188.75 1373.6 Q186.945 1377.14 186.945 1384.27 Q186.945 1391.38 188.75 1394.94 Q190.579 1398.49 194.19 1398.49 Q197.825 1398.49 199.63 1394.94 Q201.459 1391.38 201.459 1384.27 Q201.459 1377.14 199.63 1373.6 Q197.825 1370.04 194.19 1370.04 M194.19 1366.33 Q200 1366.33 203.056 1370.94 Q206.135 1375.52 206.135 1384.27 Q206.135 1393 203.056 1397.61 Q200 1402.19 194.19 1402.19 Q188.38 1402.19 185.301 1397.61 Q182.246 1393 182.246 1384.27 Q182.246 1375.52 185.301 1370.94 Q188.38 1366.33 194.19 1366.33 Z\" fill=\"#000000\" fill-rule=\"evenodd\" fill-opacity=\"1\" /><path clip-path=\"url(#clip380)\" d=\"M 0 0 M145.417 1060.18 L175.093 1060.18 L175.093 1064.11 L145.417 1064.11 L145.417 1060.18 Z\" fill=\"#000000\" fill-rule=\"evenodd\" fill-opacity=\"1\" /><path clip-path=\"url(#clip380)\" d=\"M 0 0 M185.232 1042.45 L203.588 1042.45 L203.588 1046.38 L189.514 1046.38 L189.514 1054.85 Q190.533 1054.51 191.551 1054.34 Q192.57 1054.16 193.588 1054.16 Q199.375 1054.16 202.755 1057.33 Q206.135 1060.5 206.135 1065.92 Q206.135 1071.5 202.662 1074.6 Q199.19 1077.68 192.871 1077.68 Q190.695 1077.68 188.426 1077.31 Q186.181 1076.94 183.774 1076.19 L183.774 1071.5 Q185.857 1072.63 188.079 1073.19 Q190.301 1073.74 192.778 1073.74 Q196.783 1073.74 199.121 1071.63 Q201.459 1069.53 201.459 1065.92 Q201.459 1062.31 199.121 1060.2 Q196.783 1058.09 192.778 1058.09 Q190.903 1058.09 189.028 1058.51 Q187.176 1058.93 185.232 1059.81 L185.232 1042.45 Z\" fill=\"#000000\" fill-rule=\"evenodd\" fill-opacity=\"1\" /><path clip-path=\"url(#clip380)\" d=\"M 0 0 M194.19 721.011 Q190.579 721.011 188.75 724.575 Q186.945 728.117 186.945 735.247 Q186.945 742.353 188.75 745.918 Q190.579 749.46 194.19 749.46 Q197.825 749.46 199.63 745.918 Q201.459 742.353 201.459 735.247 Q201.459 728.117 199.63 724.575 Q197.825 721.011 194.19 721.011 M194.19 717.307 Q200 717.307 203.056 721.913 Q206.135 726.497 206.135 735.247 Q206.135 743.973 203.056 748.58 Q200 753.163 194.19 753.163 Q188.38 753.163 185.301 748.58 Q182.246 743.973 182.246 735.247 Q182.246 726.497 185.301 721.913 Q188.38 717.307 194.19 717.307 Z\" fill=\"#000000\" fill-rule=\"evenodd\" fill-opacity=\"1\" /><path clip-path=\"url(#clip380)\" d=\"M 0 0 M185.232 393.419 L203.588 393.419 L203.588 397.354 L189.514 397.354 L189.514 405.826 Q190.533 405.479 191.551 405.317 Q192.57 405.132 193.588 405.132 Q199.375 405.132 202.755 408.303 Q206.135 411.474 206.135 416.891 Q206.135 422.47 202.662 425.571 Q199.19 428.65 192.871 428.65 Q190.695 428.65 188.426 428.28 Q186.181 427.909 183.774 427.169 L183.774 422.47 Q185.857 423.604 188.079 424.159 Q190.301 424.715 192.778 424.715 Q196.783 424.715 199.121 422.608 Q201.459 420.502 201.459 416.891 Q201.459 413.28 199.121 411.173 Q196.783 409.067 192.778 409.067 Q190.903 409.067 189.028 409.484 Q187.176 409.9 185.232 410.78 L185.232 393.419 Z\" fill=\"#000000\" fill-rule=\"evenodd\" fill-opacity=\"1\" /><path clip-path=\"url(#clip380)\" d=\"M 0 0 M154.839 99.5305 L162.477 99.5305 L162.477 73.1649 L154.167 74.8316 L154.167 70.5723 L162.431 68.9057 L167.107 68.9057 L167.107 99.5305 L174.746 99.5305 L174.746 103.466 L154.839 103.466 L154.839 99.5305 Z\" fill=\"#000000\" fill-rule=\"evenodd\" fill-opacity=\"1\" /><path clip-path=\"url(#clip380)\" d=\"M 0 0 M194.19 71.9844 Q190.579 71.9844 188.75 75.5492 Q186.945 79.0908 186.945 86.2204 Q186.945 93.3268 188.75 96.8916 Q190.579 100.433 194.19 100.433 Q197.825 100.433 199.63 96.8916 Q201.459 93.3268 201.459 86.2204 Q201.459 79.0908 199.63 75.5492 Q197.825 71.9844 194.19 71.9844 M194.19 68.2807 Q200 68.2807 203.056 72.8871 Q206.135 77.4704 206.135 86.2204 Q206.135 94.9472 203.056 99.5537 Q200 104.137 194.19 104.137 Q188.38 104.137 185.301 99.5537 Q182.246 94.9472 182.246 86.2204 Q182.246 77.4704 185.301 72.8871 Q188.38 68.2807 194.19 68.2807 Z\" fill=\"#000000\" fill-rule=\"evenodd\" fill-opacity=\"1\" /><path clip-path=\"url(#clip380)\" d=\"M 0 0 M67.3143 733.525 Q73.68 736.008 75.6216 738.363 Q77.5631 740.718 77.5631 744.665 L77.5631 749.344 L72.6615 749.344 L72.6615 745.906 Q72.6615 743.487 71.5157 742.151 Q70.3699 740.814 66.1048 739.191 L63.4312 738.14 L28.3562 752.559 L28.3562 746.352 L56.238 735.212 L28.3562 724.072 L28.3562 717.865 L67.3143 733.525 Z\" fill=\"#000000\" fill-rule=\"evenodd\" fill-opacity=\"1\" /><polyline clip-path=\"url(#clip382)\" style=\"stroke:#009af9; stroke-width:4; stroke-opacity:1; fill:none\" points=\"\n",
       "  972.932,1384.24 979.27,1371.56 1037.88,1254.35 1073.1,1183.91 1102.88,1124.35 1135.22,1059.66 1165.04,1000.01 1197.02,936.071 1234.06,861.987 1266.98,796.149 \n",
       "  1295.84,738.415 1327.32,675.47 1358.98,612.15 1393.98,542.143 1427.29,475.532 1461.92,406.273 1491.07,347.971 1526.66,276.791 1560.11,209.88 1613.71,102.683 \n",
       "  1621.96,86.1857 \n",
       "  \"/>\n",
       "<polyline clip-path=\"url(#clip382)\" style=\"stroke:#e26f46; stroke-width:4; stroke-opacity:1; fill:none\" points=\"\n",
       "  323.906,735.212 342.921,735.212 518.74,735.212 624.4,735.212 713.735,735.212 810.777,735.212 900.241,735.212 996.156,735.212 1107.28,735.212 1206.04,735.212 \n",
       "  1292.64,735.212 1387.06,735.212 1482.04,735.212 1587.05,735.212 1686.97,735.212 1790.85,735.212 1878.31,735.212 1985.08,735.212 2085.44,735.212 2246.24,735.212 \n",
       "  2270.98,735.212 \n",
       "  \"/>\n",
       "<path clip-path=\"url(#clip380)\" d=\"\n",
       "M1995.46 274.549 L2282.4 274.549 L2282.4 93.1086 L1995.46 93.1086  Z\n",
       "  \" fill=\"#ffffff\" fill-rule=\"evenodd\" fill-opacity=\"1\"/>\n",
       "<polyline clip-path=\"url(#clip380)\" style=\"stroke:#000000; stroke-width:4; stroke-opacity:1; fill:none\" points=\"\n",
       "  1995.46,274.549 2282.4,274.549 2282.4,93.1086 1995.46,93.1086 1995.46,274.549 \n",
       "  \"/>\n",
       "<polyline clip-path=\"url(#clip380)\" style=\"stroke:#009af9; stroke-width:4; stroke-opacity:1; fill:none\" points=\"\n",
       "  2018.91,153.589 2159.62,153.589 \n",
       "  \"/>\n",
       "<path clip-path=\"url(#clip380)\" d=\"M 0 0 M2196.91 173.276 Q2195.11 177.906 2193.39 179.318 Q2191.68 180.73 2188.81 180.73 L2185.41 180.73 L2185.41 177.165 L2187.91 177.165 Q2189.67 177.165 2190.64 176.332 Q2191.61 175.498 2192.79 172.396 L2193.55 170.452 L2183.07 144.943 L2187.58 144.943 L2195.68 165.221 L2203.79 144.943 L2208.3 144.943 L2196.91 173.276 Z\" fill=\"#000000\" fill-rule=\"evenodd\" fill-opacity=\"1\" /><path clip-path=\"url(#clip380)\" d=\"M 0 0 M2215.59 166.933 L2223.23 166.933 L2223.23 140.568 L2214.92 142.235 L2214.92 137.975 L2223.18 136.309 L2227.86 136.309 L2227.86 166.933 L2235.5 166.933 L2235.5 170.869 L2215.59 170.869 L2215.59 166.933 Z\" fill=\"#000000\" fill-rule=\"evenodd\" fill-opacity=\"1\" /><polyline clip-path=\"url(#clip380)\" style=\"stroke:#e26f46; stroke-width:4; stroke-opacity:1; fill:none\" points=\"\n",
       "  2018.91,214.069 2159.62,214.069 \n",
       "  \"/>\n",
       "<path clip-path=\"url(#clip380)\" d=\"M 0 0 M2196.91 233.756 Q2195.11 238.386 2193.39 239.798 Q2191.68 241.21 2188.81 241.21 L2185.41 241.21 L2185.41 237.645 L2187.91 237.645 Q2189.67 237.645 2190.64 236.812 Q2191.61 235.978 2192.79 232.876 L2193.55 230.932 L2183.07 205.423 L2187.58 205.423 L2195.68 225.701 L2203.79 205.423 L2208.3 205.423 L2196.91 233.756 Z\" fill=\"#000000\" fill-rule=\"evenodd\" fill-opacity=\"1\" /><path clip-path=\"url(#clip380)\" d=\"M 0 0 M2218.81 227.413 L2235.13 227.413 L2235.13 231.349 L2213.18 231.349 L2213.18 227.413 Q2215.85 224.659 2220.43 220.029 Q2225.04 215.376 2226.22 214.034 Q2228.46 211.511 2229.34 209.775 Q2230.24 208.015 2230.24 206.326 Q2230.24 203.571 2228.3 201.835 Q2226.38 200.099 2223.28 200.099 Q2221.08 200.099 2218.62 200.863 Q2216.19 201.627 2213.42 203.177 L2213.42 198.455 Q2216.24 197.321 2218.69 196.742 Q2221.15 196.164 2223.18 196.164 Q2228.55 196.164 2231.75 198.849 Q2234.94 201.534 2234.94 206.025 Q2234.94 208.154 2234.13 210.076 Q2233.35 211.974 2231.24 214.566 Q2230.66 215.238 2227.56 218.455 Q2224.46 221.65 2218.81 227.413 Z\" fill=\"#000000\" fill-rule=\"evenodd\" fill-opacity=\"1\" /></svg>\n"
      ]
     },
     "execution_count": 13,
     "metadata": {},
     "output_type": "execute_result"
    }
   ],
   "source": [
    "plot!(aspect_ratio = 1, xlabel = \"x\", ylabel = \"y\")\n",
    "g(x) = 0\n",
    "plot!(g, -15,15)"
   ]
  },
  {
   "cell_type": "markdown",
   "metadata": {
    "deletable": false,
    "editable": false,
    "nbgrader": {
     "cell_type": "markdown",
     "checksum": "88aedb46efb07b9aea84def714ced15e",
     "grade": false,
     "grade_id": "cell-9f1a99a3704a6484",
     "locked": true,
     "schema_version": 3,
     "solution": false,
     "task": false
    }
   },
   "source": [
    "We can now find that y = 2x intersects y = 0 at (0,0).  \n",
    "### Problem 2. Practice with one of the systems in your HW1 Assignment\n",
    "\n",
    "                                                    x − 2y = −2\n",
    "                                                     x + y = 4\n",
    "                                                \n",
    "                                                \n",
    "                                                \n",
    "Step 1:  Rearrange Both equations so that y is isolated on the left side:\n",
    "\n",
    "Equation 1: y1 = ____________\n",
    "Equation 2: y2 = ____________"
   ]
  },
  {
   "cell_type": "code",
   "execution_count": 18,
   "metadata": {
    "deletable": false,
    "nbgrader": {
     "cell_type": "code",
     "checksum": "96d37de74b57efeaab99eaf498bcba3b",
     "grade": false,
     "grade_id": "problem2",
     "locked": false,
     "schema_version": 3,
     "solution": true,
     "task": false
    }
   },
   "outputs": [
    {
     "data": {
      "image/svg+xml": [
       "<?xml version=\"1.0\" encoding=\"utf-8\"?>\n",
       "<svg xmlns=\"http://www.w3.org/2000/svg\" xmlns:xlink=\"http://www.w3.org/1999/xlink\" width=\"600\" height=\"400\" viewBox=\"0 0 2400 1600\">\n",
       "<defs>\n",
       "  <clipPath id=\"clip460\">\n",
       "    <rect x=\"0\" y=\"0\" width=\"2400\" height=\"1600\"/>\n",
       "  </clipPath>\n",
       "</defs>\n",
       "<path clip-path=\"url(#clip460)\" d=\"\n",
       "M0 1600 L2400 1600 L2400 0 L0 0  Z\n",
       "  \" fill=\"#ffffff\" fill-rule=\"evenodd\" fill-opacity=\"1\"/>\n",
       "<defs>\n",
       "  <clipPath id=\"clip461\">\n",
       "    <rect x=\"480\" y=\"0\" width=\"1681\" height=\"1600\"/>\n",
       "  </clipPath>\n",
       "</defs>\n",
       "<path clip-path=\"url(#clip460)\" d=\"\n",
       "M112.177 1486.45 L2352.76 1486.45 L2352.76 47.2441 L112.177 47.2441  Z\n",
       "  \" fill=\"#ffffff\" fill-rule=\"evenodd\" fill-opacity=\"1\"/>\n",
       "<defs>\n",
       "  <clipPath id=\"clip462\">\n",
       "    <rect x=\"112\" y=\"47\" width=\"2242\" height=\"1440\"/>\n",
       "  </clipPath>\n",
       "</defs>\n",
       "<polyline clip-path=\"url(#clip462)\" style=\"stroke:#000000; stroke-width:2; stroke-opacity:0.1; fill:none\" points=\"\n",
       "  386.965,1486.45 386.965,47.2441 \n",
       "  \"/>\n",
       "<polyline clip-path=\"url(#clip462)\" style=\"stroke:#000000; stroke-width:2; stroke-opacity:0.1; fill:none\" points=\"\n",
       "  809.716,1486.45 809.716,47.2441 \n",
       "  \"/>\n",
       "<polyline clip-path=\"url(#clip462)\" style=\"stroke:#000000; stroke-width:2; stroke-opacity:0.1; fill:none\" points=\"\n",
       "  1232.47,1486.45 1232.47,47.2441 \n",
       "  \"/>\n",
       "<polyline clip-path=\"url(#clip462)\" style=\"stroke:#000000; stroke-width:2; stroke-opacity:0.1; fill:none\" points=\"\n",
       "  1655.22,1486.45 1655.22,47.2441 \n",
       "  \"/>\n",
       "<polyline clip-path=\"url(#clip462)\" style=\"stroke:#000000; stroke-width:2; stroke-opacity:0.1; fill:none\" points=\"\n",
       "  2077.97,1486.45 2077.97,47.2441 \n",
       "  \"/>\n",
       "<polyline clip-path=\"url(#clip460)\" style=\"stroke:#000000; stroke-width:4; stroke-opacity:1; fill:none\" points=\"\n",
       "  112.177,1486.45 2352.76,1486.45 \n",
       "  \"/>\n",
       "<polyline clip-path=\"url(#clip460)\" style=\"stroke:#000000; stroke-width:4; stroke-opacity:1; fill:none\" points=\"\n",
       "  386.965,1486.45 386.965,1469.18 \n",
       "  \"/>\n",
       "<polyline clip-path=\"url(#clip460)\" style=\"stroke:#000000; stroke-width:4; stroke-opacity:1; fill:none\" points=\"\n",
       "  809.716,1486.45 809.716,1469.18 \n",
       "  \"/>\n",
       "<polyline clip-path=\"url(#clip460)\" style=\"stroke:#000000; stroke-width:4; stroke-opacity:1; fill:none\" points=\"\n",
       "  1232.47,1486.45 1232.47,1469.18 \n",
       "  \"/>\n",
       "<polyline clip-path=\"url(#clip460)\" style=\"stroke:#000000; stroke-width:4; stroke-opacity:1; fill:none\" points=\"\n",
       "  1655.22,1486.45 1655.22,1469.18 \n",
       "  \"/>\n",
       "<polyline clip-path=\"url(#clip460)\" style=\"stroke:#000000; stroke-width:4; stroke-opacity:1; fill:none\" points=\"\n",
       "  2077.97,1486.45 2077.97,1469.18 \n",
       "  \"/>\n",
       "<path clip-path=\"url(#clip460)\" d=\"M 0 0 M355.866 1530.29 L385.542 1530.29 L385.542 1534.23 L355.866 1534.23 L355.866 1530.29 Z\" fill=\"#000000\" fill-rule=\"evenodd\" fill-opacity=\"1\" /><path clip-path=\"url(#clip460)\" d=\"M 0 0 M408.481 1516.63 L396.676 1535.08 L408.481 1535.08 L408.481 1516.63 M407.254 1512.56 L413.134 1512.56 L413.134 1535.08 L418.065 1535.08 L418.065 1538.97 L413.134 1538.97 L413.134 1547.12 L408.481 1547.12 L408.481 1538.97 L392.879 1538.97 L392.879 1534.46 L407.254 1512.56 Z\" fill=\"#000000\" fill-rule=\"evenodd\" fill-opacity=\"1\" /><path clip-path=\"url(#clip460)\" d=\"M 0 0 M779.658 1530.29 L809.334 1530.29 L809.334 1534.23 L779.658 1534.23 L779.658 1530.29 Z\" fill=\"#000000\" fill-rule=\"evenodd\" fill-opacity=\"1\" /><path clip-path=\"url(#clip460)\" d=\"M 0 0 M823.454 1543.18 L839.774 1543.18 L839.774 1547.12 L817.829 1547.12 L817.829 1543.18 Q820.491 1540.43 825.075 1535.8 Q829.681 1531.15 830.862 1529.81 Q833.107 1527.28 833.987 1525.55 Q834.889 1523.79 834.889 1522.1 Q834.889 1519.34 832.945 1517.61 Q831.024 1515.87 827.922 1515.87 Q825.723 1515.87 823.269 1516.63 Q820.838 1517.4 818.061 1518.95 L818.061 1514.23 Q820.885 1513.09 823.338 1512.51 Q825.792 1511.93 827.829 1511.93 Q833.2 1511.93 836.394 1514.62 Q839.588 1517.31 839.588 1521.8 Q839.588 1523.93 838.778 1525.85 Q837.991 1527.74 835.885 1530.34 Q835.306 1531.01 832.204 1534.23 Q829.102 1537.42 823.454 1543.18 Z\" fill=\"#000000\" fill-rule=\"evenodd\" fill-opacity=\"1\" /><path clip-path=\"url(#clip460)\" d=\"M 0 0 M1232.47 1515.64 Q1228.86 1515.64 1227.03 1519.2 Q1225.22 1522.75 1225.22 1529.87 Q1225.22 1536.98 1227.03 1540.55 Q1228.86 1544.09 1232.47 1544.09 Q1236.1 1544.09 1237.91 1540.55 Q1239.74 1536.98 1239.74 1529.87 Q1239.74 1522.75 1237.91 1519.2 Q1236.1 1515.64 1232.47 1515.64 M1232.47 1511.93 Q1238.28 1511.93 1241.33 1516.54 Q1244.41 1521.12 1244.41 1529.87 Q1244.41 1538.6 1241.33 1543.21 Q1238.28 1547.79 1232.47 1547.79 Q1226.66 1547.79 1223.58 1543.21 Q1220.52 1538.6 1220.52 1529.87 Q1220.52 1521.12 1223.58 1516.54 Q1226.66 1511.93 1232.47 1511.93 Z\" fill=\"#000000\" fill-rule=\"evenodd\" fill-opacity=\"1\" /><path clip-path=\"url(#clip460)\" d=\"M 0 0 M1649.87 1543.18 L1666.19 1543.18 L1666.19 1547.12 L1644.25 1547.12 L1644.25 1543.18 Q1646.91 1540.43 1651.49 1535.8 Q1656.1 1531.15 1657.28 1529.81 Q1659.52 1527.28 1660.4 1525.55 Q1661.31 1523.79 1661.31 1522.1 Q1661.31 1519.34 1659.36 1517.61 Q1657.44 1515.87 1654.34 1515.87 Q1652.14 1515.87 1649.68 1516.63 Q1647.25 1517.4 1644.48 1518.95 L1644.48 1514.23 Q1647.3 1513.09 1649.75 1512.51 Q1652.21 1511.93 1654.25 1511.93 Q1659.62 1511.93 1662.81 1514.62 Q1666 1517.31 1666 1521.8 Q1666 1523.93 1665.19 1525.85 Q1664.41 1527.74 1662.3 1530.34 Q1661.72 1531.01 1658.62 1534.23 Q1655.52 1537.42 1649.87 1543.18 Z\" fill=\"#000000\" fill-rule=\"evenodd\" fill-opacity=\"1\" /><path clip-path=\"url(#clip460)\" d=\"M 0 0 M2080.98 1516.63 L2069.17 1535.08 L2080.98 1535.08 L2080.98 1516.63 M2079.75 1512.56 L2085.63 1512.56 L2085.63 1535.08 L2090.56 1535.08 L2090.56 1538.97 L2085.63 1538.97 L2085.63 1547.12 L2080.98 1547.12 L2080.98 1538.97 L2065.38 1538.97 L2065.38 1534.46 L2079.75 1512.56 Z\" fill=\"#000000\" fill-rule=\"evenodd\" fill-opacity=\"1\" /><polyline clip-path=\"url(#clip462)\" style=\"stroke:#000000; stroke-width:2; stroke-opacity:0.1; fill:none\" points=\"\n",
       "  112.177,1251.75 2352.76,1251.75 \n",
       "  \"/>\n",
       "<polyline clip-path=\"url(#clip462)\" style=\"stroke:#000000; stroke-width:2; stroke-opacity:0.1; fill:none\" points=\"\n",
       "  112.177,993.136 2352.76,993.136 \n",
       "  \"/>\n",
       "<polyline clip-path=\"url(#clip462)\" style=\"stroke:#000000; stroke-width:2; stroke-opacity:0.1; fill:none\" points=\"\n",
       "  112.177,734.519 2352.76,734.519 \n",
       "  \"/>\n",
       "<polyline clip-path=\"url(#clip462)\" style=\"stroke:#000000; stroke-width:2; stroke-opacity:0.1; fill:none\" points=\"\n",
       "  112.177,475.902 2352.76,475.902 \n",
       "  \"/>\n",
       "<polyline clip-path=\"url(#clip462)\" style=\"stroke:#000000; stroke-width:2; stroke-opacity:0.1; fill:none\" points=\"\n",
       "  112.177,217.285 2352.76,217.285 \n",
       "  \"/>\n",
       "<polyline clip-path=\"url(#clip460)\" style=\"stroke:#000000; stroke-width:4; stroke-opacity:1; fill:none\" points=\"\n",
       "  112.177,1486.45 112.177,47.2441 \n",
       "  \"/>\n",
       "<polyline clip-path=\"url(#clip460)\" style=\"stroke:#000000; stroke-width:4; stroke-opacity:1; fill:none\" points=\"\n",
       "  112.177,1251.75 139.064,1251.75 \n",
       "  \"/>\n",
       "<polyline clip-path=\"url(#clip460)\" style=\"stroke:#000000; stroke-width:4; stroke-opacity:1; fill:none\" points=\"\n",
       "  112.177,993.136 139.064,993.136 \n",
       "  \"/>\n",
       "<polyline clip-path=\"url(#clip460)\" style=\"stroke:#000000; stroke-width:4; stroke-opacity:1; fill:none\" points=\"\n",
       "  112.177,734.519 139.064,734.519 \n",
       "  \"/>\n",
       "<polyline clip-path=\"url(#clip460)\" style=\"stroke:#000000; stroke-width:4; stroke-opacity:1; fill:none\" points=\"\n",
       "  112.177,475.902 139.064,475.902 \n",
       "  \"/>\n",
       "<polyline clip-path=\"url(#clip460)\" style=\"stroke:#000000; stroke-width:4; stroke-opacity:1; fill:none\" points=\"\n",
       "  112.177,217.285 139.064,217.285 \n",
       "  \"/>\n",
       "<path clip-path=\"url(#clip460)\" d=\"M 0 0 M64.2328 1237.55 Q60.6217 1237.55 58.793 1241.12 Q56.9875 1244.66 56.9875 1251.79 Q56.9875 1258.89 58.793 1262.46 Q60.6217 1266 64.2328 1266 Q67.867 1266 69.6726 1262.46 Q71.5013 1258.89 71.5013 1251.79 Q71.5013 1244.66 69.6726 1241.12 Q67.867 1237.55 64.2328 1237.55 M64.2328 1233.85 Q70.0429 1233.85 73.0985 1238.45 Q76.1772 1243.04 76.1772 1251.79 Q76.1772 1260.51 73.0985 1265.12 Q70.0429 1269.7 64.2328 1269.7 Q58.4226 1269.7 55.344 1265.12 Q52.2884 1260.51 52.2884 1251.79 Q52.2884 1243.04 55.344 1238.45 Q58.4226 1233.85 64.2328 1233.85 Z\" fill=\"#000000\" fill-rule=\"evenodd\" fill-opacity=\"1\" /><path clip-path=\"url(#clip460)\" d=\"M 0 0 M59.8578 1006.48 L76.1772 1006.48 L76.1772 1010.42 L54.2328 1010.42 L54.2328 1006.48 Q56.8949 1003.73 61.4782 999.097 Q66.0846 994.444 67.2652 993.101 Q69.5105 990.578 70.3902 988.842 Q71.2929 987.083 71.2929 985.393 Q71.2929 982.638 69.3485 980.902 Q67.4272 979.166 64.3254 979.166 Q62.1263 979.166 59.6726 979.93 Q57.2421 980.694 54.4643 982.245 L54.4643 977.523 Q57.2884 976.388 59.7421 975.81 Q62.1958 975.231 64.2328 975.231 Q69.6031 975.231 72.7976 977.916 Q75.992 980.601 75.992 985.092 Q75.992 987.222 75.1818 989.143 Q74.3948 991.041 72.2883 993.634 Q71.7096 994.305 68.6078 997.522 Q65.5059 1000.72 59.8578 1006.48 Z\" fill=\"#000000\" fill-rule=\"evenodd\" fill-opacity=\"1\" /><path clip-path=\"url(#clip460)\" d=\"M 0 0 M66.5939 721.313 L54.7884 739.762 L66.5939 739.762 L66.5939 721.313 M65.367 717.239 L71.2466 717.239 L71.2466 739.762 L76.1772 739.762 L76.1772 743.651 L71.2466 743.651 L71.2466 751.799 L66.5939 751.799 L66.5939 743.651 L50.9921 743.651 L50.9921 739.137 L65.367 717.239 Z\" fill=\"#000000\" fill-rule=\"evenodd\" fill-opacity=\"1\" /><path clip-path=\"url(#clip460)\" d=\"M 0 0 M64.6495 474.038 Q61.5013 474.038 59.6495 476.191 Q57.8208 478.344 57.8208 482.094 Q57.8208 485.821 59.6495 487.997 Q61.5013 490.149 64.6495 490.149 Q67.7976 490.149 69.6263 487.997 Q71.4781 485.821 71.4781 482.094 Q71.4781 478.344 69.6263 476.191 Q67.7976 474.038 64.6495 474.038 M73.9318 459.386 L73.9318 463.645 Q72.1726 462.812 70.367 462.372 Q68.5846 461.932 66.8254 461.932 Q62.1958 461.932 59.7421 465.057 Q57.3115 468.182 56.9643 474.501 Q58.33 472.487 60.3902 471.423 Q62.4504 470.335 64.9272 470.335 Q70.1355 470.335 73.1448 473.506 Q76.1772 476.654 76.1772 482.094 Q76.1772 487.418 73.029 490.636 Q69.8809 493.853 64.6495 493.853 Q58.6541 493.853 55.4828 489.27 Q52.3116 484.663 52.3116 475.937 Q52.3116 467.742 56.2004 462.881 Q60.0893 457.997 66.6402 457.997 Q68.3994 457.997 70.1818 458.344 Q71.9874 458.691 73.9318 459.386 Z\" fill=\"#000000\" fill-rule=\"evenodd\" fill-opacity=\"1\" /><path clip-path=\"url(#clip460)\" d=\"M 0 0 M64.3254 218.153 Q60.9921 218.153 59.0708 219.935 Q57.1726 221.718 57.1726 224.843 Q57.1726 227.968 59.0708 229.75 Q60.9921 231.532 64.3254 231.532 Q67.6587 231.532 69.58 229.75 Q71.5013 227.944 71.5013 224.843 Q71.5013 221.718 69.58 219.935 Q67.6819 218.153 64.3254 218.153 M59.6495 216.162 Q56.6402 215.421 54.9504 213.361 Q53.2838 211.301 53.2838 208.338 Q53.2838 204.195 56.2236 201.787 Q59.1865 199.38 64.3254 199.38 Q69.4874 199.38 72.4272 201.787 Q75.367 204.195 75.367 208.338 Q75.367 211.301 73.6772 213.361 Q72.0105 215.421 69.0244 216.162 Q72.404 216.949 74.279 219.241 Q76.1772 221.532 76.1772 224.843 Q76.1772 229.866 73.0985 232.551 Q70.0429 235.236 64.3254 235.236 Q58.6078 235.236 55.5291 232.551 Q52.4736 229.866 52.4736 224.843 Q52.4736 221.532 54.3717 219.241 Q56.2699 216.949 59.6495 216.162 M57.9365 208.778 Q57.9365 211.463 59.6032 212.968 Q61.293 214.472 64.3254 214.472 Q67.3346 214.472 69.0244 212.968 Q70.7374 211.463 70.7374 208.778 Q70.7374 206.093 69.0244 204.588 Q67.3346 203.083 64.3254 203.083 Q61.293 203.083 59.6032 204.588 Q57.9365 206.093 57.9365 208.778 Z\" fill=\"#000000\" fill-rule=\"evenodd\" fill-opacity=\"1\" /><polyline clip-path=\"url(#clip462)\" style=\"stroke:#009af9; stroke-width:4; stroke-opacity:1; fill:none\" points=\"\n",
       "  175.59,1445.72 196.232,1439.4 387.102,1381.02 501.807,1345.93 598.789,1316.27 704.138,1284.05 801.261,1254.34 905.386,1222.49 1026.03,1185.59 1133.24,1152.8 \n",
       "  1227.25,1124.04 1329.75,1092.69 1432.86,1061.15 1546.86,1026.28 1655.33,993.101 1768.11,958.604 1863.05,929.565 1978.96,894.111 2087.92,860.783 2262.48,807.39 \n",
       "  2289.34,799.173 \n",
       "  \"/>\n",
       "<polyline clip-path=\"url(#clip462)\" style=\"stroke:#e26f46; stroke-width:4; stroke-opacity:1; fill:none\" points=\"\n",
       "  175.59,87.9763 196.232,100.604 387.102,217.369 501.807,287.539 598.789,346.868 704.138,411.315 801.261,470.729 905.386,534.428 1026.03,608.229 1133.24,673.815 \n",
       "  1227.25,731.328 1329.75,794.032 1432.86,857.11 1546.86,926.849 1655.33,993.205 1768.11,1062.2 1863.05,1120.28 1978.96,1191.19 2087.92,1257.84 2262.48,1364.63 \n",
       "  2289.34,1381.06 \n",
       "  \"/>\n",
       "<path clip-path=\"url(#clip460)\" d=\"\n",
       "M1976.69 276.658 L2278.07 276.658 L2278.07 95.2176 L1976.69 95.2176  Z\n",
       "  \" fill=\"#ffffff\" fill-rule=\"evenodd\" fill-opacity=\"1\"/>\n",
       "<polyline clip-path=\"url(#clip460)\" style=\"stroke:#000000; stroke-width:4; stroke-opacity:1; fill:none\" points=\"\n",
       "  1976.69,276.658 2278.07,276.658 2278.07,95.2176 1976.69,95.2176 1976.69,276.658 \n",
       "  \"/>\n",
       "<polyline clip-path=\"url(#clip460)\" style=\"stroke:#009af9; stroke-width:4; stroke-opacity:1; fill:none\" points=\"\n",
       "  2001.58,155.698 2150.95,155.698 \n",
       "  \"/>\n",
       "<path clip-path=\"url(#clip460)\" d=\"M 0 0 M2189.69 175.385 Q2187.89 180.015 2186.17 181.427 Q2184.46 182.839 2181.59 182.839 L2178.19 182.839 L2178.19 179.274 L2180.69 179.274 Q2182.45 179.274 2183.42 178.44 Q2184.39 177.607 2185.57 174.505 L2186.34 172.561 L2175.85 147.052 L2180.36 147.052 L2188.46 167.329 L2196.57 147.052 L2201.08 147.052 L2189.69 175.385 Z\" fill=\"#000000\" fill-rule=\"evenodd\" fill-opacity=\"1\" /><path clip-path=\"url(#clip460)\" d=\"M 0 0 M2208.37 169.042 L2216.01 169.042 L2216.01 142.677 L2207.7 144.343 L2207.7 140.084 L2215.96 138.418 L2220.64 138.418 L2220.64 169.042 L2228.28 169.042 L2228.28 172.978 L2208.37 172.978 L2208.37 169.042 Z\" fill=\"#000000\" fill-rule=\"evenodd\" fill-opacity=\"1\" /><polyline clip-path=\"url(#clip460)\" style=\"stroke:#e26f46; stroke-width:4; stroke-opacity:1; fill:none\" points=\"\n",
       "  2001.58,216.178 2150.95,216.178 \n",
       "  \"/>\n",
       "<path clip-path=\"url(#clip460)\" d=\"M 0 0 M2189.69 235.865 Q2187.89 240.495 2186.17 241.907 Q2184.46 243.319 2181.59 243.319 L2178.19 243.319 L2178.19 239.754 L2180.69 239.754 Q2182.45 239.754 2183.42 238.92 Q2184.39 238.087 2185.57 234.985 L2186.34 233.041 L2175.85 207.532 L2180.36 207.532 L2188.46 227.809 L2196.57 207.532 L2201.08 207.532 L2189.69 235.865 Z\" fill=\"#000000\" fill-rule=\"evenodd\" fill-opacity=\"1\" /><path clip-path=\"url(#clip460)\" d=\"M 0 0 M2211.59 229.522 L2227.91 229.522 L2227.91 233.458 L2205.96 233.458 L2205.96 229.522 Q2208.63 226.768 2213.21 222.138 Q2217.82 217.485 2219 216.143 Q2221.24 213.62 2222.12 211.884 Q2223.02 210.124 2223.02 208.435 Q2223.02 205.68 2221.08 203.944 Q2219.16 202.208 2216.06 202.208 Q2213.86 202.208 2211.4 202.972 Q2208.97 203.735 2206.2 205.286 L2206.2 200.564 Q2209.02 199.43 2211.47 198.851 Q2213.93 198.273 2215.96 198.273 Q2221.33 198.273 2224.53 200.958 Q2227.72 203.643 2227.72 208.134 Q2227.72 210.263 2226.91 212.185 Q2226.13 214.083 2224.02 216.675 Q2223.44 217.347 2220.34 220.564 Q2217.24 223.759 2211.59 229.522 Z\" fill=\"#000000\" fill-rule=\"evenodd\" fill-opacity=\"1\" /></svg>\n"
      ]
     },
     "execution_count": 18,
     "metadata": {},
     "output_type": "execute_result"
    }
   ],
   "source": [
    "#now declare both of those equations as code functions y1(x) and y2(x)\n",
    "y1(x) = (-2 -x)/-2\n",
    "y2(x) = 4-x \n",
    "# your code here\n",
    "\n",
    "#Plot them on the same graph.  This shows another way to plot multiple things at once\n",
    "plot([y1,y2], -5, 5)"
   ]
  },
  {
   "cell_type": "code",
   "execution_count": 19,
   "metadata": {
    "deletable": false,
    "editable": false,
    "nbgrader": {
     "cell_type": "code",
     "checksum": "3cfbac9d48589a23d13cc73ab12780f4",
     "grade": true,
     "grade_id": "problem2test",
     "locked": true,
     "points": 5,
     "schema_version": 3,
     "solution": false,
     "task": false
    }
   },
   "outputs": [],
   "source": [
    "#Grader Cell\n",
    "@assert y1(0) == 1\n",
    "@assert y2(0) == 4"
   ]
  },
  {
   "cell_type": "markdown",
   "metadata": {
    "deletable": false,
    "editable": false,
    "nbgrader": {
     "cell_type": "markdown",
     "checksum": "fc0e17f22fa7dc8690c150ef7872c7bd",
     "grade": false,
     "grade_id": "cell-f143e1884da392e8",
     "locked": true,
     "schema_version": 3,
     "solution": false,
     "task": false
    }
   },
   "source": [
    "Now that you have plotted the system, you can find the solution as the intersection of the lines.  Pretty neat!"
   ]
  }
 ],
 "metadata": {
  "kernelspec": {
   "display_name": "Julia 1.6.1",
   "language": "julia",
   "name": "julia-1.6"
  },
  "language_info": {
   "file_extension": ".jl",
   "mimetype": "application/julia",
   "name": "julia",
   "version": "1.6.1"
  }
 },
 "nbformat": 4,
 "nbformat_minor": 4
}
