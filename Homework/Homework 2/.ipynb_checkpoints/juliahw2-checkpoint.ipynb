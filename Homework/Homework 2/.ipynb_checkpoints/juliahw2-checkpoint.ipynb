{
 "cells": [
  {
   "cell_type": "markdown",
   "metadata": {
    "deletable": false,
    "editable": false,
    "nbgrader": {
     "cell_type": "markdown",
     "checksum": "b0a00d52f24f858cfc42fa818cd86ed1",
     "grade": false,
     "grade_id": "cell-08867b481bd596ec",
     "locked": true,
     "schema_version": 3,
     "solution": false,
     "task": false
    }
   },
   "source": [
    "University of Michigan - ROB 101 Computational Linear Algebra"
   ]
  },
  {
   "cell_type": "markdown",
   "metadata": {
    "deletable": false,
    "editable": false,
    "nbgrader": {
     "cell_type": "markdown",
     "checksum": "54195e2c13d9ca879dee84a1503ff3ac",
     "grade": false,
     "grade_id": "cell-a44f049c0da7cd2c",
     "locked": true,
     "schema_version": 3,
     "solution": false,
     "task": false
    }
   },
   "source": [
    "# Homework 2: Vectors, Matrices and Linear Systems\n",
    "### Due:  9/17 at 9 PM eastern\n",
    "\n",
    "#### Purpose:  Become comfortable using vectors and matrices in code \n",
    "- Skills: \n",
    "    - Declaring vectors and matrices\n",
    "    - Indexing into vectors/matrices\n",
    "    - Writing systems of linear equations in matrix form\n",
    "- Knowledge:\n",
    "    - Matrix manipulation (central to linear algebra)\n",
    "\n",
    "#### Task: For this assignment, fill in the code blocks as directed to achieve the desired output."
   ]
  },
  {
   "cell_type": "markdown",
   "metadata": {
    "deletable": false,
    "editable": false,
    "nbgrader": {
     "cell_type": "markdown",
     "checksum": "ce36de530327851f9c727325ca0c11ab",
     "grade": false,
     "grade_id": "cell-bf63a70d72a1dbc5",
     "locked": true,
     "schema_version": 3,
     "solution": false,
     "task": false
    }
   },
   "source": [
    "### Problem 1. Creating Arrays\n",
    "### a)  Create a row vector called rowVect that contains the numbers 1 through 10"
   ]
  },
  {
   "cell_type": "code",
   "execution_count": 2,
   "metadata": {
    "deletable": false,
    "nbgrader": {
     "cell_type": "code",
     "checksum": "c6efbf6d44b26b8b479cf09b6db83062",
     "grade": false,
     "grade_id": "1a",
     "locked": false,
     "schema_version": 3,
     "solution": true,
     "task": false
    }
   },
   "outputs": [
    {
     "data": {
      "text/plain": [
       "1×10 Matrix{Int64}:\n",
       " 1  2  3  4  5  6  7  8  9  10"
      ]
     },
     "execution_count": 2,
     "metadata": {},
     "output_type": "execute_result"
    }
   ],
   "source": [
    "#output should be\n",
    "#1 2 3 4 5 6 7 8 9 10\n",
    "# your code here\n",
    "rowVec = [1 2 3 4 5 6 7 8 9 10]"
   ]
  },
  {
   "cell_type": "code",
   "execution_count": 3,
   "metadata": {
    "deletable": false,
    "editable": false,
    "nbgrader": {
     "cell_type": "code",
     "checksum": "238f254042dea9c5fde09e181a030cbc",
     "grade": true,
     "grade_id": "1aTest",
     "locked": true,
     "points": 1,
     "schema_version": 3,
     "solution": false,
     "task": false
    }
   },
   "outputs": [],
   "source": [
    "#autograder cell"
   ]
  },
  {
   "cell_type": "markdown",
   "metadata": {
    "deletable": false,
    "editable": false,
    "nbgrader": {
     "cell_type": "markdown",
     "checksum": "0dce834fe62ff223e008c6ca5f9aa29f",
     "grade": false,
     "grade_id": "cell-89a18470344b7453",
     "locked": true,
     "schema_version": 3,
     "solution": false,
     "task": false
    }
   },
   "source": [
    "### b) Create a column vector called colVect that contains the numbers 11 through 20"
   ]
  },
  {
   "cell_type": "code",
   "execution_count": 4,
   "metadata": {
    "deletable": false,
    "nbgrader": {
     "cell_type": "code",
     "checksum": "b305526d613570d99b9a6e803206ab37",
     "grade": false,
     "grade_id": "1b",
     "locked": false,
     "schema_version": 3,
     "solution": true,
     "task": false
    }
   },
   "outputs": [
    {
     "data": {
      "text/plain": [
       "10-element Vector{Int64}:\n",
       " 11\n",
       " 12\n",
       " 13\n",
       " 14\n",
       " 15\n",
       " 16\n",
       " 17\n",
       " 18\n",
       " 19\n",
       " 20"
      ]
     },
     "execution_count": 4,
     "metadata": {},
     "output_type": "execute_result"
    }
   ],
   "source": [
    "#output should be\n",
    "#11 \n",
    "#12\n",
    "#13\n",
    "#14\n",
    "#15\n",
    "#16\n",
    "#17\n",
    "#18\n",
    "#19\n",
    "#20\n",
    "\n",
    "# your code here\n",
    "colVect = [11; 12; 13; 14; 15; 16; 17; 18; 19; 20]"
   ]
  },
  {
   "cell_type": "code",
   "execution_count": 5,
   "metadata": {
    "deletable": false,
    "editable": false,
    "nbgrader": {
     "cell_type": "code",
     "checksum": "a956b013756e96ac754b6f4c784bd1be",
     "grade": true,
     "grade_id": "1bTest",
     "locked": true,
     "points": 1,
     "schema_version": 3,
     "solution": false,
     "task": false
    }
   },
   "outputs": [],
   "source": [
    "#autograder cell"
   ]
  },
  {
   "cell_type": "markdown",
   "metadata": {
    "deletable": false,
    "editable": false,
    "nbgrader": {
     "cell_type": "markdown",
     "checksum": "f35a01e7bb7267e706d4411eaa3efeef",
     "grade": false,
     "grade_id": "cell-98ad265e3acc502a",
     "locked": true,
     "schema_version": 3,
     "solution": false,
     "task": false
    }
   },
   "source": [
    "**Note: Other ways to build vectors**\n",
    "* Range notation n:k:m will start at n and take steps of size k to reach m.  Use collect(n:k:m) to make it into a vector\n",
    "* A[:] converts a matrix A to a vector\n",
    "* diag() returns the diagonal elements of a matrix as a vector"
   ]
  },
  {
   "cell_type": "markdown",
   "metadata": {
    "deletable": false,
    "editable": false,
    "nbgrader": {
     "cell_type": "markdown",
     "checksum": "71d4e71277cb61fb17973b32c528b2a6",
     "grade": false,
     "grade_id": "cell-7c51dce2bedb58c8",
     "locked": true,
     "schema_version": 3,
     "solution": false,
     "task": false
    }
   },
   "source": [
    "### Problem 2.\n",
    "Use indexing [] to return the \"panda\", and store it in a variable called myPanda.  Keep in mind that Julia indexes refer to the location in a vector."
   ]
  },
  {
   "cell_type": "code",
   "execution_count": 6,
   "metadata": {
    "deletable": false,
    "nbgrader": {
     "cell_type": "code",
     "checksum": "77be71ebb6646b058fc1a0f55ef34de6",
     "grade": false,
     "grade_id": "2",
     "locked": false,
     "schema_version": 3,
     "solution": true,
     "task": false
    }
   },
   "outputs": [
    {
     "data": {
      "text/plain": [
       "\"panda\""
      ]
     },
     "execution_count": 6,
     "metadata": {},
     "output_type": "execute_result"
    }
   ],
   "source": [
    "animalsVector = [\"lemur\", \"elephant\", \"tiger\", \"panda\", \"zebra\", \"cuttlefish\"]\n",
    "myPanda = animalsVector[4]"
   ]
  },
  {
   "cell_type": "code",
   "execution_count": 7,
   "metadata": {
    "deletable": false,
    "editable": false,
    "nbgrader": {
     "cell_type": "code",
     "checksum": "3c8089580a612aafeece4cbcec406f13",
     "grade": true,
     "grade_id": "2test",
     "locked": true,
     "points": 1,
     "schema_version": 3,
     "solution": false,
     "task": false
    }
   },
   "outputs": [],
   "source": [
    "#autograder cell\n",
    "@assert myPanda == \"panda\""
   ]
  },
  {
   "cell_type": "markdown",
   "metadata": {
    "deletable": false,
    "editable": false,
    "nbgrader": {
     "cell_type": "markdown",
     "checksum": "f0ef3485384c71597f1644ff63539815",
     "grade": false,
     "grade_id": "cell-964aa37577b2ce0c",
     "locked": true,
     "schema_version": 3,
     "solution": false,
     "task": false
    }
   },
   "source": [
    "### Problem 3. Special Matrix commands\n",
    "### a) Create a matrix called zeroMat of zeros with 4 rows and 7 columns"
   ]
  },
  {
   "cell_type": "code",
   "execution_count": 8,
   "metadata": {
    "deletable": false,
    "nbgrader": {
     "cell_type": "code",
     "checksum": "cd692719b6dec7868adf7ea3d164fc04",
     "grade": false,
     "grade_id": "3a",
     "locked": false,
     "schema_version": 3,
     "solution": true,
     "task": false
    }
   },
   "outputs": [
    {
     "data": {
      "text/plain": [
       "4×7 Matrix{Float64}:\n",
       " 0.0  0.0  0.0  0.0  0.0  0.0  0.0\n",
       " 0.0  0.0  0.0  0.0  0.0  0.0  0.0\n",
       " 0.0  0.0  0.0  0.0  0.0  0.0  0.0\n",
       " 0.0  0.0  0.0  0.0  0.0  0.0  0.0"
      ]
     },
     "execution_count": 8,
     "metadata": {},
     "output_type": "execute_result"
    }
   ],
   "source": [
    "#Hint: see note below for a shortcut method\n",
    "zeroMat = zeros(4, 7)"
   ]
  },
  {
   "cell_type": "code",
   "execution_count": 9,
   "metadata": {
    "deletable": false,
    "editable": false,
    "nbgrader": {
     "cell_type": "code",
     "checksum": "e0f9b37215df3f1477ac4327951a5fec",
     "grade": true,
     "grade_id": "3aTest",
     "locked": true,
     "points": 1,
     "schema_version": 3,
     "solution": false,
     "task": false
    }
   },
   "outputs": [],
   "source": [
    "#autograder cell"
   ]
  },
  {
   "cell_type": "markdown",
   "metadata": {
    "deletable": false,
    "editable": false,
    "nbgrader": {
     "cell_type": "markdown",
     "checksum": "df6d186f052e0135c18aa0045128e886",
     "grade": false,
     "grade_id": "cell-72f9193d4b480df3",
     "locked": true,
     "schema_version": 3,
     "solution": false,
     "task": false
    }
   },
   "source": [
    "### b) Create a matrix(A) of random numbers from a standard normal distribution that will return (17, 8) from the autograder cell"
   ]
  },
  {
   "cell_type": "code",
   "execution_count": 10,
   "metadata": {
    "deletable": false,
    "nbgrader": {
     "cell_type": "code",
     "checksum": "5a0d30a41e1e98be2fd99a96aab9ce0c",
     "grade": false,
     "grade_id": "3b",
     "locked": false,
     "schema_version": 3,
     "solution": true,
     "task": false
    }
   },
   "outputs": [
    {
     "data": {
      "text/plain": [
       "17×8 Matrix{Float64}:\n",
       " -0.966746   -0.0314179   0.0872336  …   0.1582      0.539819    0.142324\n",
       " -0.627365   -0.892082   -1.88743        0.268466    0.63284    -0.0306105\n",
       "  0.652829   -0.602144    0.376335       0.297652    1.50593     0.0780937\n",
       "  0.475926   -1.15685    -0.372348      -0.0883178   0.0872687  -0.137916\n",
       " -2.08446    -0.160856    0.169491       1.48577    -0.117661    0.548152\n",
       " -0.978689   -1.26393    -1.56778    …   2.41548    -2.14718    -1.98864\n",
       "  1.19077    -0.489648    0.335041      -0.202553   -2.01528     0.286817\n",
       "  0.63631     0.505708    0.652666      -0.0558121   0.505544    0.971427\n",
       "  0.874089   -0.983621   -0.931296       1.11575    -1.16699     0.102719\n",
       " -0.396763   -0.781476    0.981984      -1.33997    -0.259277   -0.428887\n",
       "  0.36807    -0.152835    0.332385   …   1.37686     0.900778   -1.19941\n",
       " -0.241814    1.69056    -0.761927       0.0356356   0.372541   -1.73032\n",
       " -1.29094     0.695214    0.0334433     -0.400668   -0.985904   -0.692736\n",
       " -0.34159    -0.0921732   1.01003       -0.530567    1.29377     0.649365\n",
       " -0.0587091  -0.171842   -0.80761       -0.504149    0.782194   -0.419477\n",
       " -0.67672     0.673294    0.184787   …  -0.386951    1.12845    -0.712279\n",
       " -1.95719     0.606809    0.445754      -0.0595114   0.627071   -0.336111"
      ]
     },
     "execution_count": 10,
     "metadata": {},
     "output_type": "execute_result"
    }
   ],
   "source": [
    "#Hint:  see note below \n",
    "A = randn(17, 8)"
   ]
  },
  {
   "cell_type": "code",
   "execution_count": 11,
   "metadata": {
    "deletable": false,
    "editable": false,
    "nbgrader": {
     "cell_type": "code",
     "checksum": "c392b1332b8d39c5f5905f75ecdd6dfe",
     "grade": true,
     "grade_id": "3bTest",
     "locked": true,
     "points": 1,
     "schema_version": 3,
     "solution": false,
     "task": false
    }
   },
   "outputs": [
    {
     "data": {
      "text/plain": [
       "(17, 8)"
      ]
     },
     "execution_count": 11,
     "metadata": {},
     "output_type": "execute_result"
    }
   ],
   "source": [
    "#autograder cell\n",
    "(nrow, ncol) = size(A) #do not change this line!"
   ]
  },
  {
   "cell_type": "markdown",
   "metadata": {
    "deletable": false,
    "editable": false,
    "nbgrader": {
     "cell_type": "markdown",
     "checksum": "bf9b4ec2544bb22892a7b3752627163a",
     "grade": false,
     "grade_id": "cell-1d7ffeaaf6f7aa50",
     "locked": true,
     "schema_version": 3,
     "solution": false,
     "task": false
    }
   },
   "source": [
    "**Note:  Other ways to build matrices**\n",
    "* use hcat and vcat to concatenate vectors together horizontally or vertically\n",
    "* use ones() or zeros(m, n) to create a m by n matrix of either ones or zeros\n",
    "* use Diagonal(M) to create a diagonal matrix from a vector M\n",
    "* Random functions\n",
    "    * rand(m, n) makes an m by n matrix of random numbers from a uniform distribution 0-1\n",
    "    * randn(m, n) m by n matrix from a standard normal distribution\n",
    "    * rand(X, m, n) m by n matrix of random numbers in an array X\n",
    "* use reshape(X, m, n) to turn a vector X into a matrix size m by n\n",
    "* use repeat(X, m ,n) to repeat matrix X m times in the row direction and n times in the column direction"
   ]
  },
  {
   "cell_type": "markdown",
   "metadata": {
    "deletable": false,
    "editable": false,
    "nbgrader": {
     "cell_type": "markdown",
     "checksum": "277919b4d72d309cf7d573418fac06eb",
     "grade": false,
     "grade_id": "cell-d374bbccfd0f1567",
     "locked": true,
     "schema_version": 3,
     "solution": false,
     "task": false
    }
   },
   "source": [
    "### Problem 4.  Indexing\n",
    "### a) return the biggest number in the matrix bigNumbers with indexing"
   ]
  },
  {
   "cell_type": "code",
   "execution_count": 12,
   "metadata": {
    "deletable": false,
    "nbgrader": {
     "cell_type": "code",
     "checksum": "dfb15802a6b0c9021ecbd59482cb626b",
     "grade": false,
     "grade_id": "4a",
     "locked": false,
     "schema_version": 3,
     "solution": true,
     "task": false
    }
   },
   "outputs": [
    {
     "name": "stdout",
     "output_type": "stream",
     "text": [
      "Biggest: 43635\n"
     ]
    }
   ],
   "source": [
    "bigNumbers = [1 34 6 56 7 234 6 5; 3 43635 2 35 6 234 6 23; 235 56 2 46 56 3 234 6; 87 23 8 23 9 47 0 8]\n",
    "\n",
    "#store the biggest number in a variable called biggestNum\n",
    "biggestNum = bigNumbers[2, 2]\n",
    "\n",
    "#return the biggest number \n",
    "println(\"Biggest: \", biggestNum)"
   ]
  },
  {
   "cell_type": "code",
   "execution_count": 13,
   "metadata": {
    "deletable": false,
    "editable": false,
    "nbgrader": {
     "cell_type": "code",
     "checksum": "538f83480902c7012ab1e4144fbb198d",
     "grade": true,
     "grade_id": "4aTest",
     "locked": true,
     "points": 1,
     "schema_version": 3,
     "solution": false,
     "task": false
    }
   },
   "outputs": [],
   "source": [
    "#autograder cell"
   ]
  },
  {
   "cell_type": "markdown",
   "metadata": {
    "deletable": false,
    "editable": false,
    "nbgrader": {
     "cell_type": "markdown",
     "checksum": "b8c9fcc180e7f858b4d3230753734f75",
     "grade": false,
     "grade_id": "cell-55d6d9a6ea34b13a",
     "locked": true,
     "schema_version": 3,
     "solution": false,
     "task": false
    }
   },
   "source": [
    "### b) return the column containing the biggest number as a column vector called bigColumn\n",
    "\n",
    "Hint:  In indexing, the colon : operator in place of a row or column indicates that all the rows/columns will be selected"
   ]
  },
  {
   "cell_type": "code",
   "execution_count": 14,
   "metadata": {
    "deletable": false,
    "nbgrader": {
     "cell_type": "code",
     "checksum": "a748a51afbf586303d1a8d03d786e7c8",
     "grade": false,
     "grade_id": "4b",
     "locked": false,
     "schema_version": 3,
     "solution": true,
     "task": false
    }
   },
   "outputs": [
    {
     "data": {
      "text/plain": [
       "8-element Vector{Int64}:\n",
       "     3\n",
       " 43635\n",
       "     2\n",
       "    35\n",
       "     6\n",
       "   234\n",
       "     6\n",
       "    23"
      ]
     },
     "execution_count": 14,
     "metadata": {},
     "output_type": "execute_result"
    }
   ],
   "source": [
    "#Use indexing to return bigColumn\n",
    "bigColumn = bigNumbers[2,:]"
   ]
  },
  {
   "cell_type": "code",
   "execution_count": 15,
   "metadata": {
    "deletable": false,
    "editable": false,
    "nbgrader": {
     "cell_type": "code",
     "checksum": "71864e19c907d5b840daed210012e743",
     "grade": true,
     "grade_id": "4bTest",
     "locked": true,
     "points": 1,
     "schema_version": 3,
     "solution": false,
     "task": false
    }
   },
   "outputs": [],
   "source": [
    "#autograder cell"
   ]
  },
  {
   "cell_type": "markdown",
   "metadata": {
    "deletable": false,
    "editable": false,
    "nbgrader": {
     "cell_type": "markdown",
     "checksum": "8b0bb7a6e865aec7270af43cddb525fa",
     "grade": false,
     "grade_id": "cell-91426e447e0d88ca",
     "locked": true,
     "schema_version": 3,
     "solution": false,
     "task": false
    }
   },
   "source": [
    "### c) return the row containing the biggest number as a row vector\n",
    "\n",
    "Hint:  You will probably need to transpose this vector.  Julia will automatically return a column vector, even though you are selecting a row, so you will need to transpose to convert it to a row vector with a single quote( ' ) after the vector statement.\n"
   ]
  },
  {
   "cell_type": "code",
   "execution_count": 16,
   "metadata": {
    "deletable": false,
    "editable": false,
    "nbgrader": {
     "cell_type": "code",
     "checksum": "bd4930eaee414ea1835e7f6e8d35aee8",
     "grade": false,
     "grade_id": "cell-d7d87f2ab53a0e47",
     "locked": true,
     "schema_version": 3,
     "solution": false,
     "task": false
    }
   },
   "outputs": [
    {
     "name": "stdout",
     "output_type": "stream",
     "text": [
      "Z = [1, 2, 3, 4]\n",
      "Z' = [1 2 3 4]\n"
     ]
    },
    {
     "data": {
      "text/plain": [
       "1×4 adjoint(::Vector{Int64}) with eltype Int64:\n",
       " 1  2  3  4"
      ]
     },
     "execution_count": 16,
     "metadata": {},
     "output_type": "execute_result"
    }
   ],
   "source": [
    "#Example of transposing\n",
    "Z= [1, 2, 3, 4]  #Z is a column vector\n",
    "@show Z\n",
    "@show Z'\n",
    "#Z' is a row vector"
   ]
  },
  {
   "cell_type": "code",
   "execution_count": 17,
   "metadata": {
    "deletable": false,
    "nbgrader": {
     "cell_type": "code",
     "checksum": "d92278dbd79202404015172ee2539a30",
     "grade": false,
     "grade_id": "4c",
     "locked": false,
     "schema_version": 3,
     "solution": true,
     "task": false
    }
   },
   "outputs": [
    {
     "data": {
      "text/plain": [
       "1×4 adjoint(::Vector{Int64}) with eltype Int64:\n",
       " 34  43635  56  23"
      ]
     },
     "execution_count": 17,
     "metadata": {},
     "output_type": "execute_result"
    }
   ],
   "source": [
    "#Return the row as bigRow\n",
    "bigRow = bigNumbers[:,2]'"
   ]
  },
  {
   "cell_type": "code",
   "execution_count": 18,
   "metadata": {
    "deletable": false,
    "editable": false,
    "nbgrader": {
     "cell_type": "code",
     "checksum": "c0dafd5a98e7effdd92a4989dad2075a",
     "grade": true,
     "grade_id": "4cTest",
     "locked": true,
     "points": 1,
     "schema_version": 3,
     "solution": false,
     "task": false
    }
   },
   "outputs": [],
   "source": [
    "#autograder cell"
   ]
  },
  {
   "cell_type": "markdown",
   "metadata": {
    "deletable": false,
    "editable": false,
    "nbgrader": {
     "cell_type": "markdown",
     "checksum": "5d075a5bf8395d6300457ebf89257b66",
     "grade": false,
     "grade_id": "cell-faf2c70ae8e33530",
     "locked": true,
     "schema_version": 3,
     "solution": false,
     "task": false
    }
   },
   "source": [
    "#### Elements of an Array vs Scalars\n",
    "In Julia, there is a difference in type between a 1x1 matrix and a number.  Silly and annoying, but easy to fix.  By using indexing, we can take the number out of the matrix.  We simply use matrix[1]\n",
    "\n",
    "### Problem 5.\n",
    "Extract the number from the 1x1 matrix, and put it in a variable called numberInside"
   ]
  },
  {
   "cell_type": "code",
   "execution_count": 19,
   "metadata": {
    "deletable": false,
    "nbgrader": {
     "cell_type": "code",
     "checksum": "26d9427c06eb5206c33287fb2dd98229",
     "grade": false,
     "grade_id": "5",
     "locked": false,
     "schema_version": 3,
     "solution": true,
     "task": false
    }
   },
   "outputs": [
    {
     "data": {
      "text/plain": [
       "7.01"
      ]
     },
     "execution_count": 19,
     "metadata": {},
     "output_type": "execute_result"
    }
   ],
   "source": [
    "tinyMatrix = [7.01]\n",
    "\n",
    "#output the number inside tinyMatrix into a variable of type Float64\n",
    "numberInside = tinyMatrix[1]"
   ]
  },
  {
   "cell_type": "code",
   "execution_count": 20,
   "metadata": {
    "deletable": false,
    "editable": false,
    "nbgrader": {
     "cell_type": "code",
     "checksum": "522f51742996e1c9a7399b4d90ba491d",
     "grade": true,
     "grade_id": "5test",
     "locked": true,
     "points": 0,
     "schema_version": 3,
     "solution": false,
     "task": false
    }
   },
   "outputs": [],
   "source": [
    "#autograder cell\n",
    "@assert numberInside == 7.01"
   ]
  },
  {
   "cell_type": "markdown",
   "metadata": {
    "deletable": false,
    "editable": false,
    "nbgrader": {
     "cell_type": "markdown",
     "checksum": "f40510b378aeb99cb9c8c4803f613d8d",
     "grade": false,
     "grade_id": "cell-579bb04e22065e46",
     "locked": true,
     "schema_version": 3,
     "solution": false,
     "task": false
    }
   },
   "source": [
    "### Problem 6.\n",
    "This 3 by 3 System of linear equations is from Problem 3 of the written homework.\n",
    "\n",
    "$$ 4x_1  = 8 $$\n",
    "$$  2x_1 - 10x_2 = -2 $$\n",
    "$$ x_1 + 2x_2 - x_3 = 4 $$\n",
    "\n",
    "### a) Create matrices A and b so that Ax = b represents this 3 by 3 system.  $x = \\left[x1; x2; x3\\right]$"
   ]
  },
  {
   "cell_type": "code",
   "execution_count": 21,
   "metadata": {
    "deletable": false,
    "nbgrader": {
     "cell_type": "code",
     "checksum": "079c189f3bc9e1ec8e85df05853beaa9",
     "grade": false,
     "grade_id": "6a",
     "locked": false,
     "schema_version": 3,
     "solution": true,
     "task": false
    }
   },
   "outputs": [
    {
     "data": {
      "text/plain": [
       "3×3 Matrix{Int64}:\n",
       " 4    0   0\n",
       " 2  -10   0\n",
       " 1    2  -1"
      ]
     },
     "metadata": {},
     "output_type": "display_data"
    },
    {
     "data": {
      "text/plain": [
       "3-element Vector{Int64}:\n",
       "  8\n",
       " -2\n",
       "  4"
      ]
     },
     "execution_count": 21,
     "metadata": {},
     "output_type": "execute_result"
    }
   ],
   "source": [
    "#Declare A and b\n",
    "A = [4   0  0;\n",
    "     2 -10  0;\n",
    "     1   2 -1]\n",
    "display(A)\n",
    "\n",
    "B = [8; -2; 4]"
   ]
  },
  {
   "cell_type": "code",
   "execution_count": 22,
   "metadata": {
    "deletable": false,
    "editable": false,
    "nbgrader": {
     "cell_type": "code",
     "checksum": "f4ce85664411397c3d717fe4a687d264",
     "grade": true,
     "grade_id": "6aTest",
     "locked": true,
     "points": 1,
     "schema_version": 3,
     "solution": false,
     "task": false
    }
   },
   "outputs": [],
   "source": [
    "#autograder cell"
   ]
  },
  {
   "cell_type": "markdown",
   "metadata": {
    "deletable": false,
    "editable": false,
    "nbgrader": {
     "cell_type": "markdown",
     "checksum": "5f395f39e5acdc9a9720d07efba9ea58",
     "grade": false,
     "grade_id": "cell-190b4c94d5028af8",
     "locked": true,
     "schema_version": 3,
     "solution": false,
     "task": false
    }
   },
   "source": [
    "Now that you found the matrices that define this system, the algorithm below shows how we can use forward substitution in code to solve for the x vector.  \n",
    "### b) Display the vector x in the output window with whatever method you prefer"
   ]
  },
  {
   "cell_type": "code",
   "execution_count": 23,
   "metadata": {},
   "outputs": [
    {
     "ename": "LoadError",
     "evalue": "UndefVarError: b not defined",
     "output_type": "error",
     "traceback": [
      "UndefVarError: b not defined",
      "",
      "Stacktrace:",
      " [1] top-level scope",
      "   @ In[23]:4",
      " [2] eval",
      "   @ .\\boot.jl:360 [inlined]",
      " [3] include_string(mapexpr::typeof(REPL.softscope), mod::Module, code::String, filename::String)",
      "   @ Base .\\loading.jl:1094"
     ]
    }
   ],
   "source": [
    "x = [0.0; 0.0; 0.0] #Initialize an empty x vector\n",
    "\n",
    "#This method does not scale to large problems, but it is super clear\n",
    "x[1]=b[1]/A[1,1]\n",
    "x[2]=(b[2]-A[2,1]*x[1])/A[2,2]\n",
    "x[3]=(b[3]-A[3,1]*x[1]-A[3,2]*x[2])/A[3,3]\n",
    ";\n",
    "#add a line here that will display the vector x\n",
    "display(x)"
   ]
  },
  {
   "cell_type": "markdown",
   "metadata": {
    "deletable": false,
    "editable": false,
    "nbgrader": {
     "cell_type": "markdown",
     "checksum": "ab166002335c0633a51115d3a6fb5986",
     "grade": false,
     "grade_id": "cell-27cb2516a5d65931",
     "locked": true,
     "schema_version": 3,
     "solution": false,
     "task": false
    }
   },
   "source": [
    "### Problem 7.\n",
    "**Now, modify the algorithm above to work for a 5 by 5 system.**\n",
    "\n",
    "$$ 4x_1  = 8 $$\n",
    "$$  2x_1 - 10x_2 = -2 $$\n",
    "$$ x_1 + 2x_2 - x_3 = 4 $$\n",
    "$$ 4x_1 - x_2 - 3x_3 + x_4 = 7 $$\n",
    "$$ -2x_1 + 7x_2 + x_3 - 2x_4 - 6x_5 = 12 $$\n"
   ]
  },
  {
   "cell_type": "code",
   "execution_count": 24,
   "metadata": {
    "deletable": false,
    "nbgrader": {
     "cell_type": "code",
     "checksum": "d294a76d47d0f18b504fcd37ad029880",
     "grade": false,
     "grade_id": "7a",
     "locked": false,
     "schema_version": 3,
     "solution": true,
     "task": false
    }
   },
   "outputs": [
    {
     "data": {
      "text/plain": [
       "5×5 Matrix{Int64}:\n",
       "  4    0   0   0   0\n",
       "  2  -10   0   0   0\n",
       "  1    2  -1   0   0\n",
       "  4   -1  -3   1   0\n",
       " -2    7   1  -2  -6"
      ]
     },
     "metadata": {},
     "output_type": "display_data"
    },
    {
     "data": {
      "text/plain": [
       "5-element Vector{Int64}:\n",
       "  8\n",
       " -2\n",
       "  4\n",
       "  7\n",
       " 12"
      ]
     },
     "execution_count": 24,
     "metadata": {},
     "output_type": "execute_result"
    }
   ],
   "source": [
    "#first, declare your A and b\n",
    "A = [ 4   0  0  0  0;\n",
    "      2 -10  0  0  0;\n",
    "      1   2 -1  0  0;\n",
    "      4  -1 -3  1  0;\n",
    "     -2   7  1 -2 -6]\n",
    "display(A)\n",
    "\n",
    "B = [8; -2; 4; 7; 12]"
   ]
  },
  {
   "cell_type": "code",
   "execution_count": 25,
   "metadata": {
    "deletable": false,
    "editable": false,
    "nbgrader": {
     "cell_type": "code",
     "checksum": "32803d04f32d8a0a3c177496ec55bcc6",
     "grade": true,
     "grade_id": "7aTest",
     "locked": true,
     "points": 1,
     "schema_version": 3,
     "solution": false,
     "task": false
    }
   },
   "outputs": [],
   "source": [
    "#autograder cell"
   ]
  },
  {
   "cell_type": "code",
   "execution_count": 26,
   "metadata": {
    "deletable": false,
    "nbgrader": {
     "cell_type": "code",
     "checksum": "9a30b6a5069fa62fd73fdebc79ad6eaf",
     "grade": false,
     "grade_id": "cell-99064965fc2bda65",
     "locked": false,
     "schema_version": 3,
     "solution": true,
     "task": false
    }
   },
   "outputs": [
    {
     "ename": "LoadError",
     "evalue": "UndefVarError: b not defined",
     "output_type": "error",
     "traceback": [
      "UndefVarError: b not defined",
      "",
      "Stacktrace:",
      " [1] top-level scope",
      "   @ In[26]:4",
      " [2] eval",
      "   @ .\\boot.jl:360 [inlined]",
      " [3] include_string(mapexpr::typeof(REPL.softscope), mod::Module, code::String, filename::String)",
      "   @ Base .\\loading.jl:1094"
     ]
    }
   ],
   "source": [
    "x = Vector{Float64}(undef, 5)  #this time, x will be a vector of 5 entries(this is another way to start a vector)\n",
    "\n",
    "#now, modify the algorithm to work on this 5 by 5 system by adding two more equations.\n",
    "x[1]=b[1]/A[1,1]\n",
    "x[2]=(b[2]-A[2,1]*x[1])/A[2,2]\n",
    "x[3]=(b[3]-A[3,1]*x[1]-A[3,2]*x[2])/A[3,3]\n",
    "x[4]=(b[4]-A[4,1]*x[1]-A[4,2]*x[2]-A[4,3]*x[3])/A[4,4]\n",
    "x[5]=(b[5]-A[5,1]*x[1]-A[5,2]*x[2]-A[5,3]*x[3]-A[5,4]*x[4])/A[5,5]\n",
    "\n",
    "display(x)"
   ]
  },
  {
   "cell_type": "code",
   "execution_count": 27,
   "metadata": {
    "deletable": false,
    "editable": false,
    "nbgrader": {
     "cell_type": "code",
     "checksum": "e008426b5a0a2c1626bcc9b111704a1a",
     "grade": true,
     "grade_id": "cell-1baf8eae874023ec",
     "locked": true,
     "points": 2,
     "schema_version": 3,
     "solution": false,
     "task": false
    }
   },
   "outputs": [],
   "source": [
    "#autograder cell"
   ]
  },
  {
   "cell_type": "markdown",
   "metadata": {
    "deletable": false,
    "editable": false,
    "nbgrader": {
     "cell_type": "markdown",
     "checksum": "1ceec4af110ed7fcf675bbff8565f703",
     "grade": false,
     "grade_id": "cell-5e68a9dbc0bb00c1",
     "locked": true,
     "schema_version": 3,
     "solution": false,
     "task": false
    }
   },
   "source": [
    "**That was super tedious, right? If not, then we failed. You were supposed to go, what are they thinking, there must be a better way to go about this!! Yes, there is.** \n",
    "\n",
    "### A Better Algorithm!\n",
    "\n",
    "But first, let's generate some data to set you up for success. Run the next cell. There is nothing to report. "
   ]
  },
  {
   "cell_type": "code",
   "execution_count": 28,
   "metadata": {
    "deletable": false,
    "editable": false,
    "nbgrader": {
     "cell_type": "code",
     "checksum": "4aec2414a4c40d8e09b0cad6344e7deb",
     "grade": false,
     "grade_id": "cell-ed2d6b212af83a7d",
     "locked": true,
     "schema_version": 3,
     "solution": false,
     "task": false
    }
   },
   "outputs": [
    {
     "data": {
      "text/plain": [
       "3×1 adjoint(::Matrix{Float64}) with eltype Float64:\n",
       "  15.0\n",
       "  13.6\n",
       " -21.2"
      ]
     },
     "execution_count": 28,
     "metadata": {},
     "output_type": "execute_result"
    }
   ],
   "source": [
    "# Execute this line to define A, b and x before you move on \n",
    "x = [0.0; 0.0; 0.0] #Initialize an empty x vector\n",
    "A=[4.0 2.1 1.0; -7.03 1.0/3.0 π; 2.7 -18.1 -11.11]\n",
    "b=[15.0 13.6 -21.2]'"
   ]
  },
  {
   "cell_type": "markdown",
   "metadata": {
    "deletable": false,
    "editable": false,
    "nbgrader": {
     "cell_type": "markdown",
     "checksum": "021482208220dbeedda2573e3eec4641",
     "grade": false,
     "grade_id": "cell-45ee0ee9759ed99b",
     "locked": true,
     "schema_version": 3,
     "solution": false,
     "task": false
    }
   },
   "source": [
    "**The problem with the \"steps\" in the previous cell is that each line of calculation is different from the others. That makes it hard to \"automate\", which is what programming is all about right? We humans set up the program and we let the computer automtically grind through the computations?**\n",
    "\n",
    "Let's focus on the very first line of the forward substitution method\n",
    "$$ x[1]=b[1]/A[1,1] $$\n",
    "\n",
    "Suppose that we set x to be a zero column vector with three elements \n",
    "$$ x=[0.0;0.0;0.0] $$ \n",
    "\n",
    "You know that $ A[1,:]'$ is the first ROW of the A matrix\n",
    "\n",
    "What will be the result of \n",
    "$ A[1,:] '*x $ ?\n",
    "\n",
    "Because x is the zero vector we get zero. We weren't trying to fool you, just making you admit the obvious.\n",
    "\n",
    "Hence if we could write something like\n",
    "$$ x[1]=(b[1] -  A[1,:]' *x )/A[1,1] $$\n",
    "we would get the same result as\n",
    "$$ x[1]=b[1]/A[1,1] $$\n",
    "which is the first step of forward substitution. Let's note that we have updated the value of $ x[1] $, while $ x[2] $ and $ x[3] $ remain zero. Why is this important? \n",
    "\n",
    "Well, ask yourself, what will be the result of the multiplication  of the Second row of A times x?\n",
    "$$ A[2,:] '*x $$   \n",
    "                                                \n",
    "once again, knowing that $ x[2]=0 $ and $ x[3]=0 $ ?\n",
    "\n",
    "Because only $x[1]$ is potentially non-zero, we have $A[2,1]*x[1]$\n",
    "\n",
    "Hence if we could write something like\n",
    "$$x[2]=(b[2] -  A[2,:]' *x )/A[2,2]$$\n",
    "we would get the same result as\n",
    "$$x[2]=(b[2]-A[2,1]*x[1])/A[2,2]$$\n",
    "\n",
    "Hopefully you see the pattern, if we could write something like \n",
    "$$x[3]=(b[3] -  A[3,:]' *x )/A[3,3]$$\n",
    "we'd get the same result as \n",
    "$$x[3]=(b[3]-A[3,1]*x[1]-A[3,2]*x[2])/A[3,3]$$\n",
    "\n",
    "Now, all of our lines of code look the same. Therefore, we can automate them! \n",
    "\n",
    "There is one catch, which maybe you already noted: in Julia a row vector times a column vector (of the same lengths) gives a 1x1 matrix, which is not the same thing as a scalar (that is, a number). So, we have to extract out (or slice out) that number via: \n",
    "$$ (A[k,:])' * x)[1]$$\n",
    "\n",
    "You may need to go back to the top and look at Problem 5 and tinyMatrix.\n",
    "\n",
    "In the next cell, you can run the two sets of equations and verify that we get the same answers. "
   ]
  },
  {
   "cell_type": "code",
   "execution_count": 29,
   "metadata": {
    "deletable": false,
    "editable": false,
    "nbgrader": {
     "cell_type": "code",
     "checksum": "abf873d48613389cadbfecf9e019e662",
     "grade": false,
     "grade_id": "cell-1520d7aa47428cff",
     "locked": true,
     "schema_version": 3,
     "solution": false,
     "task": false
    }
   },
   "outputs": [
    {
     "name": "stdout",
     "output_type": "stream",
     "text": [
      "x = [3.75, 119.8875, -192.49673717371743]\n",
      "xx = [3.75, 119.8875, -192.49673717371743]\n"
     ]
    },
    {
     "data": {
      "text/plain": [
       "3-element Vector{Float64}:\n",
       "    3.75\n",
       "  119.8875\n",
       " -192.49673717371743"
      ]
     },
     "execution_count": 29,
     "metadata": {},
     "output_type": "execute_result"
    }
   ],
   "source": [
    "# New way where there is a pattern\n",
    "x=[0.0;0.0;0.0]\n",
    "x[1]=(b[1]-(A[1,:]' *x)[1])/A[1,1]\n",
    "x[2]=(b[2]-(A[2,:]' *x)[1])/A[2,2]\n",
    "x[3]=(b[3]-(A[3,:]' *x)[1])/A[3,3]\n",
    "@show x\n",
    "# Old way where each line is different\n",
    "xx=[0.0;0.0;0.0]\n",
    "xx[1]=b[1]/A[1,1]\n",
    "xx[2]=(b[2]-A[2,1]*xx[1])/A[2,2]\n",
    "xx[3]=(b[3]-A[3,1]*xx[1]-A[3,2]*xx[2])/A[3,3]\n",
    "@show xx"
   ]
  },
  {
   "cell_type": "markdown",
   "metadata": {
    "deletable": false,
    "editable": false,
    "nbgrader": {
     "cell_type": "markdown",
     "checksum": "524b4c44f2036c3743fab6977e735abb",
     "grade": false,
     "grade_id": "cell-e5f8beaf0a3fc448",
     "locked": true,
     "schema_version": 3,
     "solution": false,
     "task": false
    }
   },
   "source": [
    "We're almost at a crucial point of having our first real program. **Almost!** \n",
    "\n",
    "We'll let you grind a bit more! Ouch! "
   ]
  },
  {
   "cell_type": "markdown",
   "metadata": {
    "deletable": false,
    "editable": false,
    "nbgrader": {
     "cell_type": "markdown",
     "checksum": "e34ff989dd58a81f3c9dfbe66a00b4c0",
     "grade": false,
     "grade_id": "cell-bd568625f770a7eb",
     "locked": true,
     "schema_version": 3,
     "solution": false,
     "task": false
    }
   },
   "source": [
    "### Problem 8.\n",
    "For a system of equations Ax = b that is bigger, for example, 10x10, it would make more sense to have some sort of repeating code, than to type 10 equations. We've seen that our magic common equation has the form\n",
    "\n",
    "$$x[k]=(b[k]-(A[k,:]' * x)[1])/A[k,k]$$ \n",
    "\n",
    "For this problem, we will give you a large A and b. You assume that Ax = b, and that x is a column vector with 10 entries. We'll have you MANUALLY repeat a step 10 times! (Hey, it's better than typing 10 equations!)"
   ]
  },
  {
   "cell_type": "code",
   "execution_count": 30,
   "metadata": {
    "deletable": false,
    "editable": false,
    "nbgrader": {
     "cell_type": "code",
     "checksum": "de941da3082b57032ddc2ff9df9b19ea",
     "grade": false,
     "grade_id": "cell-58b12d46e7a3a8fc",
     "locked": true,
     "schema_version": 3,
     "solution": false,
     "task": false
    }
   },
   "outputs": [
    {
     "name": "stdout",
     "output_type": "stream",
     "text": [
      "size(x) = (10, 1)\n"
     ]
    },
    {
     "data": {
      "text/plain": [
       "10×10 Matrix{Float64}:\n",
       " 0.590845  0.0        0.0        0.0        …  0.0        0.0       0.0\n",
       " 0.766797  0.0109059  0.0        0.0           0.0        0.0       0.0\n",
       " 0.566237  0.066423   0.945775   0.0           0.0        0.0       0.0\n",
       " 0.460085  0.956753   0.789904   0.0118196     0.0        0.0       0.0\n",
       " 0.794026  0.646691   0.82116    0.0460428     0.0        0.0       0.0\n",
       " 0.854147  0.112486   0.0341601  0.496169   …  0.0        0.0       0.0\n",
       " 0.200586  0.276021   0.0945445  0.732         0.0        0.0       0.0\n",
       " 0.298614  0.651664   0.314926   0.299058      0.869237   0.0       0.0\n",
       " 0.246837  0.0566425  0.12781    0.449182      0.0396356  0.110096  0.0\n",
       " 0.579672  0.842714   0.374187   0.875096      0.79041    0.834362  0.265595"
      ]
     },
     "execution_count": 30,
     "metadata": {},
     "output_type": "execute_result"
    }
   ],
   "source": [
    "#Run this cell to generate matrices A and b, and initialize x to be the correct size.  DO NOT MODIFY IT!\n",
    "#Once it is done running, you should see a 10x10 lower triangular matrix as the output\n",
    "\n",
    "using Random\n",
    "Random.seed!(1234)\n",
    "N=10; A=rand(N,N); #Builds a 10 x 10 matrix filled with randon elements, except, we fixed the \n",
    "# \"seed\" so that all of you will generate the same matrix\n",
    "\n",
    "# Make A lower triangular with one for loop and indexing\n",
    "# For now, pretend that you have not seen the command \"for\" and its friend \"end\"\n",
    "for k=1:N\n",
    "    A[k,k+1:N]=0.0* A[k,k+1:N]; #Not important to understand this line at this TIME!\n",
    "end \n",
    "b=rand(N,1); # a random column vector of size 10 x 1. Not bad.\n",
    "x=0*b; # Sets x to zero and has the same size as b\n",
    "@show size(x)\n",
    "A"
   ]
  },
  {
   "cell_type": "markdown",
   "metadata": {
    "deletable": false,
    "editable": false,
    "nbgrader": {
     "cell_type": "markdown",
     "checksum": "ccb7a9572021175e89a79c16c663f4d9",
     "grade": false,
     "grade_id": "cell-53c7b684a70f8f9c",
     "locked": true,
     "schema_version": 3,
     "solution": false,
     "task": false
    }
   },
   "source": [
    "Now, to find all the values of x, we can define an equation that looks like our  algorithm above, \n",
    "$$ x[k]=(b[k]-(A[k,:]' *x)[1])/A[k,k]  $$  \n",
    "and run it 10 times."
   ]
  },
  {
   "cell_type": "code",
   "execution_count": 1,
   "metadata": {
    "deletable": false,
    "editable": false,
    "nbgrader": {
     "cell_type": "code",
     "checksum": "6ab8cbf984169f92a76dff2ad44002cb",
     "grade": false,
     "grade_id": "cell-fd449ea46859c8d4",
     "locked": true,
     "schema_version": 3,
     "solution": false,
     "task": false
    }
   },
   "outputs": [
    {
     "data": {
      "text/plain": [
       "0"
      ]
     },
     "execution_count": 1,
     "metadata": {},
     "output_type": "execute_result"
    }
   ],
   "source": [
    "#first we need to start a counter variable to count the times that we have run the loop and so that we can index into the\n",
    "# x vector\n",
    "k = 0"
   ]
  },
  {
   "cell_type": "code",
   "execution_count": 40,
   "metadata": {
    "deletable": false,
    "editable": false,
    "nbgrader": {
     "cell_type": "code",
     "checksum": "df9ca0f0f4eaf297956e7248f915d017",
     "grade": false,
     "grade_id": "cell-158d1d9ee5f0b483",
     "locked": true,
     "schema_version": 3,
     "solution": false,
     "task": false
    }
   },
   "outputs": [
    {
     "name": "stdout",
     "output_type": "stream",
     "text": [
      "10\n",
      "31526.82702460694\n"
     ]
    }
   ],
   "source": [
    "#you will need to run this block of code for EVERY ROW of the matrix A (10 times).  \n",
    "#Each output will correspond to an entry in the x vector.  Enter them in the block below for grading.\n",
    "k = k + 1\n",
    "x[k] = (b[k]-((A[k , :]') *x)[1])/A[k,k]\n",
    "println(k)\n",
    "println(x[k])\n",
    "\n",
    "#hint: If you get a BoundsError, re-run the cell above to reset k to zero. \n",
    "#you will also need to re-run the initialization cell"
   ]
  },
  {
   "cell_type": "code",
   "execution_count": 43,
   "metadata": {},
   "outputs": [],
   "source": [
    "#Enter your results here as x1 through x10:\n",
    "x1 =  0.49263143344398524\n",
    "x2 =  21.536929225417094\n",
    "x3 =  -1.0612759585812164\n",
    "x4 =  -1648.5786315110417\n",
    "x5 =  168.90632312039932\n",
    "x6 =  2738.780179818577\n",
    "x7 =  -2596.625055854965\n",
    "x8 =  125.12377817562798\n",
    "x9 =  -7541.306397077561\n",
    "x10 = 31526.82702460694;"
   ]
  },
  {
   "cell_type": "code",
   "execution_count": 44,
   "metadata": {
    "deletable": false,
    "editable": false,
    "nbgrader": {
     "cell_type": "code",
     "checksum": "c8c8db741932c888dcfba080aee83674",
     "grade": true,
     "grade_id": "8Test",
     "locked": true,
     "points": 1,
     "schema_version": 3,
     "solution": false,
     "task": false
    }
   },
   "outputs": [],
   "source": [
    "#autograder cell"
   ]
  },
  {
   "cell_type": "markdown",
   "metadata": {
    "deletable": false,
    "editable": false,
    "nbgrader": {
     "cell_type": "markdown",
     "checksum": "38478b5eafacb401a5cf062396693058",
     "grade": false,
     "grade_id": "cell-49043136c73932e7",
     "locked": true,
     "schema_version": 3,
     "solution": false,
     "task": false
    }
   },
   "source": [
    "#### Using the inv() function of the Linear Algebra package.  \n",
    "This function takes in the matrix A and the vector b, and returns the solution vector x.  No, this is not cheating, it is checking your work!  The cell below should return the same vector as your solution to the cell above."
   ]
  },
  {
   "cell_type": "code",
   "execution_count": 45,
   "metadata": {
    "deletable": false,
    "editable": false,
    "nbgrader": {
     "cell_type": "code",
     "checksum": "eb2a1e2b787909c2a7cecdb248c547c5",
     "grade": false,
     "grade_id": "cell-7c84bf11929126a5",
     "locked": true,
     "schema_version": 3,
     "solution": false,
     "task": false
    }
   },
   "outputs": [
    {
     "data": {
      "text/plain": [
       "10×1 Matrix{Float64}:\n",
       "     0.49263143344398524\n",
       "    21.536929225417097\n",
       "    -1.0612759585812164\n",
       " -1648.5786315110427\n",
       "   168.90632312039935\n",
       "  2738.7801798185783\n",
       " -2596.62505585497\n",
       "   125.1237781756295\n",
       " -7541.306397077568\n",
       " 31526.827024606966"
      ]
     },
     "execution_count": 45,
     "metadata": {},
     "output_type": "execute_result"
    }
   ],
   "source": [
    "#Your results should match this\n",
    "using LinearAlgebra\n",
    "inv(A)*b"
   ]
  },
  {
   "cell_type": "markdown",
   "metadata": {
    "deletable": false,
    "editable": false,
    "nbgrader": {
     "cell_type": "markdown",
     "checksum": "c55cf884e6e99ba16cfb8cc1016feacb",
     "grade": false,
     "grade_id": "cell-99a64cbccc510797",
     "locked": true,
     "schema_version": 3,
     "solution": false,
     "task": false
    }
   },
   "source": [
    "#### What if, instead of running that cell over and over manually, we used a control flow operator to do it for us?  For loops are perfect for running a certain number of times, and they even keep track of the counter variable for us.\n",
    "\n",
    "### Problem 9.\n",
    "Find the solution to a 100 by 100 system! "
   ]
  },
  {
   "cell_type": "code",
   "execution_count": 46,
   "metadata": {
    "deletable": false,
    "editable": false,
    "nbgrader": {
     "cell_type": "code",
     "checksum": "4421cb2eba94505d268606fbdb2284bc",
     "grade": false,
     "grade_id": "cell-1c1ee03aefbec0b3",
     "locked": true,
     "schema_version": 3,
     "solution": false,
     "task": false
    }
   },
   "outputs": [],
   "source": [
    "# This generates the matrices A and b for a 100x100 system.  DO NOT MODIFY THIS CELL!\n",
    "\n",
    "Random.seed!(4321)\n",
    "N=100; A=rand(N,N);\n",
    "# Make A lower triangular with one for loop and indexing\n",
    "\n",
    "# This time, pay attention to \"for\" and its friend \"end\". Everything in between is repeated for k=1 all the way \n",
    "# up to k=N. How convenient is that? (Yes, we know, when we first learned this we were bowled over too!)\n",
    "\n",
    "for k=1:N  \n",
    "    A[k,k+1:N]=0.0* A[k,k+1:N]; #Not important to understand this line at this TIME!\n",
    "end \n",
    "b=rand(N,1);\n",
    "x=0*b;  #makes an x vector the same size as the b vector, but full of zeros\n"
   ]
  },
  {
   "cell_type": "code",
   "execution_count": 47,
   "metadata": {
    "deletable": false,
    "nbgrader": {
     "cell_type": "code",
     "checksum": "15e1150546f63a87a022c60d2734b24d",
     "grade": false,
     "grade_id": "9",
     "locked": false,
     "schema_version": 3,
     "solution": true,
     "task": false
    }
   },
   "outputs": [
    {
     "name": "stdout",
     "output_type": "stream",
     "text": [
      "[5.554668829441213, -0.9380519169032248, -11.253028756161012, 5.076177319791508, 10.292039809524988, -14.928634616270813, -23.696546337521674, 16.912681087610743, 13.650959835174564, -15.127404254155065]"
     ]
    }
   ],
   "source": [
    "for k=1:N\n",
    "    #fill in a line that calculates x[k]  Hint:  Look at the cell you repeated earlier\n",
    "    x[k] = (b[k]-((A[k , :]') *x)[1])/A[k,k]\n",
    "end\n",
    "print(x[1:10, 1]) #show the first 10 entries of x"
   ]
  },
  {
   "cell_type": "markdown",
   "metadata": {
    "deletable": false,
    "editable": false,
    "nbgrader": {
     "cell_type": "markdown",
     "checksum": "b5f5beeff927172910f8a0e5b056ccba",
     "grade": false,
     "grade_id": "cell-a6fdb63832bd5597",
     "locked": true,
     "schema_version": 3,
     "solution": false,
     "task": false
    }
   },
   "source": [
    "#### Check your work with the inv() function."
   ]
  },
  {
   "cell_type": "code",
   "execution_count": 48,
   "metadata": {
    "deletable": false,
    "editable": false,
    "nbgrader": {
     "cell_type": "code",
     "checksum": "c0504c7f225d8012d4f41c526924caea",
     "grade": true,
     "grade_id": "9test",
     "locked": true,
     "points": 2,
     "schema_version": 3,
     "solution": false,
     "task": false
    }
   },
   "outputs": [
    {
     "name": "stdout",
     "output_type": "stream",
     "text": [
      "[5.554668829441213, -0.9380519169032248, -11.253028756161012, 5.076177319791508, 10.292039809524988, -14.928634616270813, -23.696546337521674, 16.912681087610743, 13.650959835174564, -15.127404254155065]"
     ]
    }
   ],
   "source": [
    "#the inv() function\n",
    "ansComp = inv(A)*b\n",
    "print(x[1:10, 1])\n",
    "@assert isapprox(x, ansComp) #this function will tell us if the computer got the same values with inv() as we did with the algorithm\n",
    "#if it returns \"true\" then your algorithm worked! \n",
    "#Otherwise, try again, and make sure to re-run the cell that builds the matrices to get a fresh start."
   ]
  },
  {
   "cell_type": "markdown",
   "metadata": {},
   "source": [
    "Cheatsheets for Julia Vector and Matrix syntax\n",
    "* https://cheatsheets.quantecon.org/julia-cheatsheet.html#vectors-and-matrices\n",
    "* https://www.softcover.io/read/7b8eb7d0/juliabook/basics\n",
    "\n",
    "Documentation for the LinearAlgebra Package\n",
    "* https://docs.julialang.org/en/v1/stdlib/LinearAlgebra/"
   ]
  },
  {
   "cell_type": "code",
   "execution_count": null,
   "metadata": {},
   "outputs": [],
   "source": []
  }
 ],
 "metadata": {
  "kernelspec": {
   "display_name": "Julia 1.6.1",
   "language": "julia",
   "name": "julia-1.6"
  },
  "language_info": {
   "file_extension": ".jl",
   "mimetype": "application/julia",
   "name": "julia",
   "version": "1.6.1"
  }
 },
 "nbformat": 4,
 "nbformat_minor": 4
}
