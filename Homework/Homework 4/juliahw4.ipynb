{
 "cells": [
  {
   "cell_type": "markdown",
   "metadata": {
    "deletable": false,
    "editable": false,
    "nbgrader": {
     "cell_type": "markdown",
     "checksum": "37f18c8c3c4dee65fee2212b38037c69",
     "grade": false,
     "grade_id": "cell-e60edb8e1aaec6e2",
     "locked": true,
     "schema_version": 3,
     "solution": false,
     "task": false
    }
   },
   "source": [
    "University of Michigan - ROB 101 Computational Linear Algebra"
   ]
  },
  {
   "cell_type": "markdown",
   "metadata": {
    "deletable": false,
    "editable": false,
    "nbgrader": {
     "cell_type": "markdown",
     "checksum": "dca3bd795582e44238554759332c1c06",
     "grade": false,
     "grade_id": "cell-012f9792ee40654d",
     "locked": true,
     "schema_version": 3,
     "solution": false,
     "task": false
    }
   },
   "source": [
    "# Homework 4: Building Your Own Functions for Solving Equations\n",
    "### Due: 10/08 at 9 PM Eastern\n",
    "\n",
    "#### Purpose:\n",
    "   Up to now, we have been wrting \"scripts\", that is, a series of commands that allow us to accomplish a goal. Scripts are are great tool and a super quick way to prototype ideas. We are now going to move on to writing \"functions\", which allow us to call our operations in a much easier manner. \n",
    "\n",
    "   Another thing we'll do is some error checking. Once you have hidden your code behind a function, someone else might try to use it in a manner that will throw bugs or much worse, produce erroneous results without throwing a bug and hence without warning the user. The funny part is, that \"user\" is often us! We build a function and then we forget exactly all of the special requirements on the data that the function uses to produce an answer! \n",
    "- Skills:\n",
    "     - Writing functions\n",
    "     - Using functions\n",
    "     - Building in error checks\n",
    "- Knowledge:\n",
    "    - Learn to read error messages for detail\n",
    "    - Confidence built in writing functions\n",
    "   \n",
    "#### Task:  \n",
    "Read and execute the examples provided, then fill in code as directed to build your own functions, and then use them.\n",
    "\n",
    "### Example: Forward Substitution"
   ]
  },
  {
   "cell_type": "code",
   "execution_count": 1,
   "metadata": {
    "deletable": false,
    "editable": false,
    "nbgrader": {
     "cell_type": "code",
     "checksum": "dcfe540a65a00573df303e5f53653853",
     "grade": false,
     "grade_id": "cell-93ca00f9dfdf88be",
     "locked": true,
     "schema_version": 3,
     "solution": false,
     "task": false
    }
   },
   "outputs": [
    {
     "data": {
      "text/plain": [
       "forwardsub (generic function with 1 method)"
      ]
     },
     "execution_count": 1,
     "metadata": {},
     "output_type": "execute_result"
    }
   ],
   "source": [
    "#computes the solution x to a system Lx = b where L is a lower triangular matrix and b is a column vector\n",
    "#note the structure we have used: we being by declaring \"function\" and we end by declaring \"end\". On \n",
    "# the line before \"end\", we specify that value or values we are going to \"return\".\n",
    "# Everything in between is operating on the data passed to the function.\n",
    "\n",
    "function forwardsub(L, b)\n",
    "    # START of our computations\n",
    "    n = length(b)\n",
    "    x = Vector{Float64}(undef, n); #initialize an x vector of the correct size\n",
    "    x[1] = b[1]/L[1,1] #find the first entry of x\n",
    "    for i = 2:n #find every entry from the 2nd to the end\n",
    "        x[i]=(b[i]- (L[i,1:i-1])' *x[1:i-1] )./L[i,i] \n",
    "        #notice that we used a transpose operator to get the row of L\n",
    "    end\n",
    "    # END of our computations. \n",
    "    return x\n",
    "end\n",
    "#Everything between the function header and this last \"end\" statement\n",
    "#is essentailly the same as a script. It's that easy to build a function!"
   ]
  },
  {
   "cell_type": "code",
   "execution_count": 5,
   "metadata": {},
   "outputs": [
    {
     "data": {
      "text/plain": [
       "3-element Vector{Float64}:\n",
       " 1.0\n",
       " 2.0\n",
       " 3.0"
      ]
     },
     "execution_count": 5,
     "metadata": {},
     "output_type": "execute_result"
    }
   ],
   "source": [
    "#Here is an example where the function works!\n",
    "L = [1 0 0 ; 2 3 0; 4 5 6]\n",
    "b = [1; 8; 32]\n",
    "forwardsub(L, b)"
   ]
  },
  {
   "cell_type": "markdown",
   "metadata": {
    "deletable": false,
    "editable": false,
    "nbgrader": {
     "cell_type": "markdown",
     "checksum": "39756ba0b20eb0a4ed97c8748cdd0a5e",
     "grade": false,
     "grade_id": "cell-d94a5812884e06f7",
     "locked": true,
     "schema_version": 3,
     "solution": false,
     "task": false
    }
   },
   "source": [
    "### Problem 1.  Errors in the function\n"
   ]
  },
  {
   "cell_type": "code",
   "execution_count": 6,
   "metadata": {},
   "outputs": [
    {
     "data": {
      "text/plain": [
       "3-element Vector{Float64}:\n",
       "   0.5\n",
       "   1.0\n",
       " -Inf"
      ]
     },
     "execution_count": 6,
     "metadata": {},
     "output_type": "execute_result"
    }
   ],
   "source": [
    "#Here is one way that we can break our function:\n",
    "L = [6 0 0 ; 2 1 0; 8 5 0]\n",
    "b = [3; 2; 3]\n",
    "forwardsub(L, b)"
   ]
  },
  {
   "cell_type": "markdown",
   "metadata": {
    "deletable": false,
    "nbgrader": {
     "cell_type": "markdown",
     "checksum": "4280bd8c30ac410040c55143bbf1f371",
     "grade": true,
     "grade_id": "1a",
     "locked": false,
     "points": 1,
     "schema_version": 3,
     "solution": true,
     "task": false
    }
   },
   "source": [
    "### a) Run the cell above, then explain, in a sentence, why the error occurred\n",
    "Hint: It may help to write out the matrix L, then walk through the steps of the function\n",
    "\n",
    "Answer:\n",
    "\n",
    "The last row of L has only x1 and x2 , the x3 is zero so the system of equations only has one two unknowns. There is a division by zero in the last row while trying to find the x3 resulting in Infinity result."
   ]
  },
  {
   "cell_type": "code",
   "execution_count": 7,
   "metadata": {},
   "outputs": [
    {
     "ename": "LoadError",
     "evalue": "BoundsError: attempt to access 3×3 Matrix{Int64} at index [4, 1:3]",
     "output_type": "error",
     "traceback": [
      "BoundsError: attempt to access 3×3 Matrix{Int64} at index [4, 1:3]",
      "",
      "Stacktrace:",
      " [1] throw_boundserror(A::Matrix{Int64}, I::Tuple{Int64, UnitRange{Int64}})",
      "   @ Base .\\abstractarray.jl:651",
      " [2] checkbounds",
      "   @ .\\abstractarray.jl:616 [inlined]",
      " [3] _getindex",
      "   @ .\\multidimensional.jl:831 [inlined]",
      " [4] getindex",
      "   @ .\\abstractarray.jl:1170 [inlined]",
      " [5] forwardsub(L::Matrix{Int64}, b::Vector{Int64})",
      "   @ Main .\\In[1]:12",
      " [6] top-level scope",
      "   @ In[7]:4",
      " [7] eval",
      "   @ .\\boot.jl:360 [inlined]",
      " [8] include_string(mapexpr::typeof(REPL.softscope), mod::Module, code::String, filename::String)",
      "   @ Base .\\loading.jl:1094"
     ]
    }
   ],
   "source": [
    "#Here is another way that it could break:\n",
    "L = [5 0 0 ; 1 4 0; 7 3 2]\n",
    "b = [3; 2; 3; 4]\n",
    "forwardsub(L, b)"
   ]
  },
  {
   "cell_type": "markdown",
   "metadata": {
    "deletable": false,
    "nbgrader": {
     "cell_type": "markdown",
     "checksum": "0745aa1ae4027e40b367c96317693d28",
     "grade": true,
     "grade_id": "1b",
     "locked": false,
     "points": 1,
     "schema_version": 3,
     "solution": true,
     "task": false
    }
   },
   "source": [
    "### b) Run the cell above and explain why the error occurred\n",
    "Hint: Write the system in regular(non-matrix) notation.  We have done the first equation for you:\n",
    "\n",
    "$$5x_1 + 0x_2 + 0x_3 = 3$$ \n",
    "\n",
    "Answer:\n",
    "\n",
    "The dimentions are not appropriate. The B matrix is a column vector of with 4 elements while there are only 3 equations \"columns\" in the L matrix. This results in indexing of out of range enelmts in our algorithm."
   ]
  },
  {
   "cell_type": "code",
   "execution_count": 8,
   "metadata": {},
   "outputs": [
    {
     "name": "stdout",
     "output_type": "stream",
     "text": [
      "L = [0.1619496289112512 0.36326986232801595 0.6910169607353331; 0.1385032717390522 0.3700559311804976 0.08205602210008567; 0.6355055732000539 0.8332539255123794 0.6441883306325207]\n",
      "x = [5.390839867286872, -0.11081974215841482, -4.355171929514309]\n",
      "b = [0.8730445160270877; 0.7056394561629349; 0.5280168598206405]\n",
      "Oops!\n"
     ]
    },
    {
     "data": {
      "text/plain": [
       "3×1 Matrix{Float64}:\n",
       " -3.0497551426899285\n",
       " -0.35736808409789894\n",
       "  0.0"
      ]
     },
     "execution_count": 8,
     "metadata": {},
     "output_type": "execute_result"
    }
   ],
   "source": [
    "#The above cases produced errors, so we knew to look for a problem in the data. \n",
    "#This example will not produce an error, but it also doesn't produce the solution we expect\n",
    "using Random \n",
    "Random.seed!(4321) \n",
    "L=rand(3,3) \n",
    "b=rand(3,1) \n",
    "x=forwardsub(L, b)\n",
    "@show L\n",
    "@show x\n",
    "@show b\n",
    "\n",
    "println(\"Oops!\")\n",
    "solutionError=L*x-b"
   ]
  },
  {
   "cell_type": "markdown",
   "metadata": {
    "deletable": false,
    "nbgrader": {
     "cell_type": "markdown",
     "checksum": "13e31dea966bdde7b5f90f723777262f",
     "grade": true,
     "grade_id": "1c",
     "locked": false,
     "points": 1,
     "schema_version": 3,
     "solution": true,
     "task": false
    }
   },
   "source": [
    "### c) Run the cell above and explain why x does not satisfy Lx = b\n",
    "Hint:  You may want to add additional print statements in order to see the matrices you are using.\n",
    "\n",
    "Answer:\n",
    "\n",
    "The matrix L is nto a lower triangle matrix."
   ]
  },
  {
   "cell_type": "markdown",
   "metadata": {
    "deletable": false,
    "editable": false,
    "nbgrader": {
     "cell_type": "markdown",
     "checksum": "ceff83ae66279fe7f453e93df8c55a69",
     "grade": false,
     "grade_id": "cell-1dadc10ba3ded3d0",
     "locked": true,
     "schema_version": 3,
     "solution": false,
     "task": false
    }
   },
   "source": [
    "### Error Checking:  An example\n",
    "Above, you experienced three possible ways that this function can fail.  Let's build a few error checks into the function so that we can tell what is going wrong.  Follow along with the comments in the code below to see how we can do these checks.\n",
    "\n",
    "Now, if you go back and run the erroneous cells from above, the function will print out a more helpful error."
   ]
  },
  {
   "cell_type": "code",
   "execution_count": 9,
   "metadata": {
    "deletable": false,
    "editable": false,
    "nbgrader": {
     "cell_type": "code",
     "checksum": "c303aa0765ba025ae0925fef03e635b4",
     "grade": false,
     "grade_id": "cell-a57c518fa9b53c8e",
     "locked": true,
     "schema_version": 3,
     "solution": false,
     "task": false
    }
   },
   "outputs": [
    {
     "data": {
      "text/plain": [
       "forwardsub (generic function with 1 method)"
      ]
     },
     "execution_count": 9,
     "metadata": {},
     "output_type": "execute_result"
    }
   ],
   "source": [
    "#I copied the forwardsub function from above\n",
    "function forwardsub(L, b)\n",
    "    # Now before we start our computations, let's make sure that there will be no errors\n",
    "    n = length(b)\n",
    "    \n",
    "    #first, let's check that our inputs are the right size\n",
    "    (rows, cols) = size(L)\n",
    "    if rows != cols\n",
    "        print(\"L is not a square\")\n",
    "        return 0\n",
    "    end\n",
    "    if rows != n\n",
    "        print(\"L and b are not size compatible\")\n",
    "        return 0\n",
    "    end\n",
    "    #if we got to here, that means we have a matrix and vector of compatible sizes\n",
    "    \n",
    "    #now, let's check that L is actually lower triangular, eg: every element above the diagonal is zero\n",
    "    #also check to make sure that there are no zeros on the diagonal\n",
    "    for i in 1:n\n",
    "        for j in 1:n\n",
    "            if j > i\n",
    "                if L[i, j] != 0\n",
    "                    print(\"L is not lower triangular\")\n",
    "                    return 0\n",
    "                end\n",
    "            elseif j == i\n",
    "                if L[i, j] == 0\n",
    "                    print(\"There is a zero on the diagonal\")\n",
    "                    return 0\n",
    "                end\n",
    "            end\n",
    "        end\n",
    "    end\n",
    "                    \n",
    "    \n",
    "    #Now we can actually do the forward substitution, now that we found the arguments to be acceptable\n",
    "    \n",
    "    x = Vector{Float64}(undef, n); #initialize an x vector of the correct size\n",
    "    x[1] = b[1]/L[1,1] #find the first entry of x\n",
    "    for i = 2:n #find every entry from the 2nd to the end\n",
    "        x[i, 1] = (b[i]- (L[i,1:i-1])' *x[1:i-1] )./L[i,i] \n",
    "        #notice that we used a transpose(') operator to get the row of L\n",
    "    end\n",
    "    # END of our computations. Everything between START and END\n",
    "    # is essentailly the same as a script. It's that easy to build a function!\n",
    "    return x\n",
    "end"
   ]
  },
  {
   "cell_type": "markdown",
   "metadata": {
    "deletable": false,
    "editable": false,
    "nbgrader": {
     "cell_type": "markdown",
     "checksum": "8a20292a248861ef1118af387359214e",
     "grade": false,
     "grade_id": "cell-999927b7bf625eaf",
     "locked": true,
     "schema_version": 3,
     "solution": false,
     "task": false
    }
   },
   "source": [
    "### Problem 2.  Write a function for back substitution.\n",
    "Use the function given to you in problem 1, and section 3.5 of the ROB 101 booklet to help you construct your answer.  Think about just doing forward substitution, but backwards.  \n",
    "\n",
    "Hint:  In order to make a for loop that goes backwards, you can either use\n",
    "\n",
    "**for i in reverse(1:n)**\n",
    "\n",
    "or\n",
    "\n",
    "**for i in n:-1:1**  (where the second parameter(-1) is the step size)"
   ]
  },
  {
   "cell_type": "code",
   "execution_count": 10,
   "metadata": {
    "deletable": false,
    "nbgrader": {
     "cell_type": "code",
     "checksum": "a6e28342709f304b9e72dc2d81dfee55",
     "grade": false,
     "grade_id": "2ans",
     "locked": false,
     "schema_version": 3,
     "solution": true,
     "task": false
    },
    "tags": [
     "hide_soln"
    ]
   },
   "outputs": [
    {
     "data": {
      "text/plain": [
       "backwardsub (generic function with 1 method)"
      ]
     },
     "execution_count": 10,
     "metadata": {},
     "output_type": "execute_result"
    }
   ],
   "source": [
    "#computes the solution x to a system Ux = b where U is a lower triangular matrix and b is a column vector\n",
    "function backwardsub(U, b)\n",
    "    n = length(b)\n",
    "    x = Vector{Float64}(undef, n) #initialize an x vector of the correct size\n",
    "    \n",
    "    \n",
    "    #fill in the rest of the function here.  You should think about what the forward substitution algorithm looked like\n",
    "    # your code here\n",
    "    x[n] = b[n]/U[n,n] #find the last entry of x\n",
    "    for i in n-1:-1:1\n",
    "        x[i]=(b[i]- (U[i,i:n])' *x[i:n] )./U[i,i] \n",
    "    end\n",
    "    \n",
    "    return x\n",
    "    \n",
    "end\n",
    "    "
   ]
  },
  {
   "cell_type": "code",
   "execution_count": 11,
   "metadata": {
    "deletable": false,
    "editable": false,
    "nbgrader": {
     "cell_type": "code",
     "checksum": "de65c225c431f76f9aee604725aa2b35",
     "grade": true,
     "grade_id": "2test",
     "locked": true,
     "points": 2,
     "schema_version": 3,
     "solution": false,
     "task": false
    },
    "tags": [
     "unit_test"
    ]
   },
   "outputs": [
    {
     "data": {
      "text/plain": [
       "3-element Vector{Float64}:\n",
       " 1.0\n",
       " 2.0\n",
       " 3.0"
      ]
     },
     "execution_count": 11,
     "metadata": {},
     "output_type": "execute_result"
    }
   ],
   "source": [
    "#Unit test:  Your answer should be [1, 2, 3] --a column vector\n",
    "#Not getting what you expect?  Check to see if you are using the correct variables (L vs U)\n",
    "U = [4 5 6; 0 2 3; 0 0 1 ]\n",
    "b = [32; 13; 3]\n",
    "answer2a = backwardsub(U, b)"
   ]
  },
  {
   "cell_type": "markdown",
   "metadata": {
    "deletable": false,
    "editable": false,
    "nbgrader": {
     "cell_type": "markdown",
     "checksum": "b22bab90a4dd8383cff0b9a7a9050aa3",
     "grade": false,
     "grade_id": "cell-bc5e4970e9827764",
     "locked": true,
     "schema_version": 3,
     "solution": false,
     "task": false
    }
   },
   "source": [
    "### Problem 3.  Add Error testing, like the example from Problem 1, to your function for backwardsub\n",
    "Copy your code from problem 2, and make sure that you are checking for these errors:\n",
    "* Check that the matrix U is a square and is compatible with the size of b\n",
    "* Check that the matrix U is upper triangular\n",
    "* Check that there are no zeros on the diagonal of U\n",
    "\n",
    "**If you hit an error, print a relevant error message and return 0 to exit the function**"
   ]
  },
  {
   "cell_type": "code",
   "execution_count": 12,
   "metadata": {
    "deletable": false,
    "nbgrader": {
     "cell_type": "code",
     "checksum": "d0b201240908bc539287ed64e34257c9",
     "grade": false,
     "grade_id": "3ans",
     "locked": false,
     "schema_version": 3,
     "solution": true,
     "task": false
    },
    "tags": [
     "hide_soln"
    ]
   },
   "outputs": [
    {
     "data": {
      "text/plain": [
       "backwardsub (generic function with 1 method)"
      ]
     },
     "execution_count": 12,
     "metadata": {},
     "output_type": "execute_result"
    }
   ],
   "source": [
    "#copy your code from above, and add error checks\n",
    "#Hint:  Look at the error checking example for the forwardsub function\n",
    "\n",
    "# your code here\n",
    "function backwardsub(U, b)\n",
    "    # Now before we start our computations, let's make sure that there will be no errors\n",
    "    n = length(b)\n",
    "    \n",
    "    #first, let's check that our inputs are the right size\n",
    "    (rows, cols) = size(U)\n",
    "    if rows != cols\n",
    "        print(\"U is not a square\")\n",
    "        return 0\n",
    "    end\n",
    "    if rows != n\n",
    "        print(\"U and b are not size compatible\")\n",
    "        return 0\n",
    "    end\n",
    "    #if we got to here, that means we have a matrix and vector of compatible sizes\n",
    "    \n",
    "    #now, let's check that U is actually Upper triangular, eg: every element below the diagonal is zero\n",
    "    #also check to make sure that there are no zeros on the diagonal\n",
    "    for i in 1:n\n",
    "        for j in 1:n\n",
    "            if i > j\n",
    "                if U[i, j] != 0\n",
    "                    print(\"U is not Upper triangular\")\n",
    "                    return 0\n",
    "                end\n",
    "            elseif j == i\n",
    "                if U[i, j] == 0\n",
    "                    print(\"There is a zero on the diagonal\")\n",
    "                    return 0\n",
    "                end\n",
    "            end\n",
    "        end\n",
    "    end\n",
    "                    \n",
    "    \n",
    "    #Now we can actually do the forward substitution, now that we found the arguments to be acceptable\n",
    "    \n",
    "    x = Vector{Float64}(undef, n); #initialize an x vector of the correct size\n",
    "    x[n] = b[n]/U[n,n] #find the last entry of x\n",
    "    for i in n-1:-1:1\n",
    "        x[i]=(b[i]- (U[i,i:n])' *x[i:n] )./U[i,i] \n",
    "    end\n",
    "    # END of our computations. Everything between START and END\n",
    "    # is essentailly the same as a script. It's that easy to build a function!\n",
    "    return x\n",
    "end"
   ]
  },
  {
   "cell_type": "code",
   "execution_count": 13,
   "metadata": {
    "deletable": false,
    "editable": false,
    "nbgrader": {
     "cell_type": "code",
     "checksum": "5825196ab8cea4f6ccddb8e132e9bab5",
     "grade": true,
     "grade_id": "3test1",
     "locked": true,
     "points": 1,
     "schema_version": 3,
     "solution": false,
     "task": false
    },
    "tags": [
     "autograde_3a"
    ]
   },
   "outputs": [
    {
     "data": {
      "text/plain": [
       "3-element Vector{Float64}:\n",
       " 1.0\n",
       " 2.0\n",
       " 3.0"
      ]
     },
     "execution_count": 13,
     "metadata": {},
     "output_type": "execute_result"
    }
   ],
   "source": [
    "#The function should work here.  There should not be any error message\n",
    "U1 = [1 2 3; 0 4 5; 0 0 6]\n",
    "b1 = [14; 23; 18]\n",
    "backwardsub(U1, b1)"
   ]
  },
  {
   "cell_type": "code",
   "execution_count": 14,
   "metadata": {
    "deletable": false,
    "editable": false,
    "nbgrader": {
     "cell_type": "code",
     "checksum": "9bf48c7696a71c6b9efd0f465292999a",
     "grade": true,
     "grade_id": "3test2",
     "locked": true,
     "points": 1,
     "schema_version": 3,
     "solution": false,
     "task": false
    },
    "tags": [
     "autograde_3b"
    ]
   },
   "outputs": [
    {
     "name": "stdout",
     "output_type": "stream",
     "text": [
      "There is a zero on the diagonal"
     ]
    },
    {
     "data": {
      "text/plain": [
       "0"
      ]
     },
     "execution_count": 14,
     "metadata": {},
     "output_type": "execute_result"
    }
   ],
   "source": [
    "#You should have an error message about a zero on a diagonal\n",
    "U2 = [6 8 1 ; 0 0 3; 0 0 4]\n",
    "b2 = [3; 2; 3]\n",
    "backwardsub(U2, b2)"
   ]
  },
  {
   "cell_type": "code",
   "execution_count": 15,
   "metadata": {
    "deletable": false,
    "editable": false,
    "nbgrader": {
     "cell_type": "code",
     "checksum": "ab857f341c2161472f8148c3af613e23",
     "grade": true,
     "grade_id": "3test3",
     "locked": true,
     "points": 1,
     "schema_version": 3,
     "solution": false,
     "task": false
    },
    "tags": [
     "autograde_3c"
    ]
   },
   "outputs": [
    {
     "name": "stdout",
     "output_type": "stream",
     "text": [
      "U is not Upper triangular"
     ]
    },
    {
     "data": {
      "text/plain": [
       "0"
      ]
     },
     "execution_count": 15,
     "metadata": {},
     "output_type": "execute_result"
    }
   ],
   "source": [
    "#You should have an error message that U is not upper triangular\n",
    "U3 = [2 8 1 9; 3 0 3 9; 0 0 4 2; 0 0 0 1]\n",
    "b3 = [3; 2; 3; 1]\n",
    "backwardsub(U3, b3)"
   ]
  },
  {
   "cell_type": "code",
   "execution_count": 16,
   "metadata": {
    "deletable": false,
    "editable": false,
    "nbgrader": {
     "cell_type": "code",
     "checksum": "10f22edbfe85e146823afd453eee2156",
     "grade": true,
     "grade_id": "3test4",
     "locked": true,
     "points": 1,
     "schema_version": 3,
     "solution": false,
     "task": false
    },
    "tags": [
     "autograde_3d"
    ]
   },
   "outputs": [
    {
     "name": "stdout",
     "output_type": "stream",
     "text": [
      "U and b are not size compatible"
     ]
    },
    {
     "data": {
      "text/plain": [
       "0"
      ]
     },
     "execution_count": 16,
     "metadata": {},
     "output_type": "execute_result"
    }
   ],
   "source": [
    "#These matrices are not size compatible, your error should reflect that\n",
    "U4 = [5 4 1; 6 7 2; -7 2 1]\n",
    "b4 = [5; 1; 2; 6]\n",
    "backwardsub(U4, b4)"
   ]
  },
  {
   "cell_type": "markdown",
   "metadata": {
    "deletable": false,
    "editable": false,
    "nbgrader": {
     "cell_type": "markdown",
     "checksum": "460c5177d8b656d3ad7e1615780129fe",
     "grade": false,
     "grade_id": "cell-033d958784d856c5",
     "locked": true,
     "schema_version": 3,
     "solution": false,
     "task": false
    }
   },
   "source": [
    "### Problem 4.  LU decomposition with Permutations\n",
    "Julia has a built-in LU Factorization function. Below is an example of how to access the properties of the lu() function.  "
   ]
  },
  {
   "cell_type": "code",
   "execution_count": 17,
   "metadata": {
    "deletable": false,
    "editable": false,
    "nbgrader": {
     "cell_type": "code",
     "checksum": "fb8252354b8b72831759d53b19d17e7c",
     "grade": false,
     "grade_id": "cell-511ed2625b2054d5",
     "locked": true,
     "schema_version": 3,
     "solution": false,
     "task": false
    }
   },
   "outputs": [
    {
     "name": "stdout",
     "output_type": "stream",
     "text": [
      "L = [1.0 0.0 0.0; 0.0 1.0 0.0; 0.1 0.2 1.0]\n",
      "U = [10.0 2.0 1.0; 0.0 4.0 2.0; 0.0 0.0 0.5]\n",
      "P = [0.0 1.0 0.0; 1.0 0.0 0.0; 0.0 0.0 1.0]\n"
     ]
    },
    {
     "data": {
      "text/plain": [
       "3×3 Matrix{Float64}:\n",
       " 0.0  0.0  0.0\n",
       " 0.0  0.0  0.0\n",
       " 0.0  0.0  0.0"
      ]
     },
     "execution_count": 17,
     "metadata": {},
     "output_type": "execute_result"
    }
   ],
   "source": [
    "using LinearAlgebra\n",
    "M = [0 4 2; 10 2 1; 1 1 1 ]\n",
    "# F is a variable that holds all the data from the factorization. It contains all three matrices, L,U, and P\n",
    "F = lu(M)\n",
    "L =  F.L #lower triangular factor\n",
    "@show L\n",
    "U =  F.U #upper triangular factor\n",
    "@show U\n",
    "P = F.P #Permutation matrix\n",
    "@show P\n",
    "##properties of the factorization and a check that we know how to use it!\n",
    "Check = P*M-L*U\n",
    "#this should be a matrix of zeros if PM = LU"
   ]
  },
  {
   "cell_type": "markdown",
   "metadata": {
    "deletable": false,
    "editable": false,
    "nbgrader": {
     "cell_type": "markdown",
     "checksum": "81ebfac5c7f3c57fc0d1d5aa6403a6cd",
     "grade": false,
     "grade_id": "cell-fae5af96d05b0446",
     "locked": true,
     "schema_version": 3,
     "solution": false,
     "task": false
    }
   },
   "source": [
    "### a) Return the Lower triangular matrix of the LU decomposition of matrix G\n",
    "$$ G = \\begin{bmatrix}6&7&2&9\\\\1&-3&-5&6\\\\-8&2&-3&-4\\\\0&0&2&1\\end{bmatrix} $$"
   ]
  },
  {
   "cell_type": "code",
   "execution_count": 18,
   "metadata": {
    "deletable": false,
    "nbgrader": {
     "cell_type": "code",
     "checksum": "4bd4f34c76a5811db736020e417a2b9d",
     "grade": false,
     "grade_id": "4a",
     "locked": false,
     "schema_version": 3,
     "solution": true,
     "task": false
    },
    "tags": [
     "autograder_answer",
     "solution_hidden"
    ]
   },
   "outputs": [
    {
     "name": "stdout",
     "output_type": "stream",
     "text": [
      "L = [1.0 0.0 0.0 0.0; -0.75 1.0 0.0 0.0; -0.125 -0.3235294117647059 1.0 0.0; -0.0 0.0 -0.3665768194070081 1.0]\n",
      "U = [-8.0 2.0 -3.0 -4.0; 0.0 8.5 -0.25 6.0; 0.0 0.0 -5.455882352941177 7.4411764705882355; 0.0 0.0 0.0 3.7277628032345014]\n",
      "P = [0.0 0.0 1.0 0.0; 1.0 0.0 0.0 0.0; 0.0 1.0 0.0 0.0; 0.0 0.0 0.0 1.0]\n",
      "Check = P * G - L * U = [0.0 0.0 0.0 0.0; 0.0 0.0 0.0 0.0; 0.0 0.0 0.0 0.0; 0.0 0.0 0.0 0.0]\n"
     ]
    },
    {
     "data": {
      "text/plain": [
       "4×4 Matrix{Float64}:\n",
       "  1.0     0.0        0.0       0.0\n",
       " -0.75    1.0        0.0       0.0\n",
       " -0.125  -0.323529   1.0       0.0\n",
       " -0.0     0.0       -0.366577  1.0"
      ]
     },
     "execution_count": 18,
     "metadata": {},
     "output_type": "execute_result"
    }
   ],
   "source": [
    "#Return your answer as a variable named answer4a\n",
    "#replace the lines below with your code\n",
    "\n",
    "using LinearAlgebra\n",
    "G = [6  7  2  9; \n",
    "     1 -3 -5  6;\n",
    "    -8  2 -3 -4;\n",
    "     0  0  2  1]\n",
    "# F is a variable that holds all the data from the factorization. It contains all three matrices, L,U, and P\n",
    "F = lu(G)\n",
    "L =  F.L #lower triangular factor\n",
    "@show L\n",
    "U =  F.U #upper triangular factor\n",
    "@show U\n",
    "P = F.P #Permutation matrix\n",
    "@show P\n",
    "##properties of the factorization and a check that we know how to use it!\n",
    "@show Check = P*G-L*U;\n",
    "#this should be a matrix of zeros if PM = LU\n",
    "\n",
    "answer4a = L"
   ]
  },
  {
   "cell_type": "code",
   "execution_count": 19,
   "metadata": {
    "deletable": false,
    "editable": false,
    "nbgrader": {
     "cell_type": "code",
     "checksum": "538f83480902c7012ab1e4144fbb198d",
     "grade": true,
     "grade_id": "4aTest",
     "locked": true,
     "points": 1,
     "schema_version": 3,
     "solution": false,
     "task": false
    }
   },
   "outputs": [],
   "source": [
    "#autograder cell"
   ]
  },
  {
   "cell_type": "markdown",
   "metadata": {
    "deletable": false,
    "editable": false,
    "nbgrader": {
     "cell_type": "markdown",
     "checksum": "a9358fa5d9383971867f1cd1aafdd60a",
     "grade": false,
     "grade_id": "cell-d89e3bad3dcaca3d",
     "locked": true,
     "schema_version": 3,
     "solution": false,
     "task": false
    }
   },
   "source": [
    "### b) Return the Permutation matrix and the Upper triangular matrix of matrix C\n",
    "$$ C = \\begin{bmatrix}6&-2&8&-7&1\\\\-2&0&3&5&9\\\\9&-4&5&-1&0\\\\-8&2&-2&3&1\\\\6&0&-5&1&9\\end{bmatrix}$$"
   ]
  },
  {
   "cell_type": "code",
   "execution_count": 20,
   "metadata": {
    "deletable": false,
    "nbgrader": {
     "cell_type": "code",
     "checksum": "28627489d45f9442c54b7da120706e5f",
     "grade": false,
     "grade_id": "4b",
     "locked": false,
     "schema_version": 3,
     "solution": true,
     "task": false
    },
    "tags": [
     "autograded_answer",
     "hide_solution"
    ]
   },
   "outputs": [
    {
     "name": "stdout",
     "output_type": "stream",
     "text": [
      "L = [1.0 0.0 0.0 0.0 0.0; 0.6666666666666666 1.0 0.0 0.0 0.0; 0.6666666666666666 0.24999999999999994 1.0 0.0 0.0; -0.2222222222222222 -0.3333333333333333 0.19753086419753094 1.0 0.0; -0.8888888888888888 -0.5833333333333333 -0.35802469135802445 0.10000000000000017 1.0]\n",
      "U = [9.0 -4.0 5.0 -1.0 0.0; 0.0 2.6666666666666665 -8.333333333333332 1.6666666666666665 9.0; 0.0 0.0 6.75 -6.75 -1.2499999999999996; 0.0 0.0 0.0 6.666666666666667 12.246913580246915; 0.0 0.0 0.0 0.0 4.577777777777775]\n",
      "P = [0.0 0.0 1.0 0.0 0.0; 0.0 0.0 0.0 0.0 1.0; 1.0 0.0 0.0 0.0 0.0; 0.0 1.0 0.0 0.0 0.0; 0.0 0.0 0.0 1.0 0.0]\n",
      "Check = P * C - L * U = [0.0 0.0 0.0 0.0 0.0; 0.0 0.0 -8.881784197001252e-16 1.1102230246251565e-16 0.0; 0.0 0.0 0.0 0.0 0.0; 0.0 0.0 0.0 0.0 -1.7763568394002505e-15; 0.0 0.0 0.0 0.0 0.0]\n"
     ]
    }
   ],
   "source": [
    "#return the permutation matrix as perm4b and the upper triangular matrix as upper4b\n",
    "\n",
    "using LinearAlgebra\n",
    "C = [6 -2  8 -7 1; \n",
    "    -2  0  3  5 9;\n",
    "     9 -4  5 -1 0;\n",
    "    -8  2 -2  3 1;\n",
    "     6  0 -5  1 9]\n",
    "\n",
    "# F is a variable that holds all the data from the factorization. It contains all three matrices, L,U, and P\n",
    "F = lu(C)\n",
    "L =  F.L #lower triangular factor\n",
    "@show L\n",
    "U =  F.U #upper triangular factor\n",
    "@show U\n",
    "P = F.P #Permutation matrix\n",
    "@show P\n",
    "##properties of the factorization and a check that we know how to use it!\n",
    "@show Check = P*C-L*U;\n",
    "#this should be a matrix of zeros if PM = LU\n",
    "\n",
    "perm4b = P;\n",
    "upper4b = U;\n"
   ]
  },
  {
   "cell_type": "code",
   "execution_count": 21,
   "metadata": {
    "deletable": false,
    "editable": false,
    "nbgrader": {
     "cell_type": "code",
     "checksum": "d4c31c90c42a746904ad5968080eb680",
     "grade": true,
     "grade_id": "4bTest",
     "locked": true,
     "points": 2,
     "schema_version": 3,
     "solution": false,
     "task": false
    }
   },
   "outputs": [],
   "source": [
    "#autograder cell"
   ]
  },
  {
   "cell_type": "markdown",
   "metadata": {
    "deletable": false,
    "editable": false,
    "nbgrader": {
     "cell_type": "markdown",
     "checksum": "0773773ae090b86657e938bd925ad163",
     "grade": false,
     "grade_id": "cell-74c434fcb8819248",
     "locked": true,
     "schema_version": 3,
     "solution": false,
     "task": false
    }
   },
   "source": [
    "### Problem 5.  Use LU decompostition and forward/back substitution to solve the system of equations for x.\n",
    "$$\\begin{bmatrix}8&-18&-16&2 &0& -8& 18& 8& 12 &-20\\\\ -36& 41& 142 &21& -20 &6 -111& -106& -24& 190\\\\\n",
    "    36 &-117 &-13& 38 &-25 &-60 &63& -31& 79 &9\\\\ 32& -104& 32& 44& 26& -114 &-82& 52& 92& -130\\\\\n",
    "    24& -78& -10 &26& -46 &-30 &36 &-10& 70& -15\\\\ 12 &-19 &-70 &-43 &-48 &142& 190 &-7 &38 &64\\\\\n",
    "    16& -52& -40& 26& -136& 80& 126& 1& 69 &39\\\\ 20 &-9 &-63 &-66& 190& -129& 49& -10& -129& -199\\\\\n",
    "    -28& 51 &41 &-4 &-3 &22 &119 &-261 &-143 &383\\\\ 36 &-61 &-123 &10 &-88 &-55 &1 &113 &95 &-173\\end{bmatrix} x = \\begin{bmatrix}-1\\\\2\\\\-2\\\\8\\\\-9\\\\-7\\\\-7\\\\-2\\\\-1\\\\-5\\end{bmatrix} $$\n",
    "\n",
    "Hint: For a system $Ax = b$, if the LU decompositon without permutations is performed on A, then $LUx = b$, $Ux = y$, and $Ly = b$.  See page 49 of the ROB 101 course booklet for an example."
   ]
  },
  {
   "cell_type": "code",
   "execution_count": 22,
   "metadata": {
    "deletable": false,
    "editable": false,
    "nbgrader": {
     "cell_type": "code",
     "checksum": "889c4c392593bed6e9e3c3d9993ee4b0",
     "grade": false,
     "grade_id": "cell-8eb335eac3652b1f",
     "locked": true,
     "schema_version": 3,
     "solution": false,
     "task": false
    },
    "tags": [
     "problem_4",
     "read-only"
    ]
   },
   "outputs": [
    {
     "data": {
      "text/plain": [
       "10-element Vector{Int64}:\n",
       " -1\n",
       "  2\n",
       " -2\n",
       "  8\n",
       " -9\n",
       " -7\n",
       " -7\n",
       " -2\n",
       " -1\n",
       " -5"
      ]
     },
     "execution_count": 22,
     "metadata": {},
     "output_type": "execute_result"
    }
   ],
   "source": [
    "#Solve the problem with julia's lu() function and your forward and back substitution functions \n",
    "#Matrices A and b are declared for you\n",
    "A = [8 -18 -16 2 0 -8 18 8 12 -20; -36 41 142 21 -20 6 -111 -106 -24 190;\n",
    "    36 -117 -13 38 -25 -60 63 -31 79 9; 32 -104 32 44 26 -114 -82 52 92 -130;\n",
    "    24 -78 -10 26 -46 -30 36 -10 70 -15; 12 -19 -70 -43 -48 142 190 -7 38 64;\n",
    "    16 -52 -40 26 -136 80 126 1 69 39; 20 -9 -63 -66 190 -129 49 -10 -129 -199;\n",
    "    -28 51 41 -4 -3 22 119 -261 -143 383; 36 -61 -123 10 -88 -55 1 113 95 -173]\n",
    "b = [-1;2; -2; 8; -9; -7; -7; -2; -1; -5]"
   ]
  },
  {
   "cell_type": "code",
   "execution_count": 23,
   "metadata": {
    "deletable": false,
    "nbgrader": {
     "cell_type": "code",
     "checksum": "b8c7f118f55673aab611a348d8727cf7",
     "grade": false,
     "grade_id": "5ans",
     "locked": false,
     "schema_version": 3,
     "solution": true,
     "task": false
    },
    "tags": [
     "problem_4",
     "soln_hidden"
    ]
   },
   "outputs": [
    {
     "name": "stdout",
     "output_type": "stream",
     "text": [
      "L = [1.0 0.0 0.0 0.0 0.0 0.0 0.0 0.0 0.0 0.0; -4.5 1.0 0.0 0.0 0.0 0.0 0.0 0.0 0.0 0.0; 4.5 0.9 1.0 0.0 0.0 0.0 0.0 0.0 0.0 0.0; 4.0 0.8 -10.0 1.0 0.0 0.0 0.0 0.0 0.0 0.0; 3.0 0.6000000000000001 1.0000000000000018 -2.220446049250313e-16 1.0 0.0 0.0 0.0 0.0 0.0; 1.5 -0.2 8.0 -1.75 1.6666666666666672 1.0 0.0 0.0 0.0 0.0; 2.0 0.4 9.0 -0.25 2.6666666666666674 0.8333333333333334 1.0 0.0 0.0 0.0; 2.5 -0.9 -10.0 -0.75 -3.000000000000001 -1.6666666666666665 5.999999999999982 1.0 0.0 0.0; -3.5 0.30000000000000004 9.0 -0.75 -1.6666666666666672 -0.5 7.999999999999974 -0.6666666666666659 1.0 0.0; 4.5 -0.5 4.0 0.25 2.333333333333334 -0.9999999999999996 -6.999999999999972 -1.1842378929334998e-15 0.624999999999992 1.0]\n",
      "U = [8.0 -18.0 -16.0 2.0 0.0 -8.0 18.0 8.0 12.0 -20.0; 0.0 -40.0 70.0 30.0 -20.0 -30.0 -30.0 -70.0 30.0 100.0; 0.0 0.0 -4.0 2.0 -7.0 3.0 9.0 -4.0 -2.0 9.0; 0.0 0.0 0.0 32.0 -28.0 -28.0 -40.0 36.0 0.0 -40.0; 0.0 0.0 0.0 0.0 -26.999999999999993 8.999999999999993 -9.000000000000021 12.000000000000021 18.0 -24.00000000000003; 0.0 0.0 0.0 0.0 0.0 60.00000000000001 30.000000000000043 41.99999999999996 11.99999999999999 12.000000000000057; 0.0 0.0 0.0 0.0 0.0 0.0 10.000000000000028 -9.000000000000028 -7.000000000000005 2.0000000000000515; 0.0 0.0 0.0 0.0 0.0 0.0 0.0 54.00000000000002 -36.00000000000009 -63.0000000000003; 0.0 0.0 0.0 0.0 0.0 0.0 0.0 0.0 -24.00000000000016 79.99999999999946; 0.0 0.0 0.0 0.0 0.0 0.0 0.0 0.0 0.0 -26.999999999998668]\n",
      "CheckLU = A - L * U = [0.0 0.0 0.0 0.0 0.0 0.0 0.0 0.0 0.0 0.0; 0.0 0.0 0.0 0.0 0.0 0.0 0.0 0.0 0.0 0.0; 0.0 0.0 0.0 0.0 0.0 0.0 0.0 0.0 0.0 0.0; 0.0 0.0 0.0 0.0 0.0 0.0 0.0 0.0 0.0 0.0; 0.0 0.0 0.0 0.0 0.0 -7.105427357601002e-15 0.0 0.0 0.0 -3.552713678800501e-15; 0.0 0.0 0.0 0.0 0.0 0.0 0.0 0.0 0.0 0.0; 0.0 0.0 0.0 0.0 0.0 0.0 0.0 0.0 0.0 0.0; 0.0 0.0 0.0 0.0 0.0 0.0 0.0 -7.105427357601002e-15 0.0 0.0; 0.0 0.0 0.0 0.0 0.0 -3.552713678800501e-15 0.0 0.0 2.842170943040401e-14 0.0; 0.0 0.0 0.0 0.0 0.0 -1.4210854715202004e-14 0.0 0.0 0.0 0.0]\n",
      "x = [122.99797869786505, 214.12066452749977, 156.87527952694353, -81.54624463683945, -35.6625467798738, -186.40406197012416, 155.88988965335534, 119.30768163675955, 91.14635130887423, 40.15915423525528]\n",
      "isCorrect = isapprox(A * x, b) = true\n"
     ]
    }
   ],
   "source": [
    "using LinearAlgebra\n",
    "#Remember to use lu(M, Val(false)) in order to prevent permutations\n",
    "\n",
    "# F is a variable that holds all the data from the factorization. It contains all three matrices, L,U, and P\n",
    "L, U = lu(A, Val(false))\n",
    "@show L\n",
    "@show U\n",
    "##properties of the factorization and a check that we know how to use it!\n",
    "@show CheckLU = A-L*U;\n",
    "#this should be a matrix of zeros if PM = LU\n",
    "\n",
    "\n",
    "y = forwardsub(L, b);\n",
    "x = backwardsub(U, y);\n",
    "\n",
    "@show x\n",
    "\n",
    "@show isCorrect = isapprox(A*x, b);\n"
   ]
  },
  {
   "cell_type": "code",
   "execution_count": 24,
   "metadata": {
    "deletable": false,
    "editable": false,
    "nbgrader": {
     "cell_type": "code",
     "checksum": "d556460d60b575974837ccbd7cae04ed",
     "grade": true,
     "grade_id": "5test",
     "locked": true,
     "points": 3,
     "schema_version": 3,
     "solution": false,
     "task": false
    },
    "tags": [
     "problem_4_autograder"
    ]
   },
   "outputs": [],
   "source": [
    "#autograder cell"
   ]
  }
 ],
 "metadata": {
  "kernelspec": {
   "display_name": "Julia 1.6.1",
   "language": "julia",
   "name": "julia-1.6"
  },
  "language_info": {
   "file_extension": ".jl",
   "mimetype": "application/julia",
   "name": "julia",
   "version": "1.6.1"
  }
 },
 "nbformat": 4,
 "nbformat_minor": 4
}
