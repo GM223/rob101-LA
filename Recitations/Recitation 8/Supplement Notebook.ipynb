{
 "cells": [
  {
   "cell_type": "code",
   "execution_count": 1,
   "metadata": {},
   "outputs": [
    {
     "name": "stderr",
     "output_type": "stream",
     "text": [
      "┌ Info: Precompiling Plots [91a5bcdd-55d7-5caf-9e0b-520d859cae80]\n",
      "└ @ Base loading.jl:1317\n"
     ]
    },
    {
     "name": "stdout",
     "output_type": "stream",
     "text": [
      "Your GR installation is incomplete. Rerunning build step for GR package.\n"
     ]
    },
    {
     "name": "stderr",
     "output_type": "stream",
     "text": [
      "\u001b[91m\u001b[1mERROR: \u001b[22m\u001b[39mLoadError: LoadError: InitError: Evaluation into the closed module `GR` breaks incremental compilation because the side effects will not be permanent. This is likely due to some other module mutating `GR` with `eval` during precompilation - don't do this.\n",
      "Stacktrace:\n",
      "  [1] \u001b[0m\u001b[1meval\u001b[22m\n",
      "\u001b[90m    @ \u001b[39m\u001b[90m.\\\u001b[39m\u001b[90;4mboot.jl:360\u001b[0m\u001b[90m [inlined]\u001b[39m\n",
      "  [2] \u001b[0m\u001b[1m__init__\u001b[22m\u001b[0m\u001b[1m(\u001b[22m\u001b[0m\u001b[1m)\u001b[22m\n",
      "\u001b[90m    @ \u001b[39m\u001b[35mGR\u001b[39m \u001b[90mC:\\Users\\mujta\\.julia\\packages\\GR\\4DHy8\\src\\\u001b[39m\u001b[90;4mGR.jl:351\u001b[0m\n",
      "  [3] \u001b[0m\u001b[1m_include_from_serialized\u001b[22m\u001b[0m\u001b[1m(\u001b[22m\u001b[90mpath\u001b[39m::\u001b[0mString, \u001b[90mdepmods\u001b[39m::\u001b[0mVector\u001b[90m{Any}\u001b[39m\u001b[0m\u001b[1m)\u001b[22m\n",
      "\u001b[90m    @ \u001b[39m\u001b[90mBase\u001b[39m \u001b[90m.\\\u001b[39m\u001b[90;4mloading.jl:674\u001b[0m\n",
      "  [4] \u001b[0m\u001b[1m_require_search_from_serialized\u001b[22m\u001b[0m\u001b[1m(\u001b[22m\u001b[90mpkg\u001b[39m::\u001b[0mBase.PkgId, \u001b[90msourcepath\u001b[39m::\u001b[0mString\u001b[0m\u001b[1m)\u001b[22m\n",
      "\u001b[90m    @ \u001b[39m\u001b[90mBase\u001b[39m \u001b[90m.\\\u001b[39m\u001b[90;4mloading.jl:760\u001b[0m\n",
      "  [5] \u001b[0m\u001b[1m_require\u001b[22m\u001b[0m\u001b[1m(\u001b[22m\u001b[90mpkg\u001b[39m::\u001b[0mBase.PkgId\u001b[0m\u001b[1m)\u001b[22m\n",
      "\u001b[90m    @ \u001b[39m\u001b[90mBase\u001b[39m \u001b[90m.\\\u001b[39m\u001b[90;4mloading.jl:998\u001b[0m\n",
      "  [6] \u001b[0m\u001b[1mrequire\u001b[22m\u001b[0m\u001b[1m(\u001b[22m\u001b[90muuidkey\u001b[39m::\u001b[0mBase.PkgId\u001b[0m\u001b[1m)\u001b[22m\n",
      "\u001b[90m    @ \u001b[39m\u001b[90mBase\u001b[39m \u001b[90m.\\\u001b[39m\u001b[90;4mloading.jl:914\u001b[0m\n",
      "  [7] \u001b[0m\u001b[1mrequire\u001b[22m\u001b[0m\u001b[1m(\u001b[22m\u001b[90minto\u001b[39m::\u001b[0mModule, \u001b[90mmod\u001b[39m::\u001b[0mSymbol\u001b[0m\u001b[1m)\u001b[22m\n",
      "\u001b[90m    @ \u001b[39m\u001b[90mBase\u001b[39m \u001b[90m.\\\u001b[39m\u001b[90;4mloading.jl:901\u001b[0m\n",
      "  [8] \u001b[0m\u001b[1minclude\u001b[22m\u001b[0m\u001b[1m(\u001b[22m\u001b[90mmod\u001b[39m::\u001b[0mModule, \u001b[90m_path\u001b[39m::\u001b[0mString\u001b[0m\u001b[1m)\u001b[22m\n",
      "\u001b[90m    @ \u001b[39m\u001b[90mBase\u001b[39m \u001b[90m.\\\u001b[39m\u001b[90;4mBase.jl:386\u001b[0m\n",
      "  [9] \u001b[0m\u001b[1minclude\u001b[22m\u001b[0m\u001b[1m(\u001b[22m\u001b[90mx\u001b[39m::\u001b[0mString\u001b[0m\u001b[1m)\u001b[22m\n",
      "\u001b[90m    @ \u001b[39m\u001b[36mPlots\u001b[39m \u001b[90mC:\\Users\\mujta\\.julia\\packages\\Plots\\FKcum\\src\\\u001b[39m\u001b[90;4mPlots.jl:1\u001b[0m\n",
      " [10] top-level scope\n",
      "\u001b[90m    @ \u001b[39m\u001b[90mC:\\Users\\mujta\\.julia\\packages\\Plots\\FKcum\\src\\\u001b[39m\u001b[90;4mPlots.jl:218\u001b[0m\n",
      " [11] \u001b[0m\u001b[1minclude\u001b[22m\n",
      "\u001b[90m    @ \u001b[39m\u001b[90m.\\\u001b[39m\u001b[90;4mBase.jl:386\u001b[0m\u001b[90m [inlined]\u001b[39m\n",
      " [12] \u001b[0m\u001b[1minclude_package_for_output\u001b[22m\u001b[0m\u001b[1m(\u001b[22m\u001b[90mpkg\u001b[39m::\u001b[0mBase.PkgId, \u001b[90minput\u001b[39m::\u001b[0mString, \u001b[90mdepot_path\u001b[39m::\u001b[0mVector\u001b[90m{String}\u001b[39m, \u001b[90mdl_load_path\u001b[39m::\u001b[0mVector\u001b[90m{String}\u001b[39m, \u001b[90mload_path\u001b[39m::\u001b[0mVector\u001b[90m{String}\u001b[39m, \u001b[90mconcrete_deps\u001b[39m::\u001b[0mVector\u001b[90m{Pair{Base.PkgId, UInt64}}\u001b[39m, \u001b[90msource\u001b[39m::\u001b[0mNothing\u001b[0m\u001b[1m)\u001b[22m\n",
      "\u001b[90m    @ \u001b[39m\u001b[90mBase\u001b[39m \u001b[90m.\\\u001b[39m\u001b[90;4mloading.jl:1213\u001b[0m\n",
      " [13] top-level scope\n",
      "\u001b[90m    @ \u001b[39m\u001b[90;4mnone:1\u001b[0m\n",
      " [14] \u001b[0m\u001b[1meval\u001b[22m\n",
      "\u001b[90m    @ \u001b[39m\u001b[90m.\\\u001b[39m\u001b[90;4mboot.jl:360\u001b[0m\u001b[90m [inlined]\u001b[39m\n",
      " [15] \u001b[0m\u001b[1meval\u001b[22m\u001b[0m\u001b[1m(\u001b[22m\u001b[90mx\u001b[39m::\u001b[0mExpr\u001b[0m\u001b[1m)\u001b[22m\n",
      "\u001b[90m    @ \u001b[39m\u001b[90mBase.MainInclude\u001b[39m \u001b[90m.\\\u001b[39m\u001b[90;4mclient.jl:446\u001b[0m\n",
      " [16] top-level scope\n",
      "\u001b[90m    @ \u001b[39m\u001b[90;4mnone:1\u001b[0m\n",
      "during initialization of module GR\n",
      "in expression starting at C:\\Users\\mujta\\.julia\\packages\\Plots\\FKcum\\src\\backends\\gr.jl:6\n",
      "in expression starting at C:\\Users\\mujta\\.julia\\packages\\Plots\\FKcum\\src\\Plots.jl:1\n"
     ]
    },
    {
     "ename": "LoadError",
     "evalue": "Failed to precompile Plots [91a5bcdd-55d7-5caf-9e0b-520d859cae80] to C:\\Users\\mujta\\.julia\\compiled\\v1.6\\Plots\\jl_7A03.tmp.",
     "output_type": "error",
     "traceback": [
      "Failed to precompile Plots [91a5bcdd-55d7-5caf-9e0b-520d859cae80] to C:\\Users\\mujta\\.julia\\compiled\\v1.6\\Plots\\jl_7A03.tmp.",
      "",
      "Stacktrace:",
      " [1] error(s::String)",
      "   @ Base .\\error.jl:33",
      " [2] compilecache(pkg::Base.PkgId, path::String, internal_stderr::IJulia.IJuliaStdio{Base.PipeEndpoint}, internal_stdout::IJulia.IJuliaStdio{Base.PipeEndpoint})",
      "   @ Base .\\loading.jl:1360",
      " [3] compilecache(pkg::Base.PkgId, path::String)",
      "   @ Base .\\loading.jl:1306",
      " [4] _require(pkg::Base.PkgId)",
      "   @ Base .\\loading.jl:1021",
      " [5] require(uuidkey::Base.PkgId)",
      "   @ Base .\\loading.jl:914",
      " [6] require(into::Module, mod::Symbol)",
      "   @ Base .\\loading.jl:901",
      " [7] eval",
      "   @ .\\boot.jl:360 [inlined]",
      " [8] include_string(mapexpr::typeof(REPL.softscope), mod::Module, code::String, filename::String)",
      "   @ Base .\\loading.jl:1094"
     ]
    }
   ],
   "source": [
    "using LinearAlgebra\n",
    "using Plots\n",
    "using Interact"
   ]
  },
  {
   "cell_type": "markdown",
   "metadata": {},
   "source": [
    "# Subspaces\n"
   ]
  },
  {
   "cell_type": "code",
   "execution_count": 2,
   "metadata": {},
   "outputs": [
    {
     "ename": "LoadError",
     "evalue": "UndefVarError: plot not defined",
     "output_type": "error",
     "traceback": [
      "UndefVarError: plot not defined",
      "",
      "Stacktrace:",
      " [1] top-level scope",
      "   @ In[2]:3",
      " [2] eval",
      "   @ .\\boot.jl:360 [inlined]",
      " [3] include_string(mapexpr::typeof(REPL.softscope), mod::Module, code::String, filename::String)",
      "   @ Base .\\loading.jl:1094"
     ]
    }
   ],
   "source": [
    "X = -10:0.1:10;\n",
    "f = [X X];\n",
    "plot(f[:,1], f[:,2], framestyle = :origin)"
   ]
  },
  {
   "cell_type": "code",
   "execution_count": 3,
   "metadata": {},
   "outputs": [
    {
     "data": {
      "text/plain": [
       "25-element Vector{Vector{Float64}}:\n",
       " [-1.0, -1.0]\n",
       " [-0.5, -1.0]\n",
       " [0.0, -1.0]\n",
       " [0.5, -1.0]\n",
       " [1.0, -1.0]\n",
       " [-1.0, -0.5]\n",
       " [-0.5, -0.5]\n",
       " [0.0, -0.5]\n",
       " [0.5, -0.5]\n",
       " [1.0, -0.5]\n",
       " [-1.0, 0.0]\n",
       " [-0.5, 0.0]\n",
       " [0.0, 0.0]\n",
       " [0.5, 0.0]\n",
       " [1.0, 0.0]\n",
       " [-1.0, 0.5]\n",
       " [-0.5, 0.5]\n",
       " [0.0, 0.5]\n",
       " [0.5, 0.5]\n",
       " [1.0, 0.5]\n",
       " [-1.0, 1.0]\n",
       " [-0.5, 1.0]\n",
       " [0.0, 1.0]\n",
       " [0.5, 1.0]\n",
       " [1.0, 1.0]"
      ]
     },
     "execution_count": 3,
     "metadata": {},
     "output_type": "execute_result"
    }
   ],
   "source": [
    "XY_grid_tuple = Iterators.product(-1.:0.5:1, -1.:0.5:1);\n",
    "XY_grid = vec(collect.(XY_grid_tuple));\n",
    "X = [];\n",
    "Y = [];\n",
    "for i in 1:length(XY_grid)\n",
    "    X = [X;XY_grid[i][1]];\n",
    "    Y = [Y;XY_grid[i][2]];\n",
    "end\n",
    "XY_grid"
   ]
  },
  {
   "cell_type": "code",
   "execution_count": 4,
   "metadata": {},
   "outputs": [
    {
     "ename": "LoadError",
     "evalue": "UndefVarError: surface not defined",
     "output_type": "error",
     "traceback": [
      "UndefVarError: surface not defined",
      "",
      "Stacktrace:",
      " [1] top-level scope",
      "   @ In[4]:8",
      " [2] eval",
      "   @ .\\boot.jl:360 [inlined]",
      " [3] include_string(mapexpr::typeof(REPL.softscope), mod::Module, code::String, filename::String)",
      "   @ Base .\\loading.jl:1094"
     ]
    }
   ],
   "source": [
    "\n",
    "### EDIT VALUES ###\n",
    "a = 1;\n",
    "b = 1;\n",
    "c = 0;\n",
    "### EDIT VALUES ###\n",
    "f = [a.*X b.*Y a.*X.+b.*Y.+c]\n",
    "surface(f[:,1],f[:,2],f[:,3], framestyle = :origin)\n"
   ]
  },
  {
   "cell_type": "markdown",
   "metadata": {},
   "source": [
    "# QR Factorization"
   ]
  },
  {
   "cell_type": "code",
   "execution_count": 5,
   "metadata": {},
   "outputs": [
    {
     "data": {
      "text/plain": [
       "3×3 Matrix{Float64}:\n",
       " 1.0  0.0  2.0\n",
       " 0.0  1.0  1.0\n",
       " 0.0  1.0  3.0"
      ]
     },
     "execution_count": 5,
     "metadata": {},
     "output_type": "execute_result"
    }
   ],
   "source": [
    "Q = [1 0 0; 0 1/sqrt(2) -1/sqrt(2); 0 1/sqrt(2) 1/sqrt(2)];\n",
    "R = [1 0 2; 0 sqrt(2) 2*sqrt(2); 0 0 sqrt(2)];\n",
    "Q*R"
   ]
  },
  {
   "cell_type": "code",
   "execution_count": 6,
   "metadata": {},
   "outputs": [
    {
     "data": {
      "text/plain": [
       "3×3 Matrix{Float64}:\n",
       " 1.0  0.0  2.0\n",
       " 0.0  1.0  1.0\n",
       " 0.0  1.0  3.0"
      ]
     },
     "execution_count": 6,
     "metadata": {},
     "output_type": "execute_result"
    }
   ],
   "source": [
    "A = [1 0 2; 0 1 1; 0 1 3];\n",
    "Q = [1 0 0; 0 1/sqrt(2) -1/sqrt(2); 0 1/sqrt(2) 1/sqrt(2)];\n",
    "R = Q'*A\n",
    "Q*R"
   ]
  },
  {
   "cell_type": "code",
   "execution_count": null,
   "metadata": {},
   "outputs": [],
   "source": []
  }
 ],
 "metadata": {
  "@webio": {
   "lastCommId": "442e44053850430d9eee837b2d1141ae",
   "lastKernelId": "3bd3fd9e-45b3-41af-9fef-34842b10a946"
  },
  "kernelspec": {
   "display_name": "Julia 1.6.1",
   "language": "julia",
   "name": "julia-1.6"
  },
  "language_info": {
   "file_extension": ".jl",
   "mimetype": "application/julia",
   "name": "julia",
   "version": "1.6.1"
  }
 },
 "nbformat": 4,
 "nbformat_minor": 4
}
